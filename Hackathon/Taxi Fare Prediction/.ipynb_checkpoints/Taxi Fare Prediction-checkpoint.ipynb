{
 "cells": [
  {
   "cell_type": "markdown",
   "id": "0602b6d3",
   "metadata": {},
   "source": [
    "# Importing the libraries"
   ]
  },
  {
   "cell_type": "code",
   "execution_count": 1,
   "id": "7b2226ff",
   "metadata": {},
   "outputs": [],
   "source": [
    "import numpy as np\n",
    "import pandas as pd\n",
    "import matplotlib.pyplot as plt\n",
    "import seaborn as sns\n",
    "from warnings import filterwarnings\n",
    "filterwarnings('ignore')\n",
    "plt.rcParams['figure.figsize']=[15,8]\n"
   ]
  },
  {
   "cell_type": "markdown",
   "id": "81ecc8e8",
   "metadata": {},
   "source": [
    "# Read the Dataset"
   ]
  },
  {
   "cell_type": "code",
   "execution_count": 2,
   "id": "1be77721",
   "metadata": {},
   "outputs": [
    {
     "data": {
      "text/html": [
       "<div>\n",
       "<style scoped>\n",
       "    .dataframe tbody tr th:only-of-type {\n",
       "        vertical-align: middle;\n",
       "    }\n",
       "\n",
       "    .dataframe tbody tr th {\n",
       "        vertical-align: top;\n",
       "    }\n",
       "\n",
       "    .dataframe thead th {\n",
       "        text-align: right;\n",
       "    }\n",
       "</style>\n",
       "<table border=\"1\" class=\"dataframe\">\n",
       "  <thead>\n",
       "    <tr style=\"text-align: right;\">\n",
       "      <th></th>\n",
       "      <th>calculated_total_amount</th>\n",
       "    </tr>\n",
       "  </thead>\n",
       "  <tbody>\n",
       "    <tr>\n",
       "      <th>0</th>\n",
       "      <td>0.0</td>\n",
       "    </tr>\n",
       "    <tr>\n",
       "      <th>1</th>\n",
       "      <td>0.0</td>\n",
       "    </tr>\n",
       "    <tr>\n",
       "      <th>2</th>\n",
       "      <td>0.0</td>\n",
       "    </tr>\n",
       "    <tr>\n",
       "      <th>3</th>\n",
       "      <td>0.0</td>\n",
       "    </tr>\n",
       "    <tr>\n",
       "      <th>4</th>\n",
       "      <td>0.0</td>\n",
       "    </tr>\n",
       "  </tbody>\n",
       "</table>\n",
       "</div>"
      ],
      "text/plain": [
       "   calculated_total_amount\n",
       "0                      0.0\n",
       "1                      0.0\n",
       "2                      0.0\n",
       "3                      0.0\n",
       "4                      0.0"
      ]
     },
     "execution_count": 2,
     "metadata": {},
     "output_type": "execute_result"
    }
   ],
   "source": [
    "df  = pd.read_csv('submission.csv')\n",
    "df.head()"
   ]
  },
  {
   "cell_type": "code",
   "execution_count": 3,
   "id": "38f1274a",
   "metadata": {},
   "outputs": [
    {
     "data": {
      "text/html": [
       "<div>\n",
       "<style scoped>\n",
       "    .dataframe tbody tr th:only-of-type {\n",
       "        vertical-align: middle;\n",
       "    }\n",
       "\n",
       "    .dataframe tbody tr th {\n",
       "        vertical-align: top;\n",
       "    }\n",
       "\n",
       "    .dataframe thead th {\n",
       "        text-align: right;\n",
       "    }\n",
       "</style>\n",
       "<table border=\"1\" class=\"dataframe\">\n",
       "  <thead>\n",
       "    <tr style=\"text-align: right;\">\n",
       "      <th></th>\n",
       "      <th>trip_distance</th>\n",
       "      <th>rate_code</th>\n",
       "      <th>store_and_fwd_flag</th>\n",
       "      <th>payment_type</th>\n",
       "      <th>fare_amount</th>\n",
       "      <th>extra</th>\n",
       "      <th>mta_tax</th>\n",
       "      <th>tip_amount</th>\n",
       "      <th>tolls_amount</th>\n",
       "      <th>imp_surcharge</th>\n",
       "      <th>total_amount</th>\n",
       "      <th>pickup_location_id</th>\n",
       "      <th>dropoff_location_id</th>\n",
       "      <th>year</th>\n",
       "      <th>month</th>\n",
       "      <th>day</th>\n",
       "      <th>day_of_week</th>\n",
       "      <th>hour_of_day</th>\n",
       "      <th>trip_duration</th>\n",
       "      <th>calculated_total_amount</th>\n",
       "    </tr>\n",
       "  </thead>\n",
       "  <tbody>\n",
       "    <tr>\n",
       "      <th>0</th>\n",
       "      <td>9.01</td>\n",
       "      <td>1</td>\n",
       "      <td>N</td>\n",
       "      <td>1</td>\n",
       "      <td>26.0</td>\n",
       "      <td>0.0</td>\n",
       "      <td>0.5</td>\n",
       "      <td>8.14</td>\n",
       "      <td>5.76</td>\n",
       "      <td>0.3</td>\n",
       "      <td>40.70</td>\n",
       "      <td>262</td>\n",
       "      <td>138</td>\n",
       "      <td>2018</td>\n",
       "      <td>3</td>\n",
       "      <td>7</td>\n",
       "      <td>2</td>\n",
       "      <td>6</td>\n",
       "      <td>2131.0</td>\n",
       "      <td>24.30</td>\n",
       "    </tr>\n",
       "    <tr>\n",
       "      <th>1</th>\n",
       "      <td>0.20</td>\n",
       "      <td>1</td>\n",
       "      <td>N</td>\n",
       "      <td>1</td>\n",
       "      <td>3.0</td>\n",
       "      <td>0.0</td>\n",
       "      <td>0.5</td>\n",
       "      <td>0.75</td>\n",
       "      <td>0.00</td>\n",
       "      <td>0.3</td>\n",
       "      <td>4.55</td>\n",
       "      <td>263</td>\n",
       "      <td>236</td>\n",
       "      <td>2018</td>\n",
       "      <td>2</td>\n",
       "      <td>25</td>\n",
       "      <td>6</td>\n",
       "      <td>10</td>\n",
       "      <td>2377.0</td>\n",
       "      <td>37.40</td>\n",
       "    </tr>\n",
       "    <tr>\n",
       "      <th>2</th>\n",
       "      <td>9.65</td>\n",
       "      <td>1</td>\n",
       "      <td>N</td>\n",
       "      <td>1</td>\n",
       "      <td>41.5</td>\n",
       "      <td>0.0</td>\n",
       "      <td>0.5</td>\n",
       "      <td>9.61</td>\n",
       "      <td>5.76</td>\n",
       "      <td>0.3</td>\n",
       "      <td>57.67</td>\n",
       "      <td>138</td>\n",
       "      <td>230</td>\n",
       "      <td>2018</td>\n",
       "      <td>1</td>\n",
       "      <td>29</td>\n",
       "      <td>0</td>\n",
       "      <td>8</td>\n",
       "      <td>1286.0</td>\n",
       "      <td>30.36</td>\n",
       "    </tr>\n",
       "    <tr>\n",
       "      <th>3</th>\n",
       "      <td>9.50</td>\n",
       "      <td>1</td>\n",
       "      <td>N</td>\n",
       "      <td>1</td>\n",
       "      <td>30.0</td>\n",
       "      <td>0.5</td>\n",
       "      <td>0.5</td>\n",
       "      <td>9.25</td>\n",
       "      <td>5.76</td>\n",
       "      <td>0.3</td>\n",
       "      <td>46.31</td>\n",
       "      <td>186</td>\n",
       "      <td>138</td>\n",
       "      <td>2018</td>\n",
       "      <td>9</td>\n",
       "      <td>25</td>\n",
       "      <td>1</td>\n",
       "      <td>20</td>\n",
       "      <td>2586.0</td>\n",
       "      <td>4.30</td>\n",
       "    </tr>\n",
       "    <tr>\n",
       "      <th>4</th>\n",
       "      <td>5.80</td>\n",
       "      <td>1</td>\n",
       "      <td>N</td>\n",
       "      <td>1</td>\n",
       "      <td>21.5</td>\n",
       "      <td>0.5</td>\n",
       "      <td>0.5</td>\n",
       "      <td>4.56</td>\n",
       "      <td>0.00</td>\n",
       "      <td>0.3</td>\n",
       "      <td>27.36</td>\n",
       "      <td>162</td>\n",
       "      <td>87</td>\n",
       "      <td>2018</td>\n",
       "      <td>8</td>\n",
       "      <td>20</td>\n",
       "      <td>0</td>\n",
       "      <td>21</td>\n",
       "      <td>1575.0</td>\n",
       "      <td>23.80</td>\n",
       "    </tr>\n",
       "  </tbody>\n",
       "</table>\n",
       "</div>"
      ],
      "text/plain": [
       "   trip_distance  rate_code store_and_fwd_flag  payment_type  fare_amount  \\\n",
       "0           9.01          1                  N             1         26.0   \n",
       "1           0.20          1                  N             1          3.0   \n",
       "2           9.65          1                  N             1         41.5   \n",
       "3           9.50          1                  N             1         30.0   \n",
       "4           5.80          1                  N             1         21.5   \n",
       "\n",
       "   extra  mta_tax  tip_amount  tolls_amount  imp_surcharge  total_amount  \\\n",
       "0    0.0      0.5        8.14          5.76            0.3         40.70   \n",
       "1    0.0      0.5        0.75          0.00            0.3          4.55   \n",
       "2    0.0      0.5        9.61          5.76            0.3         57.67   \n",
       "3    0.5      0.5        9.25          5.76            0.3         46.31   \n",
       "4    0.5      0.5        4.56          0.00            0.3         27.36   \n",
       "\n",
       "   pickup_location_id  dropoff_location_id  year  month  day  day_of_week  \\\n",
       "0                 262                  138  2018      3    7            2   \n",
       "1                 263                  236  2018      2   25            6   \n",
       "2                 138                  230  2018      1   29            0   \n",
       "3                 186                  138  2018      9   25            1   \n",
       "4                 162                   87  2018      8   20            0   \n",
       "\n",
       "   hour_of_day  trip_duration  calculated_total_amount  \n",
       "0            6         2131.0                    24.30  \n",
       "1           10         2377.0                    37.40  \n",
       "2            8         1286.0                    30.36  \n",
       "3           20         2586.0                     4.30  \n",
       "4           21         1575.0                    23.80  "
      ]
     },
     "execution_count": 3,
     "metadata": {},
     "output_type": "execute_result"
    }
   ],
   "source": [
    "train= pd.read_csv('train.csv')\n",
    "train.head()"
   ]
  },
  {
   "cell_type": "code",
   "execution_count": 4,
   "id": "606e8ccd",
   "metadata": {
    "scrolled": true
   },
   "outputs": [
    {
     "data": {
      "text/html": [
       "<div>\n",
       "<style scoped>\n",
       "    .dataframe tbody tr th:only-of-type {\n",
       "        vertical-align: middle;\n",
       "    }\n",
       "\n",
       "    .dataframe tbody tr th {\n",
       "        vertical-align: top;\n",
       "    }\n",
       "\n",
       "    .dataframe thead th {\n",
       "        text-align: right;\n",
       "    }\n",
       "</style>\n",
       "<table border=\"1\" class=\"dataframe\">\n",
       "  <thead>\n",
       "    <tr style=\"text-align: right;\">\n",
       "      <th></th>\n",
       "      <th>trip_distance</th>\n",
       "      <th>rate_code</th>\n",
       "      <th>store_and_fwd_flag</th>\n",
       "      <th>payment_type</th>\n",
       "      <th>fare_amount</th>\n",
       "      <th>extra</th>\n",
       "      <th>mta_tax</th>\n",
       "      <th>tip_amount</th>\n",
       "      <th>tolls_amount</th>\n",
       "      <th>imp_surcharge</th>\n",
       "      <th>total_amount</th>\n",
       "      <th>pickup_location_id</th>\n",
       "      <th>dropoff_location_id</th>\n",
       "      <th>year</th>\n",
       "      <th>month</th>\n",
       "      <th>day</th>\n",
       "      <th>day_of_week</th>\n",
       "      <th>hour_of_day</th>\n",
       "      <th>trip_duration</th>\n",
       "    </tr>\n",
       "  </thead>\n",
       "  <tbody>\n",
       "    <tr>\n",
       "      <th>0</th>\n",
       "      <td>15.70</td>\n",
       "      <td>1</td>\n",
       "      <td>N</td>\n",
       "      <td>2</td>\n",
       "      <td>45.0</td>\n",
       "      <td>0.0</td>\n",
       "      <td>0.5</td>\n",
       "      <td>0.00</td>\n",
       "      <td>0.00</td>\n",
       "      <td>0.3</td>\n",
       "      <td>45.80</td>\n",
       "      <td>132</td>\n",
       "      <td>146</td>\n",
       "      <td>2018</td>\n",
       "      <td>10</td>\n",
       "      <td>20</td>\n",
       "      <td>5</td>\n",
       "      <td>16</td>\n",
       "      <td>3967.0</td>\n",
       "    </tr>\n",
       "    <tr>\n",
       "      <th>1</th>\n",
       "      <td>7.30</td>\n",
       "      <td>1</td>\n",
       "      <td>N</td>\n",
       "      <td>1</td>\n",
       "      <td>25.5</td>\n",
       "      <td>0.0</td>\n",
       "      <td>0.5</td>\n",
       "      <td>7.89</td>\n",
       "      <td>0.00</td>\n",
       "      <td>0.3</td>\n",
       "      <td>34.19</td>\n",
       "      <td>186</td>\n",
       "      <td>69</td>\n",
       "      <td>2018</td>\n",
       "      <td>2</td>\n",
       "      <td>24</td>\n",
       "      <td>5</td>\n",
       "      <td>15</td>\n",
       "      <td>1491.0</td>\n",
       "    </tr>\n",
       "    <tr>\n",
       "      <th>2</th>\n",
       "      <td>14.87</td>\n",
       "      <td>1</td>\n",
       "      <td>N</td>\n",
       "      <td>1</td>\n",
       "      <td>40.5</td>\n",
       "      <td>0.5</td>\n",
       "      <td>0.5</td>\n",
       "      <td>8.36</td>\n",
       "      <td>0.00</td>\n",
       "      <td>0.3</td>\n",
       "      <td>50.16</td>\n",
       "      <td>138</td>\n",
       "      <td>89</td>\n",
       "      <td>2018</td>\n",
       "      <td>9</td>\n",
       "      <td>11</td>\n",
       "      <td>1</td>\n",
       "      <td>22</td>\n",
       "      <td>1395.0</td>\n",
       "    </tr>\n",
       "    <tr>\n",
       "      <th>3</th>\n",
       "      <td>2.90</td>\n",
       "      <td>1</td>\n",
       "      <td>N</td>\n",
       "      <td>2</td>\n",
       "      <td>22.0</td>\n",
       "      <td>0.0</td>\n",
       "      <td>0.5</td>\n",
       "      <td>0.00</td>\n",
       "      <td>0.00</td>\n",
       "      <td>0.3</td>\n",
       "      <td>22.80</td>\n",
       "      <td>90</td>\n",
       "      <td>162</td>\n",
       "      <td>2018</td>\n",
       "      <td>6</td>\n",
       "      <td>7</td>\n",
       "      <td>3</td>\n",
       "      <td>11</td>\n",
       "      <td>1742.0</td>\n",
       "    </tr>\n",
       "    <tr>\n",
       "      <th>4</th>\n",
       "      <td>8.96</td>\n",
       "      <td>1</td>\n",
       "      <td>N</td>\n",
       "      <td>1</td>\n",
       "      <td>32.0</td>\n",
       "      <td>0.0</td>\n",
       "      <td>0.5</td>\n",
       "      <td>0.00</td>\n",
       "      <td>5.76</td>\n",
       "      <td>0.3</td>\n",
       "      <td>38.56</td>\n",
       "      <td>138</td>\n",
       "      <td>186</td>\n",
       "      <td>2018</td>\n",
       "      <td>4</td>\n",
       "      <td>20</td>\n",
       "      <td>4</td>\n",
       "      <td>10</td>\n",
       "      <td>1623.0</td>\n",
       "    </tr>\n",
       "  </tbody>\n",
       "</table>\n",
       "</div>"
      ],
      "text/plain": [
       "   trip_distance  rate_code store_and_fwd_flag  payment_type  fare_amount  \\\n",
       "0          15.70          1                  N             2         45.0   \n",
       "1           7.30          1                  N             1         25.5   \n",
       "2          14.87          1                  N             1         40.5   \n",
       "3           2.90          1                  N             2         22.0   \n",
       "4           8.96          1                  N             1         32.0   \n",
       "\n",
       "   extra  mta_tax  tip_amount  tolls_amount  imp_surcharge  total_amount  \\\n",
       "0    0.0      0.5        0.00          0.00            0.3         45.80   \n",
       "1    0.0      0.5        7.89          0.00            0.3         34.19   \n",
       "2    0.5      0.5        8.36          0.00            0.3         50.16   \n",
       "3    0.0      0.5        0.00          0.00            0.3         22.80   \n",
       "4    0.0      0.5        0.00          5.76            0.3         38.56   \n",
       "\n",
       "   pickup_location_id  dropoff_location_id  year  month  day  day_of_week  \\\n",
       "0                 132                  146  2018     10   20            5   \n",
       "1                 186                   69  2018      2   24            5   \n",
       "2                 138                   89  2018      9   11            1   \n",
       "3                  90                  162  2018      6    7            3   \n",
       "4                 138                  186  2018      4   20            4   \n",
       "\n",
       "   hour_of_day  trip_duration  \n",
       "0           16         3967.0  \n",
       "1           15         1491.0  \n",
       "2           22         1395.0  \n",
       "3           11         1742.0  \n",
       "4           10         1623.0  "
      ]
     },
     "execution_count": 4,
     "metadata": {},
     "output_type": "execute_result"
    }
   ],
   "source": [
    "test = pd.read_csv('test.csv')\n",
    "test.head()"
   ]
  },
  {
   "cell_type": "markdown",
   "id": "5db59c5a",
   "metadata": {},
   "source": [
    "# Check dimension of the data"
   ]
  },
  {
   "cell_type": "code",
   "execution_count": 5,
   "id": "d82e221a",
   "metadata": {},
   "outputs": [
    {
     "data": {
      "text/plain": [
       "((35000, 20), (15000, 19))"
      ]
     },
     "execution_count": 5,
     "metadata": {},
     "output_type": "execute_result"
    }
   ],
   "source": [
    "# Check dimension of the data\n",
    "train.shape,test.shape"
   ]
  },
  {
   "cell_type": "markdown",
   "id": "57227af2",
   "metadata": {},
   "source": [
    "Univariate analysis"
   ]
  },
  {
   "cell_type": "code",
   "execution_count": 6,
   "id": "efd0739b",
   "metadata": {},
   "outputs": [
    {
     "data": {
      "image/png": "[encoded data removed]",
      "text/plain": [
       "<Figure size 1080x576 with 1 Axes>"
      ]
     },
     "metadata": {
      "needs_background": "light"
     },
     "output_type": "display_data"
    }
   ],
   "source": [
    "# Target Variable\n",
    "sns.distplot(train.calculated_total_amount)\n",
    "plt.show()"
   ]
  },
  {
   "cell_type": "code",
   "execution_count": 7,
   "id": "ddf42d0a",
   "metadata": {},
   "outputs": [
    {
     "data": {
      "image/png": "[encoded data removed]",
      "text/plain": [
       "<Figure size 1080x576 with 1 Axes>"
      ]
     },
     "metadata": {
      "needs_background": "light"
     },
     "output_type": "display_data"
    }
   ],
   "source": [
    "sns.boxplot(train.calculated_total_amount)\n",
    "plt.show()"
   ]
  },
  {
   "cell_type": "raw",
   "id": "282506ac",
   "metadata": {},
   "source": [
    "Inference  -  Target variable has outliers in the data"
   ]
  },
  {
   "cell_type": "markdown",
   "id": "fec97339",
   "metadata": {},
   "source": [
    "# BaseModel : Avg of the Target"
   ]
  },
  {
   "cell_type": "code",
   "execution_count": 8,
   "id": "89e39e74",
   "metadata": {},
   "outputs": [],
   "source": [
    "predicted = train.calculated_total_amount.mean()\n",
    "submission = pd.DataFrame({\"year\":test.year,\n",
    "                           \"calculated_total_amount\":predicted})\n",
    "\n",
    "submission.to_csv(\"Basemodel.csv\",index=False)   #RMSE : 19.49345"
   ]
  },
  {
   "cell_type": "code",
   "execution_count": 9,
   "id": "52fb18f4",
   "metadata": {},
   "outputs": [
    {
     "name": "stdout",
     "output_type": "stream",
     "text": [
      "C:\\Users\\91771\n"
     ]
    }
   ],
   "source": [
    "cd"
   ]
  },
  {
   "cell_type": "code",
   "execution_count": 10,
   "id": "885adc6a",
   "metadata": {},
   "outputs": [
    {
     "data": {
      "text/plain": [
       "(15000, 2)"
      ]
     },
     "execution_count": 10,
     "metadata": {},
     "output_type": "execute_result"
    }
   ],
   "source": [
    "ss = pd.read_csv('Basemodel.csv')\n",
    "ss.shape"
   ]
  },
  {
   "cell_type": "code",
   "execution_count": 11,
   "id": "26ff19da",
   "metadata": {},
   "outputs": [
    {
     "data": {
      "text/plain": [
       "Index(['year', 'calculated_total_amount'], dtype='object')"
      ]
     },
     "execution_count": 11,
     "metadata": {},
     "output_type": "execute_result"
    }
   ],
   "source": [
    "ss.columns"
   ]
  },
  {
   "cell_type": "code",
   "execution_count": 12,
   "id": "7d15dea2",
   "metadata": {},
   "outputs": [],
   "source": [
    "ss.drop('year',axis=1,inplace=True)"
   ]
  },
  {
   "cell_type": "code",
   "execution_count": 13,
   "id": "78a11f4b",
   "metadata": {},
   "outputs": [
    {
     "data": {
      "text/plain": [
       "Index(['calculated_total_amount'], dtype='object')"
      ]
     },
     "execution_count": 13,
     "metadata": {},
     "output_type": "execute_result"
    }
   ],
   "source": [
    "ss.columns"
   ]
  },
  {
   "cell_type": "code",
   "execution_count": 14,
   "id": "32858847",
   "metadata": {},
   "outputs": [],
   "source": [
    "# List of numeric variables"
   ]
  },
  {
   "cell_type": "code",
   "execution_count": 15,
   "id": "04dfceb3",
   "metadata": {},
   "outputs": [
    {
     "data": {
      "text/plain": [
       "Index(['trip_distance', 'rate_code', 'payment_type', 'fare_amount', 'extra',\n",
       "       'mta_tax', 'tip_amount', 'tolls_amount', 'imp_surcharge',\n",
       "       'total_amount', 'pickup_location_id', 'dropoff_location_id', 'year',\n",
       "       'month', 'day', 'day_of_week', 'hour_of_day', 'trip_duration',\n",
       "       'calculated_total_amount'],\n",
       "      dtype='object')"
      ]
     },
     "execution_count": 15,
     "metadata": {},
     "output_type": "execute_result"
    }
   ],
   "source": [
    "train.select_dtypes(include=np.number).columns"
   ]
  },
  {
   "cell_type": "code",
   "execution_count": 16,
   "id": "ca8f30da",
   "metadata": {},
   "outputs": [
    {
     "data": {
      "text/plain": [
       "9"
      ]
     },
     "execution_count": 16,
     "metadata": {},
     "output_type": "execute_result"
    }
   ],
   "source": [
    "cols =['trip_distance', 'fare_amount', 'extra',\n",
    "        'tip_amount', 'tolls_amount', 'imp_surcharge',\n",
    "       'total_amount', 'trip_duration',\n",
    "       'calculated_total_amount']\n",
    "len(cols)"
   ]
  },
  {
   "cell_type": "code",
   "execution_count": 17,
   "id": "b0965f8d",
   "metadata": {
    "scrolled": true
   },
   "outputs": [
    {
     "data": {
      "image/png": "[encoded data removed]",
      "text/plain": [
       "<Figure size 1080x576 with 9 Axes>"
      ]
     },
     "metadata": {
      "needs_background": "light"
     },
     "output_type": "display_data"
    }
   ],
   "source": [
    "nrows = 2\n",
    "ncols = 5\n",
    "iterator = 1 \n",
    "for i in cols:\n",
    "    plt.subplot(nrows,ncols,iterator)\n",
    "    sns.distplot(train.loc[:,i])\n",
    "    plt.title(i)\n",
    "    iterator = iterator+1\n",
    "\n",
    "plt.tight_layout()    \n",
    "plt.show()"
   ]
  },
  {
   "cell_type": "code",
   "execution_count": 18,
   "id": "b6ae3d4f",
   "metadata": {},
   "outputs": [],
   "source": [
    " # All the numerical variables are positively skewed except imp_surge."
   ]
  },
  {
   "cell_type": "code",
   "execution_count": 19,
   "id": "6bc372ec",
   "metadata": {
    "scrolled": true
   },
   "outputs": [
    {
     "data": {
      "text/html": [
       "<div>\n",
       "<style scoped>\n",
       "    .dataframe tbody tr th:only-of-type {\n",
       "        vertical-align: middle;\n",
       "    }\n",
       "\n",
       "    .dataframe tbody tr th {\n",
       "        vertical-align: top;\n",
       "    }\n",
       "\n",
       "    .dataframe thead th {\n",
       "        text-align: right;\n",
       "    }\n",
       "</style>\n",
       "<table border=\"1\" class=\"dataframe\">\n",
       "  <thead>\n",
       "    <tr style=\"text-align: right;\">\n",
       "      <th></th>\n",
       "      <th>trip_distance</th>\n",
       "      <th>fare_amount</th>\n",
       "      <th>extra</th>\n",
       "      <th>tip_amount</th>\n",
       "      <th>tolls_amount</th>\n",
       "      <th>imp_surcharge</th>\n",
       "      <th>total_amount</th>\n",
       "      <th>trip_duration</th>\n",
       "      <th>calculated_total_amount</th>\n",
       "    </tr>\n",
       "  </thead>\n",
       "  <tbody>\n",
       "    <tr>\n",
       "      <th>count</th>\n",
       "      <td>35000.000000</td>\n",
       "      <td>35000.000000</td>\n",
       "      <td>35000.000000</td>\n",
       "      <td>35000.000000</td>\n",
       "      <td>35000.000000</td>\n",
       "      <td>35000.000000</td>\n",
       "      <td>35000.000000</td>\n",
       "      <td>35000.00000</td>\n",
       "      <td>35000.000000</td>\n",
       "    </tr>\n",
       "    <tr>\n",
       "      <th>mean</th>\n",
       "      <td>9.088815</td>\n",
       "      <td>31.920911</td>\n",
       "      <td>0.320337</td>\n",
       "      <td>6.142190</td>\n",
       "      <td>2.262871</td>\n",
       "      <td>0.299940</td>\n",
       "      <td>41.442469</td>\n",
       "      <td>2257.38360</td>\n",
       "      <td>41.324249</td>\n",
       "    </tr>\n",
       "    <tr>\n",
       "      <th>std</th>\n",
       "      <td>4.496854</td>\n",
       "      <td>14.689516</td>\n",
       "      <td>0.402590</td>\n",
       "      <td>4.397599</td>\n",
       "      <td>3.578315</td>\n",
       "      <td>0.004242</td>\n",
       "      <td>19.241543</td>\n",
       "      <td>5112.41526</td>\n",
       "      <td>19.167043</td>\n",
       "    </tr>\n",
       "    <tr>\n",
       "      <th>min</th>\n",
       "      <td>0.010000</td>\n",
       "      <td>0.010000</td>\n",
       "      <td>0.000000</td>\n",
       "      <td>0.000000</td>\n",
       "      <td>0.000000</td>\n",
       "      <td>0.000000</td>\n",
       "      <td>0.310000</td>\n",
       "      <td>1.00000</td>\n",
       "      <td>0.310000</td>\n",
       "    </tr>\n",
       "    <tr>\n",
       "      <th>25%</th>\n",
       "      <td>6.470000</td>\n",
       "      <td>24.000000</td>\n",
       "      <td>0.000000</td>\n",
       "      <td>4.460000</td>\n",
       "      <td>0.000000</td>\n",
       "      <td>0.300000</td>\n",
       "      <td>30.350000</td>\n",
       "      <td>1448.00000</td>\n",
       "      <td>30.300000</td>\n",
       "    </tr>\n",
       "    <tr>\n",
       "      <th>50%</th>\n",
       "      <td>8.700000</td>\n",
       "      <td>29.000000</td>\n",
       "      <td>0.000000</td>\n",
       "      <td>6.050000</td>\n",
       "      <td>0.000000</td>\n",
       "      <td>0.300000</td>\n",
       "      <td>38.470000</td>\n",
       "      <td>1862.00000</td>\n",
       "      <td>38.460000</td>\n",
       "    </tr>\n",
       "    <tr>\n",
       "      <th>75%</th>\n",
       "      <td>10.990000</td>\n",
       "      <td>36.000000</td>\n",
       "      <td>0.500000</td>\n",
       "      <td>8.100000</td>\n",
       "      <td>5.760000</td>\n",
       "      <td>0.300000</td>\n",
       "      <td>48.352500</td>\n",
       "      <td>2340.00000</td>\n",
       "      <td>48.200000</td>\n",
       "    </tr>\n",
       "    <tr>\n",
       "      <th>max</th>\n",
       "      <td>79.010000</td>\n",
       "      <td>400.000000</td>\n",
       "      <td>18.500000</td>\n",
       "      <td>215.000000</td>\n",
       "      <td>189.500000</td>\n",
       "      <td>0.300000</td>\n",
       "      <td>468.350000</td>\n",
       "      <td>86347.00000</td>\n",
       "      <td>468.350000</td>\n",
       "    </tr>\n",
       "  </tbody>\n",
       "</table>\n",
       "</div>"
      ],
      "text/plain": [
       "       trip_distance   fare_amount         extra    tip_amount  tolls_amount  \\\n",
       "count   35000.000000  35000.000000  35000.000000  35000.000000  35000.000000   \n",
       "mean        9.088815     31.920911      0.320337      6.142190      2.262871   \n",
       "std         4.496854     14.689516      0.402590      4.397599      3.578315   \n",
       "min         0.010000      0.010000      0.000000      0.000000      0.000000   \n",
       "25%         6.470000     24.000000      0.000000      4.460000      0.000000   \n",
       "50%         8.700000     29.000000      0.000000      6.050000      0.000000   \n",
       "75%        10.990000     36.000000      0.500000      8.100000      5.760000   \n",
       "max        79.010000    400.000000     18.500000    215.000000    189.500000   \n",
       "\n",
       "       imp_surcharge  total_amount  trip_duration  calculated_total_amount  \n",
       "count   35000.000000  35000.000000    35000.00000             35000.000000  \n",
       "mean        0.299940     41.442469     2257.38360                41.324249  \n",
       "std         0.004242     19.241543     5112.41526                19.167043  \n",
       "min         0.000000      0.310000        1.00000                 0.310000  \n",
       "25%         0.300000     30.350000     1448.00000                30.300000  \n",
       "50%         0.300000     38.470000     1862.00000                38.460000  \n",
       "75%         0.300000     48.352500     2340.00000                48.200000  \n",
       "max         0.300000    468.350000    86347.00000               468.350000  "
      ]
     },
     "execution_count": 19,
     "metadata": {},
     "output_type": "execute_result"
    }
   ],
   "source": [
    "# Statistical summary of num variables\n",
    "\n",
    "train.loc[:,cols].describe()"
   ]
  },
  {
   "cell_type": "code",
   "execution_count": 20,
   "id": "3d618311",
   "metadata": {},
   "outputs": [
    {
     "data": {
      "text/plain": [
       "(17601, 20)"
      ]
     },
     "execution_count": 20,
     "metadata": {},
     "output_type": "execute_result"
    }
   ],
   "source": [
    "# total amount > calculated total_amount ... count\n",
    "train.loc[train.total_amount>train.calculated_total_amount,].shape"
   ]
  },
  {
   "cell_type": "code",
   "execution_count": 21,
   "id": "4cf9b32d",
   "metadata": {},
   "outputs": [
    {
     "data": {
      "text/plain": [
       "(17, 20)"
      ]
     },
     "execution_count": 21,
     "metadata": {},
     "output_type": "execute_result"
    }
   ],
   "source": [
    "# total amount == calculated total_amount ... count\n",
    "train.loc[train.total_amount==train.calculated_total_amount,].shape"
   ]
  },
  {
   "cell_type": "code",
   "execution_count": 22,
   "id": "c7be13d6",
   "metadata": {},
   "outputs": [
    {
     "data": {
      "text/plain": [
       "(17382, 20)"
      ]
     },
     "execution_count": 22,
     "metadata": {},
     "output_type": "execute_result"
    }
   ],
   "source": [
    "# total amount < calculated total_amount ... count\n",
    "train.loc[train.total_amount<train.calculated_total_amount,].shape"
   ]
  },
  {
   "cell_type": "markdown",
   "id": "0ff355d7",
   "metadata": {},
   "source": [
    "# NOTE FOR FEATURE ENGINEERING\n",
    "Create a new variable on the basis of total amount and calculated total amount"
   ]
  },
  {
   "cell_type": "code",
   "execution_count": null,
   "id": "ac58bca1",
   "metadata": {},
   "outputs": [],
   "source": []
  },
  {
   "cell_type": "code",
   "execution_count": 23,
   "id": "907bed88",
   "metadata": {},
   "outputs": [],
   "source": [
    "# combine train and test\n",
    "\n",
    "combined = pd.concat([train,test],ignore_index=True)"
   ]
  },
  {
   "cell_type": "code",
   "execution_count": 24,
   "id": "c78f66bf",
   "metadata": {},
   "outputs": [
    {
     "data": {
      "text/plain": [
       "trip_distance                  0\n",
       "rate_code                      0\n",
       "store_and_fwd_flag             0\n",
       "payment_type                   0\n",
       "fare_amount                    0\n",
       "extra                          0\n",
       "mta_tax                        0\n",
       "tip_amount                     0\n",
       "tolls_amount                   0\n",
       "imp_surcharge                  0\n",
       "total_amount                   0\n",
       "pickup_location_id             0\n",
       "dropoff_location_id            0\n",
       "year                           0\n",
       "month                          0\n",
       "day                            0\n",
       "day_of_week                    0\n",
       "hour_of_day                    0\n",
       "trip_duration                  0\n",
       "calculated_total_amount    15000\n",
       "dtype: int64"
      ]
     },
     "execution_count": 24,
     "metadata": {},
     "output_type": "execute_result"
    }
   ],
   "source": [
    "combined.isnull().sum()"
   ]
  },
  {
   "cell_type": "code",
   "execution_count": 25,
   "id": "3b53f8cb",
   "metadata": {},
   "outputs": [
    {
     "data": {
      "text/html": [
       "<div>\n",
       "<style scoped>\n",
       "    .dataframe tbody tr th:only-of-type {\n",
       "        vertical-align: middle;\n",
       "    }\n",
       "\n",
       "    .dataframe tbody tr th {\n",
       "        vertical-align: top;\n",
       "    }\n",
       "\n",
       "    .dataframe thead th {\n",
       "        text-align: right;\n",
       "    }\n",
       "</style>\n",
       "<table border=\"1\" class=\"dataframe\">\n",
       "  <thead>\n",
       "    <tr style=\"text-align: right;\">\n",
       "      <th></th>\n",
       "      <th>trip_distance</th>\n",
       "      <th>rate_code</th>\n",
       "      <th>store_and_fwd_flag</th>\n",
       "      <th>payment_type</th>\n",
       "      <th>fare_amount</th>\n",
       "      <th>extra</th>\n",
       "      <th>mta_tax</th>\n",
       "      <th>tip_amount</th>\n",
       "      <th>tolls_amount</th>\n",
       "      <th>imp_surcharge</th>\n",
       "      <th>total_amount</th>\n",
       "      <th>pickup_location_id</th>\n",
       "      <th>dropoff_location_id</th>\n",
       "      <th>year</th>\n",
       "      <th>month</th>\n",
       "      <th>day</th>\n",
       "      <th>day_of_week</th>\n",
       "      <th>hour_of_day</th>\n",
       "      <th>trip_duration</th>\n",
       "      <th>calculated_total_amount</th>\n",
       "    </tr>\n",
       "  </thead>\n",
       "  <tbody>\n",
       "    <tr>\n",
       "      <th>49995</th>\n",
       "      <td>5.80</td>\n",
       "      <td>1</td>\n",
       "      <td>N</td>\n",
       "      <td>1</td>\n",
       "      <td>22.0</td>\n",
       "      <td>0.5</td>\n",
       "      <td>0.5</td>\n",
       "      <td>3.50</td>\n",
       "      <td>0.00</td>\n",
       "      <td>0.3</td>\n",
       "      <td>28.75</td>\n",
       "      <td>148</td>\n",
       "      <td>143</td>\n",
       "      <td>2018</td>\n",
       "      <td>5</td>\n",
       "      <td>5</td>\n",
       "      <td>5</td>\n",
       "      <td>0</td>\n",
       "      <td>1121.0</td>\n",
       "      <td>NaN</td>\n",
       "    </tr>\n",
       "    <tr>\n",
       "      <th>49996</th>\n",
       "      <td>10.50</td>\n",
       "      <td>1</td>\n",
       "      <td>N</td>\n",
       "      <td>1</td>\n",
       "      <td>35.5</td>\n",
       "      <td>0.5</td>\n",
       "      <td>0.5</td>\n",
       "      <td>7.35</td>\n",
       "      <td>0.00</td>\n",
       "      <td>0.3</td>\n",
       "      <td>44.15</td>\n",
       "      <td>163</td>\n",
       "      <td>85</td>\n",
       "      <td>2018</td>\n",
       "      <td>7</td>\n",
       "      <td>5</td>\n",
       "      <td>3</td>\n",
       "      <td>23</td>\n",
       "      <td>1744.0</td>\n",
       "      <td>NaN</td>\n",
       "    </tr>\n",
       "    <tr>\n",
       "      <th>49997</th>\n",
       "      <td>9.10</td>\n",
       "      <td>1</td>\n",
       "      <td>N</td>\n",
       "      <td>1</td>\n",
       "      <td>27.0</td>\n",
       "      <td>0.5</td>\n",
       "      <td>0.5</td>\n",
       "      <td>6.80</td>\n",
       "      <td>5.76</td>\n",
       "      <td>0.3</td>\n",
       "      <td>40.86</td>\n",
       "      <td>138</td>\n",
       "      <td>107</td>\n",
       "      <td>2018</td>\n",
       "      <td>9</td>\n",
       "      <td>13</td>\n",
       "      <td>3</td>\n",
       "      <td>20</td>\n",
       "      <td>1362.0</td>\n",
       "      <td>NaN</td>\n",
       "    </tr>\n",
       "    <tr>\n",
       "      <th>49998</th>\n",
       "      <td>9.50</td>\n",
       "      <td>1</td>\n",
       "      <td>N</td>\n",
       "      <td>1</td>\n",
       "      <td>29.5</td>\n",
       "      <td>0.0</td>\n",
       "      <td>0.5</td>\n",
       "      <td>7.00</td>\n",
       "      <td>5.76</td>\n",
       "      <td>0.3</td>\n",
       "      <td>43.06</td>\n",
       "      <td>170</td>\n",
       "      <td>138</td>\n",
       "      <td>2018</td>\n",
       "      <td>8</td>\n",
       "      <td>22</td>\n",
       "      <td>2</td>\n",
       "      <td>12</td>\n",
       "      <td>101.0</td>\n",
       "      <td>NaN</td>\n",
       "    </tr>\n",
       "    <tr>\n",
       "      <th>49999</th>\n",
       "      <td>9.25</td>\n",
       "      <td>1</td>\n",
       "      <td>N</td>\n",
       "      <td>1</td>\n",
       "      <td>27.0</td>\n",
       "      <td>0.0</td>\n",
       "      <td>0.5</td>\n",
       "      <td>5.03</td>\n",
       "      <td>5.76</td>\n",
       "      <td>0.3</td>\n",
       "      <td>38.59</td>\n",
       "      <td>138</td>\n",
       "      <td>107</td>\n",
       "      <td>2018</td>\n",
       "      <td>9</td>\n",
       "      <td>23</td>\n",
       "      <td>6</td>\n",
       "      <td>10</td>\n",
       "      <td>2444.0</td>\n",
       "      <td>NaN</td>\n",
       "    </tr>\n",
       "  </tbody>\n",
       "</table>\n",
       "</div>"
      ],
      "text/plain": [
       "       trip_distance  rate_code store_and_fwd_flag  payment_type  fare_amount  \\\n",
       "49995           5.80          1                  N             1         22.0   \n",
       "49996          10.50          1                  N             1         35.5   \n",
       "49997           9.10          1                  N             1         27.0   \n",
       "49998           9.50          1                  N             1         29.5   \n",
       "49999           9.25          1                  N             1         27.0   \n",
       "\n",
       "       extra  mta_tax  tip_amount  tolls_amount  imp_surcharge  total_amount  \\\n",
       "49995    0.5      0.5        3.50          0.00            0.3         28.75   \n",
       "49996    0.5      0.5        7.35          0.00            0.3         44.15   \n",
       "49997    0.5      0.5        6.80          5.76            0.3         40.86   \n",
       "49998    0.0      0.5        7.00          5.76            0.3         43.06   \n",
       "49999    0.0      0.5        5.03          5.76            0.3         38.59   \n",
       "\n",
       "       pickup_location_id  dropoff_location_id  year  month  day  day_of_week  \\\n",
       "49995                 148                  143  2018      5    5            5   \n",
       "49996                 163                   85  2018      7    5            3   \n",
       "49997                 138                  107  2018      9   13            3   \n",
       "49998                 170                  138  2018      8   22            2   \n",
       "49999                 138                  107  2018      9   23            6   \n",
       "\n",
       "       hour_of_day  trip_duration  calculated_total_amount  \n",
       "49995            0         1121.0                      NaN  \n",
       "49996           23         1744.0                      NaN  \n",
       "49997           20         1362.0                      NaN  \n",
       "49998           12          101.0                      NaN  \n",
       "49999           10         2444.0                      NaN  "
      ]
     },
     "execution_count": 25,
     "metadata": {},
     "output_type": "execute_result"
    }
   ],
   "source": [
    "combined.tail()"
   ]
  },
  {
   "cell_type": "markdown",
   "id": "3f9d285d",
   "metadata": {},
   "source": [
    "# Univariate analysis of Categorical Variable"
   ]
  },
  {
   "cell_type": "code",
   "execution_count": 26,
   "id": "c78ce5ad",
   "metadata": {},
   "outputs": [
    {
     "data": {
      "text/plain": [
       "Index(['trip_distance', 'rate_code', 'payment_type', 'fare_amount', 'extra',\n",
       "       'mta_tax', 'tip_amount', 'tolls_amount', 'imp_surcharge',\n",
       "       'total_amount', 'pickup_location_id', 'dropoff_location_id', 'year',\n",
       "       'month', 'day', 'day_of_week', 'hour_of_day', 'trip_duration',\n",
       "       'calculated_total_amount'],\n",
       "      dtype='object')"
      ]
     },
     "execution_count": 26,
     "metadata": {},
     "output_type": "execute_result"
    }
   ],
   "source": [
    "#\n",
    "combined.select_dtypes(include=np.number).columns"
   ]
  },
  {
   "cell_type": "code",
   "execution_count": 27,
   "id": "40a0274f",
   "metadata": {},
   "outputs": [
    {
     "data": {
      "text/plain": [
       "6"
      ]
     },
     "execution_count": 27,
     "metadata": {},
     "output_type": "execute_result"
    }
   ],
   "source": [
    "#\n",
    "cols_cat =['store_and_fwd_flag','rate_code','payment_type',\n",
    "           'mta_tax','year','month']\n",
    "len(cols_cat)"
   ]
  },
  {
   "cell_type": "code",
   "execution_count": 28,
   "id": "1950830d",
   "metadata": {},
   "outputs": [
    {
     "data": {
      "image/png": "[encoded data removed]",
      "text/plain": [
       "<Figure size 1080x576 with 6 Axes>"
      ]
     },
     "metadata": {
      "needs_background": "light"
     },
     "output_type": "display_data"
    }
   ],
   "source": [
    "#\n",
    "nrows = 2\n",
    "ncols = 3\n",
    "iterator = 1 \n",
    "for i in cols_cat:\n",
    "    plt.subplot(nrows,ncols,iterator)\n",
    "    sns.countplot(combined.loc[:,i])\n",
    "    plt.title(i)\n",
    "    iterator = iterator+1\n",
    "\n",
    "plt.tight_layout()    \n",
    "plt.show()"
   ]
  },
  {
   "cell_type": "code",
   "execution_count": 29,
   "id": "4fd88e31",
   "metadata": {},
   "outputs": [],
   "source": [
    "# BIVARIATE ANALYSIS"
   ]
  },
  {
   "cell_type": "code",
   "execution_count": 30,
   "id": "7e0eee56",
   "metadata": {},
   "outputs": [
    {
     "data": {
      "image/png": "[encoded data removed]",
      "text/plain": [
       "<Figure size 1080x576 with 6 Axes>"
      ]
     },
     "metadata": {
      "needs_background": "light"
     },
     "output_type": "display_data"
    }
   ],
   "source": [
    "# CAT VS NUM\n",
    "cols_cat =['store_and_fwd_flag','rate_code','payment_type',\n",
    "           'mta_tax','year','month']\n",
    "\n",
    "#\n",
    "nrows = 2\n",
    "ncols = 3\n",
    "iterator = 1 \n",
    "for i in cols_cat:\n",
    "    plt.subplot(nrows,ncols,iterator)\n",
    "    sns.boxplot(x = combined.loc[:,i],y=combined.calculated_total_amount)\n",
    "    plt.title(i)\n",
    "    iterator = iterator+1\n",
    "\n",
    "plt.tight_layout()    \n",
    "plt.show()"
   ]
  },
  {
   "cell_type": "code",
   "execution_count": 31,
   "id": "ebf21022",
   "metadata": {},
   "outputs": [
    {
     "data": {
      "image/png": "[encoded data removed]",
      "text/plain": [
       "<Figure size 1080x576 with 9 Axes>"
      ]
     },
     "metadata": {
      "needs_background": "light"
     },
     "output_type": "display_data"
    }
   ],
   "source": [
    "# NUM VS NUM #\n",
    "nrows = 2\n",
    "ncols = 5\n",
    "iterator = 1 \n",
    "for i in cols:\n",
    "    plt.subplot(nrows,ncols,iterator)\n",
    "    sns.scatterplot(x = combined.loc[:,i],y=combined.calculated_total_amount)\n",
    "    plt.title(i)\n",
    "    iterator = iterator+1\n",
    "\n",
    "plt.tight_layout()    \n",
    "plt.show()"
   ]
  },
  {
   "cell_type": "raw",
   "id": "5eec842a",
   "metadata": {},
   "source": [
    "Inference - Predictors have a very weak correlation with the target."
   ]
  },
  {
   "cell_type": "code",
   "execution_count": 32,
   "id": "1f2d71d3",
   "metadata": {},
   "outputs": [
    {
     "data": {
      "text/plain": [
       "<AxesSubplot:>"
      ]
     },
     "execution_count": 32,
     "metadata": {},
     "output_type": "execute_result"
    },
    {
     "data": {
      "image/png": "[encoded data removed]",
      "text/plain": [
       "<Figure size 1080x576 with 2 Axes>"
      ]
     },
     "metadata": {
      "needs_background": "light"
     },
     "output_type": "display_data"
    }
   ],
   "source": [
    "# Heatmap ......\n",
    "sns.heatmap(combined.loc[:,cols].corr(),annot=True,cmap='afmhot_r')"
   ]
  },
  {
   "cell_type": "code",
   "execution_count": 33,
   "id": "f402b780",
   "metadata": {},
   "outputs": [
    {
     "data": {
      "text/plain": [
       "['trip_distance',\n",
       " 'fare_amount',\n",
       " 'extra',\n",
       " 'tip_amount',\n",
       " 'tolls_amount',\n",
       " 'imp_surcharge',\n",
       " 'total_amount',\n",
       " 'trip_duration',\n",
       " 'calculated_total_amount']"
      ]
     },
     "execution_count": 33,
     "metadata": {},
     "output_type": "execute_result"
    }
   ],
   "source": [
    "cols"
   ]
  },
  {
   "cell_type": "code",
   "execution_count": 34,
   "id": "d8923789",
   "metadata": {},
   "outputs": [
    {
     "name": "stdout",
     "output_type": "stream",
     "text": [
      "pvalue for trip_distance var is 0.0\n",
      "pvalue for fare_amount var is 0.0\n",
      "pvalue for extra var is 0.0\n",
      "pvalue for tip_amount var is 0.0\n",
      "pvalue for tolls_amount var is 0.0\n",
      "pvalue for imp_surcharge var is 0.0\n",
      "pvalue for total_amount var is 0.415445\n",
      "pvalue for trip_duration var is 0.0\n",
      "pvalue for calculated_total_amount var is 1.0\n"
     ]
    }
   ],
   "source": [
    "# statistical test to verify which columns are important\n",
    "#teststats,pvalue = stats.mannwhitneyu(train.loc[:,i],\n",
    "                                       #train.calculated_total_amount)\n",
    "\n",
    "#H0 : the feature is not a significant var for target\n",
    "#H1 : the feature is a significant var for target\n",
    "    \n",
    "import scipy.stats as stats\n",
    "\n",
    "for i in cols:\n",
    "    teststats,pvalue = stats.ttest_ind(train.loc[:,i],\n",
    "                                       train.calculated_total_amount)\n",
    "    print(\"pvalue for\",i,\"var is\",np.round(pvalue,6))"
   ]
  },
  {
   "cell_type": "code",
   "execution_count": 35,
   "id": "20fd1ed8",
   "metadata": {},
   "outputs": [],
   "source": [
    "# OUTLIER TREATMENT\n",
    "q1 = combined.quantile(0.25)\n",
    "q3 = combined.quantile(0.75)\n",
    "iqr = q3-q1\n",
    "ul = q3+1.5*(iqr)\n",
    "ll = q1-1.5*(iqr)\n"
   ]
  },
  {
   "cell_type": "code",
   "execution_count": 36,
   "id": "e61c6a24",
   "metadata": {},
   "outputs": [],
   "source": [
    "wt_outliers = combined"
   ]
  },
  {
   "cell_type": "code",
   "execution_count": 37,
   "id": "b0fcac34",
   "metadata": {},
   "outputs": [
    {
     "data": {
      "text/html": [
       "<div>\n",
       "<style scoped>\n",
       "    .dataframe tbody tr th:only-of-type {\n",
       "        vertical-align: middle;\n",
       "    }\n",
       "\n",
       "    .dataframe tbody tr th {\n",
       "        vertical-align: top;\n",
       "    }\n",
       "\n",
       "    .dataframe thead th {\n",
       "        text-align: right;\n",
       "    }\n",
       "</style>\n",
       "<table border=\"1\" class=\"dataframe\">\n",
       "  <thead>\n",
       "    <tr style=\"text-align: right;\">\n",
       "      <th></th>\n",
       "      <th>trip_distance</th>\n",
       "      <th>rate_code</th>\n",
       "      <th>store_and_fwd_flag</th>\n",
       "      <th>payment_type</th>\n",
       "      <th>fare_amount</th>\n",
       "      <th>extra</th>\n",
       "      <th>mta_tax</th>\n",
       "      <th>tip_amount</th>\n",
       "      <th>tolls_amount</th>\n",
       "      <th>imp_surcharge</th>\n",
       "      <th>total_amount</th>\n",
       "      <th>pickup_location_id</th>\n",
       "      <th>dropoff_location_id</th>\n",
       "      <th>year</th>\n",
       "      <th>month</th>\n",
       "      <th>day</th>\n",
       "      <th>day_of_week</th>\n",
       "      <th>hour_of_day</th>\n",
       "      <th>trip_duration</th>\n",
       "      <th>calculated_total_amount</th>\n",
       "    </tr>\n",
       "  </thead>\n",
       "  <tbody>\n",
       "    <tr>\n",
       "      <th>0</th>\n",
       "      <td>9.01</td>\n",
       "      <td>1</td>\n",
       "      <td>N</td>\n",
       "      <td>1</td>\n",
       "      <td>26.0</td>\n",
       "      <td>0.0</td>\n",
       "      <td>0.5</td>\n",
       "      <td>8.14</td>\n",
       "      <td>5.76</td>\n",
       "      <td>0.3</td>\n",
       "      <td>40.70</td>\n",
       "      <td>262</td>\n",
       "      <td>138</td>\n",
       "      <td>2018</td>\n",
       "      <td>3</td>\n",
       "      <td>7</td>\n",
       "      <td>2</td>\n",
       "      <td>6</td>\n",
       "      <td>2131.0</td>\n",
       "      <td>24.3</td>\n",
       "    </tr>\n",
       "    <tr>\n",
       "      <th>1</th>\n",
       "      <td>0.20</td>\n",
       "      <td>1</td>\n",
       "      <td>N</td>\n",
       "      <td>1</td>\n",
       "      <td>3.0</td>\n",
       "      <td>0.0</td>\n",
       "      <td>0.5</td>\n",
       "      <td>0.75</td>\n",
       "      <td>0.00</td>\n",
       "      <td>0.3</td>\n",
       "      <td>4.55</td>\n",
       "      <td>263</td>\n",
       "      <td>236</td>\n",
       "      <td>2018</td>\n",
       "      <td>2</td>\n",
       "      <td>25</td>\n",
       "      <td>6</td>\n",
       "      <td>10</td>\n",
       "      <td>2377.0</td>\n",
       "      <td>37.4</td>\n",
       "    </tr>\n",
       "  </tbody>\n",
       "</table>\n",
       "</div>"
      ],
      "text/plain": [
       "   trip_distance  rate_code store_and_fwd_flag  payment_type  fare_amount  \\\n",
       "0           9.01          1                  N             1         26.0   \n",
       "1           0.20          1                  N             1          3.0   \n",
       "\n",
       "   extra  mta_tax  tip_amount  tolls_amount  imp_surcharge  total_amount  \\\n",
       "0    0.0      0.5        8.14          5.76            0.3         40.70   \n",
       "1    0.0      0.5        0.75          0.00            0.3          4.55   \n",
       "\n",
       "   pickup_location_id  dropoff_location_id  year  month  day  day_of_week  \\\n",
       "0                 262                  138  2018      3    7            2   \n",
       "1                 263                  236  2018      2   25            6   \n",
       "\n",
       "   hour_of_day  trip_duration  calculated_total_amount  \n",
       "0            6         2131.0                     24.3  \n",
       "1           10         2377.0                     37.4  "
      ]
     },
     "execution_count": 37,
     "metadata": {},
     "output_type": "execute_result"
    }
   ],
   "source": [
    "wt_outliers.head(2)"
   ]
  },
  {
   "cell_type": "code",
   "execution_count": 38,
   "id": "83214acc",
   "metadata": {},
   "outputs": [
    {
     "data": {
      "image/png": "[encoded data removed]",
      "text/plain": [
       "<Figure size 1080x576 with 1 Axes>"
      ]
     },
     "metadata": {
      "needs_background": "light"
     },
     "output_type": "display_data"
    }
   ],
   "source": [
    "sns.scatterplot(x=wt_outliers.hour_of_day,y=wt_outliers.calculated_total_amount)\n",
    "plt.show()"
   ]
  },
  {
   "cell_type": "code",
   "execution_count": 39,
   "id": "17e8077a",
   "metadata": {},
   "outputs": [
    {
     "data": {
      "image/png": "[encoded data removed]",
      "text/plain": [
       "<Figure size 1080x576 with 1 Axes>"
      ]
     },
     "metadata": {
      "needs_background": "light"
     },
     "output_type": "display_data"
    }
   ],
   "source": [
    "sns.lineplot(wt_outliers.hour_of_day,wt_outliers.calculated_total_amount)\n",
    "plt.grid()\n",
    "plt.show()"
   ]
  },
  {
   "cell_type": "code",
   "execution_count": 40,
   "id": "c2292dc8",
   "metadata": {},
   "outputs": [],
   "source": [
    "# BUSY HOURS -  10,15,16,17,18,19,20 :: busy hour......\n",
    "# Rush Hours : 1 and 0"
   ]
  },
  {
   "cell_type": "code",
   "execution_count": 41,
   "id": "1db7d78a",
   "metadata": {},
   "outputs": [
    {
     "data": {
      "text/plain": [
       "array([ 6, 10,  8, 20, 21,  7,  2,  3, 18, 12, 16, 15, 11, 17, 19, 22, 14,\n",
       "        0,  4,  5,  9, 13, 23,  1], dtype=int64)"
      ]
     },
     "execution_count": 41,
     "metadata": {},
     "output_type": "execute_result"
    }
   ],
   "source": [
    "wt_outliers.hour_of_day.unique()"
   ]
  },
  {
   "cell_type": "code",
   "execution_count": 42,
   "id": "73410a5f",
   "metadata": {},
   "outputs": [
    {
     "data": {
      "text/html": [
       "<div>\n",
       "<style scoped>\n",
       "    .dataframe tbody tr th:only-of-type {\n",
       "        vertical-align: middle;\n",
       "    }\n",
       "\n",
       "    .dataframe tbody tr th {\n",
       "        vertical-align: top;\n",
       "    }\n",
       "\n",
       "    .dataframe thead th {\n",
       "        text-align: right;\n",
       "    }\n",
       "</style>\n",
       "<table border=\"1\" class=\"dataframe\">\n",
       "  <thead>\n",
       "    <tr style=\"text-align: right;\">\n",
       "      <th></th>\n",
       "      <th>hour_of_day</th>\n",
       "      <th>calculated_total_amount</th>\n",
       "    </tr>\n",
       "  </thead>\n",
       "  <tbody>\n",
       "    <tr>\n",
       "      <th>count</th>\n",
       "      <td>50000.000000</td>\n",
       "      <td>35000.000000</td>\n",
       "    </tr>\n",
       "    <tr>\n",
       "      <th>mean</th>\n",
       "      <td>13.814780</td>\n",
       "      <td>41.324249</td>\n",
       "    </tr>\n",
       "    <tr>\n",
       "      <th>std</th>\n",
       "      <td>6.222891</td>\n",
       "      <td>19.167043</td>\n",
       "    </tr>\n",
       "    <tr>\n",
       "      <th>min</th>\n",
       "      <td>0.000000</td>\n",
       "      <td>0.310000</td>\n",
       "    </tr>\n",
       "    <tr>\n",
       "      <th>25%</th>\n",
       "      <td>10.000000</td>\n",
       "      <td>30.300000</td>\n",
       "    </tr>\n",
       "    <tr>\n",
       "      <th>50%</th>\n",
       "      <td>14.000000</td>\n",
       "      <td>38.460000</td>\n",
       "    </tr>\n",
       "    <tr>\n",
       "      <th>75%</th>\n",
       "      <td>19.000000</td>\n",
       "      <td>48.200000</td>\n",
       "    </tr>\n",
       "    <tr>\n",
       "      <th>max</th>\n",
       "      <td>23.000000</td>\n",
       "      <td>468.350000</td>\n",
       "    </tr>\n",
       "  </tbody>\n",
       "</table>\n",
       "</div>"
      ],
      "text/plain": [
       "        hour_of_day  calculated_total_amount\n",
       "count  50000.000000             35000.000000\n",
       "mean      13.814780                41.324249\n",
       "std        6.222891                19.167043\n",
       "min        0.000000                 0.310000\n",
       "25%       10.000000                30.300000\n",
       "50%       14.000000                38.460000\n",
       "75%       19.000000                48.200000\n",
       "max       23.000000               468.350000"
      ]
     },
     "execution_count": 42,
     "metadata": {},
     "output_type": "execute_result"
    }
   ],
   "source": [
    "wt_outliers.loc[:,['hour_of_day','calculated_total_amount']].describe()"
   ]
  },
  {
   "cell_type": "code",
   "execution_count": 43,
   "id": "656faa26",
   "metadata": {},
   "outputs": [],
   "source": [
    "wt_outliers[\"rush_hour\"]=wt_outliers.hour_of_day.apply(lambda x:1 if x in [10,15,16,17,18,19,20] else 0)"
   ]
  },
  {
   "cell_type": "code",
   "execution_count": 44,
   "id": "98a9a0dc",
   "metadata": {},
   "outputs": [
    {
     "data": {
      "image/png": "[encoded data removed]",
      "text/plain": [
       "<Figure size 1080x576 with 1 Axes>"
      ]
     },
     "metadata": {
      "needs_background": "light"
     },
     "output_type": "display_data"
    }
   ],
   "source": [
    "sns.boxplot(x ='rush_hour',y='calculated_total_amount',data=wt_outliers)\n",
    "plt.show()"
   ]
  },
  {
   "cell_type": "code",
   "execution_count": 45,
   "id": "6d1baaf2",
   "metadata": {},
   "outputs": [],
   "source": [
    "wt_outliers[\"target_diff\"] = wt_outliers[\"total_amount\"] - wt_outliers['calculated_total_amount']\n",
    "\n",
    "def difference(x):\n",
    "    if x>0:\n",
    "        return('Discount')\n",
    "    elif(x==0):\n",
    "        return('Equal')\n",
    "    else:\n",
    "        return('Excess')\n"
   ]
  },
  {
   "cell_type": "code",
   "execution_count": 46,
   "id": "f4ba684a",
   "metadata": {},
   "outputs": [],
   "source": [
    "wt_outliers['target_diff_cat']=wt_outliers.target_diff.apply(difference)"
   ]
  },
  {
   "cell_type": "code",
   "execution_count": 47,
   "id": "c90857a5",
   "metadata": {},
   "outputs": [
    {
     "data": {
      "text/html": [
       "<div>\n",
       "<style scoped>\n",
       "    .dataframe tbody tr th:only-of-type {\n",
       "        vertical-align: middle;\n",
       "    }\n",
       "\n",
       "    .dataframe tbody tr th {\n",
       "        vertical-align: top;\n",
       "    }\n",
       "\n",
       "    .dataframe thead th {\n",
       "        text-align: right;\n",
       "    }\n",
       "</style>\n",
       "<table border=\"1\" class=\"dataframe\">\n",
       "  <thead>\n",
       "    <tr style=\"text-align: right;\">\n",
       "      <th></th>\n",
       "      <th>count</th>\n",
       "      <th>mean</th>\n",
       "      <th>std</th>\n",
       "      <th>min</th>\n",
       "      <th>25%</th>\n",
       "      <th>50%</th>\n",
       "      <th>75%</th>\n",
       "      <th>max</th>\n",
       "    </tr>\n",
       "    <tr>\n",
       "      <th>day_of_week</th>\n",
       "      <th></th>\n",
       "      <th></th>\n",
       "      <th></th>\n",
       "      <th></th>\n",
       "      <th></th>\n",
       "      <th></th>\n",
       "      <th></th>\n",
       "      <th></th>\n",
       "    </tr>\n",
       "  </thead>\n",
       "  <tbody>\n",
       "    <tr>\n",
       "      <th>0</th>\n",
       "      <td>4654.0</td>\n",
       "      <td>41.672660</td>\n",
       "      <td>19.231342</td>\n",
       "      <td>2.80</td>\n",
       "      <td>30.350</td>\n",
       "      <td>38.76</td>\n",
       "      <td>48.67</td>\n",
       "      <td>278.78</td>\n",
       "    </tr>\n",
       "    <tr>\n",
       "      <th>1</th>\n",
       "      <td>5540.0</td>\n",
       "      <td>41.284208</td>\n",
       "      <td>20.902749</td>\n",
       "      <td>0.90</td>\n",
       "      <td>30.075</td>\n",
       "      <td>38.29</td>\n",
       "      <td>48.06</td>\n",
       "      <td>468.35</td>\n",
       "    </tr>\n",
       "    <tr>\n",
       "      <th>2</th>\n",
       "      <td>5498.0</td>\n",
       "      <td>41.230764</td>\n",
       "      <td>19.063380</td>\n",
       "      <td>0.31</td>\n",
       "      <td>30.300</td>\n",
       "      <td>38.15</td>\n",
       "      <td>48.07</td>\n",
       "      <td>276.38</td>\n",
       "    </tr>\n",
       "    <tr>\n",
       "      <th>3</th>\n",
       "      <td>5584.0</td>\n",
       "      <td>40.817104</td>\n",
       "      <td>16.980414</td>\n",
       "      <td>3.30</td>\n",
       "      <td>30.350</td>\n",
       "      <td>38.30</td>\n",
       "      <td>48.16</td>\n",
       "      <td>207.80</td>\n",
       "    </tr>\n",
       "    <tr>\n",
       "      <th>4</th>\n",
       "      <td>5307.0</td>\n",
       "      <td>41.330584</td>\n",
       "      <td>19.191978</td>\n",
       "      <td>0.31</td>\n",
       "      <td>30.300</td>\n",
       "      <td>38.30</td>\n",
       "      <td>48.35</td>\n",
       "      <td>264.30</td>\n",
       "    </tr>\n",
       "    <tr>\n",
       "      <th>5</th>\n",
       "      <td>4036.0</td>\n",
       "      <td>41.552272</td>\n",
       "      <td>19.576463</td>\n",
       "      <td>3.30</td>\n",
       "      <td>30.360</td>\n",
       "      <td>38.76</td>\n",
       "      <td>48.07</td>\n",
       "      <td>315.38</td>\n",
       "    </tr>\n",
       "    <tr>\n",
       "      <th>6</th>\n",
       "      <td>4381.0</td>\n",
       "      <td>41.550742</td>\n",
       "      <td>19.149052</td>\n",
       "      <td>1.30</td>\n",
       "      <td>30.350</td>\n",
       "      <td>38.50</td>\n",
       "      <td>48.36</td>\n",
       "      <td>389.12</td>\n",
       "    </tr>\n",
       "  </tbody>\n",
       "</table>\n",
       "</div>"
      ],
      "text/plain": [
       "              count       mean        std   min     25%    50%    75%     max\n",
       "day_of_week                                                                  \n",
       "0            4654.0  41.672660  19.231342  2.80  30.350  38.76  48.67  278.78\n",
       "1            5540.0  41.284208  20.902749  0.90  30.075  38.29  48.06  468.35\n",
       "2            5498.0  41.230764  19.063380  0.31  30.300  38.15  48.07  276.38\n",
       "3            5584.0  40.817104  16.980414  3.30  30.350  38.30  48.16  207.80\n",
       "4            5307.0  41.330584  19.191978  0.31  30.300  38.30  48.35  264.30\n",
       "5            4036.0  41.552272  19.576463  3.30  30.360  38.76  48.07  315.38\n",
       "6            4381.0  41.550742  19.149052  1.30  30.350  38.50  48.36  389.12"
      ]
     },
     "execution_count": 47,
     "metadata": {},
     "output_type": "execute_result"
    }
   ],
   "source": [
    "# Day wise avg revenue\n",
    "\n",
    "wt_outliers.groupby('day_of_week')['calculated_total_amount'].describe()"
   ]
  },
  {
   "cell_type": "code",
   "execution_count": 48,
   "id": "ec4db51e",
   "metadata": {},
   "outputs": [],
   "source": [
    "# as we see there is no specific pattern between the days and amount\n",
    "# we will apply clustering technique to generate the cluster labels"
   ]
  },
  {
   "cell_type": "code",
   "execution_count": 49,
   "id": "a6f316c5",
   "metadata": {},
   "outputs": [
    {
     "data": {
      "text/plain": [
       "Index(['trip_distance', 'rate_code', 'store_and_fwd_flag', 'payment_type',\n",
       "       'fare_amount', 'extra', 'mta_tax', 'tip_amount', 'tolls_amount',\n",
       "       'imp_surcharge', 'total_amount', 'pickup_location_id',\n",
       "       'dropoff_location_id', 'year', 'month', 'day', 'day_of_week',\n",
       "       'hour_of_day', 'trip_duration', 'calculated_total_amount', 'rush_hour',\n",
       "       'target_diff', 'target_diff_cat'],\n",
       "      dtype='object')"
      ]
     },
     "execution_count": 49,
     "metadata": {},
     "output_type": "execute_result"
    }
   ],
   "source": [
    "wt_outliers.columns"
   ]
  },
  {
   "cell_type": "code",
   "execution_count": 50,
   "id": "2ec6a12b",
   "metadata": {},
   "outputs": [],
   "source": [
    "#find the cluster count for day,day_of_week,month,hour_of_day"
   ]
  },
  {
   "cell_type": "code",
   "execution_count": 51,
   "id": "521afb51",
   "metadata": {},
   "outputs": [],
   "source": [
    "from yellowbrick.cluster import KElbowVisualizer\n",
    "from sklearn.cluster import KMeans\n",
    "\n",
    "kmeans = KMeans(random_state=0)\n",
    "elbow = KElbowVisualizer(estimator=kmeans,random_state=0)"
   ]
  },
  {
   "cell_type": "code",
   "execution_count": 52,
   "id": "5e59bfb6",
   "metadata": {},
   "outputs": [
    {
     "data": {
      "text/html": [
       "<style>#sk-container-id-1 {color: black;background-color: white;}#sk-container-id-1 pre{padding: 0;}#sk-container-id-1 div.sk-toggleable {background-color: white;}#sk-container-id-1 label.sk-toggleable__label {cursor: pointer;display: block;width: 100%;margin-bottom: 0;padding: 0.3em;box-sizing: border-box;text-align: center;}#sk-container-id-1 label.sk-toggleable__label-arrow:before {content: \"▸\";float: left;margin-right: 0.25em;color: #696969;}#sk-container-id-1 label.sk-toggleable__label-arrow:hover:before {color: black;}#sk-container-id-1 div.sk-estimator:hover label.sk-toggleable__label-arrow:before {color: black;}#sk-container-id-1 div.sk-toggleable__content {max-height: 0;max-width: 0;overflow: hidden;text-align: left;background-color: #f0f8ff;}#sk-container-id-1 div.sk-toggleable__content pre {margin: 0.2em;color: black;border-radius: 0.25em;background-color: #f0f8ff;}#sk-container-id-1 input.sk-toggleable__control:checked~div.sk-toggleable__content {max-height: 200px;max-width: 100%;overflow: auto;}#sk-container-id-1 input.sk-toggleable__control:checked~label.sk-toggleable__label-arrow:before {content: \"▾\";}#sk-container-id-1 div.sk-estimator input.sk-toggleable__control:checked~label.sk-toggleable__label {background-color: #d4ebff;}#sk-container-id-1 div.sk-label input.sk-toggleable__control:checked~label.sk-toggleable__label {background-color: #d4ebff;}#sk-container-id-1 input.sk-hidden--visually {border: 0;clip: rect(1px 1px 1px 1px);clip: rect(1px, 1px, 1px, 1px);height: 1px;margin: -1px;overflow: hidden;padding: 0;position: absolute;width: 1px;}#sk-container-id-1 div.sk-estimator {font-family: monospace;background-color: #f0f8ff;border: 1px dotted black;border-radius: 0.25em;box-sizing: border-box;margin-bottom: 0.5em;}#sk-container-id-1 div.sk-estimator:hover {background-color: #d4ebff;}#sk-container-id-1 div.sk-parallel-item::after {content: \"\";width: 100%;border-bottom: 1px solid gray;flex-grow: 1;}#sk-container-id-1 div.sk-label:hover label.sk-toggleable__label {background-color: #d4ebff;}#sk-container-id-1 div.sk-serial::before {content: \"\";position: absolute;border-left: 1px solid gray;box-sizing: border-box;top: 0;bottom: 0;left: 50%;z-index: 0;}#sk-container-id-1 div.sk-serial {display: flex;flex-direction: column;align-items: center;background-color: white;padding-right: 0.2em;padding-left: 0.2em;position: relative;}#sk-container-id-1 div.sk-item {position: relative;z-index: 1;}#sk-container-id-1 div.sk-parallel {display: flex;align-items: stretch;justify-content: center;background-color: white;position: relative;}#sk-container-id-1 div.sk-item::before, #sk-container-id-1 div.sk-parallel-item::before {content: \"\";position: absolute;border-left: 1px solid gray;box-sizing: border-box;top: 0;bottom: 0;left: 50%;z-index: -1;}#sk-container-id-1 div.sk-parallel-item {display: flex;flex-direction: column;z-index: 1;position: relative;background-color: white;}#sk-container-id-1 div.sk-parallel-item:first-child::after {align-self: flex-end;width: 50%;}#sk-container-id-1 div.sk-parallel-item:last-child::after {align-self: flex-start;width: 50%;}#sk-container-id-1 div.sk-parallel-item:only-child::after {width: 0;}#sk-container-id-1 div.sk-dashed-wrapped {border: 1px dashed gray;margin: 0 0.4em 0.5em 0.4em;box-sizing: border-box;padding-bottom: 0.4em;background-color: white;}#sk-container-id-1 div.sk-label label {font-family: monospace;font-weight: bold;display: inline-block;line-height: 1.2em;}#sk-container-id-1 div.sk-label-container {text-align: center;}#sk-container-id-1 div.sk-container {/* jupyter's `normalize.less` sets `[hidden] { display: none; }` but bootstrap.min.css set `[hidden] { display: none !important; }` so we also need the `!important` here to be able to override the default hidden behavior on the sphinx rendered scikit-learn.org. See: https://github.com/scikit-learn/scikit-learn/issues/21755 */display: inline-block !important;position: relative;}#sk-container-id-1 div.sk-text-repr-fallback {display: none;}</style><div id=\"sk-container-id-1\" class=\"sk-top-container\"><div class=\"sk-text-repr-fallback\"><pre>KElbowVisualizer(ax=&lt;AxesSubplot:&gt;,\n",
       "                 estimator=KMeans(n_clusters=10, random_state=0))</pre><b>In a Jupyter environment, please rerun this cell to show the HTML representation or trust the notebook. <br />On GitHub, the HTML representation is unable to render, please try loading this page with nbviewer.org.</b></div><div class=\"sk-container\" hidden><div class=\"sk-item sk-dashed-wrapped\"><div class=\"sk-label-container\"><div class=\"sk-label sk-toggleable\"><input class=\"sk-toggleable__control sk-hidden--visually\" id=\"sk-estimator-id-1\" type=\"checkbox\" ><label for=\"sk-estimator-id-1\" class=\"sk-toggleable__label sk-toggleable__label-arrow\">KElbowVisualizer</label><div class=\"sk-toggleable__content\"><pre>KElbowVisualizer(ax=&lt;AxesSubplot:&gt;,\n",
       "                 estimator=KMeans(n_clusters=10, random_state=0))</pre></div></div></div><div class=\"sk-parallel\"><div class=\"sk-parallel-item\"><div class=\"sk-item\"><div class=\"sk-label-container\"><div class=\"sk-label sk-toggleable\"><input class=\"sk-toggleable__control sk-hidden--visually\" id=\"sk-estimator-id-2\" type=\"checkbox\" ><label for=\"sk-estimator-id-2\" class=\"sk-toggleable__label sk-toggleable__label-arrow\">estimator: KMeans</label><div class=\"sk-toggleable__content\"><pre>KMeans(n_clusters=10, random_state=0)</pre></div></div></div><div class=\"sk-serial\"><div class=\"sk-item\"><div class=\"sk-estimator sk-toggleable\"><input class=\"sk-toggleable__control sk-hidden--visually\" id=\"sk-estimator-id-3\" type=\"checkbox\" ><label for=\"sk-estimator-id-3\" class=\"sk-toggleable__label sk-toggleable__label-arrow\">KMeans</label><div class=\"sk-toggleable__content\"><pre>KMeans(n_clusters=10, random_state=0)</pre></div></div></div></div></div></div></div></div></div></div>"
      ],
      "text/plain": [
       "KElbowVisualizer(ax=<AxesSubplot:>,\n",
       "                 estimator=KMeans(n_clusters=10, random_state=0))"
      ]
     },
     "execution_count": 52,
     "metadata": {},
     "output_type": "execute_result"
    },
    {
     "data": {
      "image/png": "[encoded data removed]",
      "text/plain": [
       "<Figure size 576x396 with 2 Axes>"
      ]
     },
     "metadata": {},
     "output_type": "display_data"
    }
   ],
   "source": [
    "cluster_data = wt_outliers.loc[:,['month','day','day_of_week','hour_of_day']]\n",
    "elbow.fit(cluster_data)"
   ]
  },
  {
   "cell_type": "code",
   "execution_count": null,
   "id": "28fc3935",
   "metadata": {},
   "outputs": [],
   "source": []
  },
  {
   "cell_type": "code",
   "execution_count": 53,
   "id": "e6e1e98f",
   "metadata": {},
   "outputs": [],
   "source": [
    "# use 5 clusters to generate the labels\n",
    "\n",
    "kmeans = KMeans(n_clusters=5,random_state=0)\n",
    "cluster_data = wt_outliers.loc[:,['month','day','day_of_week','hour_of_day']]\n",
    "\n",
    "\n",
    "labels = kmeans.fit(cluster_data)\n",
    "wt_outliers['cluster_labels']=labels.labels_"
   ]
  },
  {
   "cell_type": "code",
   "execution_count": 54,
   "id": "21d66d22",
   "metadata": {},
   "outputs": [
    {
     "data": {
      "text/html": [
       "<div>\n",
       "<style scoped>\n",
       "    .dataframe tbody tr th:only-of-type {\n",
       "        vertical-align: middle;\n",
       "    }\n",
       "\n",
       "    .dataframe tbody tr th {\n",
       "        vertical-align: top;\n",
       "    }\n",
       "\n",
       "    .dataframe thead th {\n",
       "        text-align: right;\n",
       "    }\n",
       "</style>\n",
       "<table border=\"1\" class=\"dataframe\">\n",
       "  <thead>\n",
       "    <tr style=\"text-align: right;\">\n",
       "      <th></th>\n",
       "      <th>trip_distance</th>\n",
       "      <th>rate_code</th>\n",
       "      <th>store_and_fwd_flag</th>\n",
       "      <th>payment_type</th>\n",
       "      <th>fare_amount</th>\n",
       "      <th>extra</th>\n",
       "      <th>mta_tax</th>\n",
       "      <th>tip_amount</th>\n",
       "      <th>tolls_amount</th>\n",
       "      <th>imp_surcharge</th>\n",
       "      <th>...</th>\n",
       "      <th>month</th>\n",
       "      <th>day</th>\n",
       "      <th>day_of_week</th>\n",
       "      <th>hour_of_day</th>\n",
       "      <th>trip_duration</th>\n",
       "      <th>calculated_total_amount</th>\n",
       "      <th>rush_hour</th>\n",
       "      <th>target_diff</th>\n",
       "      <th>target_diff_cat</th>\n",
       "      <th>cluster_labels</th>\n",
       "    </tr>\n",
       "  </thead>\n",
       "  <tbody>\n",
       "    <tr>\n",
       "      <th>0</th>\n",
       "      <td>9.01</td>\n",
       "      <td>1</td>\n",
       "      <td>N</td>\n",
       "      <td>1</td>\n",
       "      <td>26.0</td>\n",
       "      <td>0.0</td>\n",
       "      <td>0.5</td>\n",
       "      <td>8.14</td>\n",
       "      <td>5.76</td>\n",
       "      <td>0.3</td>\n",
       "      <td>...</td>\n",
       "      <td>3</td>\n",
       "      <td>7</td>\n",
       "      <td>2</td>\n",
       "      <td>6</td>\n",
       "      <td>2131.0</td>\n",
       "      <td>24.30</td>\n",
       "      <td>0</td>\n",
       "      <td>16.40</td>\n",
       "      <td>Discount</td>\n",
       "      <td>0</td>\n",
       "    </tr>\n",
       "    <tr>\n",
       "      <th>1</th>\n",
       "      <td>0.20</td>\n",
       "      <td>1</td>\n",
       "      <td>N</td>\n",
       "      <td>1</td>\n",
       "      <td>3.0</td>\n",
       "      <td>0.0</td>\n",
       "      <td>0.5</td>\n",
       "      <td>0.75</td>\n",
       "      <td>0.00</td>\n",
       "      <td>0.3</td>\n",
       "      <td>...</td>\n",
       "      <td>2</td>\n",
       "      <td>25</td>\n",
       "      <td>6</td>\n",
       "      <td>10</td>\n",
       "      <td>2377.0</td>\n",
       "      <td>37.40</td>\n",
       "      <td>1</td>\n",
       "      <td>-32.85</td>\n",
       "      <td>Excess</td>\n",
       "      <td>4</td>\n",
       "    </tr>\n",
       "    <tr>\n",
       "      <th>2</th>\n",
       "      <td>9.65</td>\n",
       "      <td>1</td>\n",
       "      <td>N</td>\n",
       "      <td>1</td>\n",
       "      <td>41.5</td>\n",
       "      <td>0.0</td>\n",
       "      <td>0.5</td>\n",
       "      <td>9.61</td>\n",
       "      <td>5.76</td>\n",
       "      <td>0.3</td>\n",
       "      <td>...</td>\n",
       "      <td>1</td>\n",
       "      <td>29</td>\n",
       "      <td>0</td>\n",
       "      <td>8</td>\n",
       "      <td>1286.0</td>\n",
       "      <td>30.36</td>\n",
       "      <td>0</td>\n",
       "      <td>27.31</td>\n",
       "      <td>Discount</td>\n",
       "      <td>4</td>\n",
       "    </tr>\n",
       "    <tr>\n",
       "      <th>3</th>\n",
       "      <td>9.50</td>\n",
       "      <td>1</td>\n",
       "      <td>N</td>\n",
       "      <td>1</td>\n",
       "      <td>30.0</td>\n",
       "      <td>0.5</td>\n",
       "      <td>0.5</td>\n",
       "      <td>9.25</td>\n",
       "      <td>5.76</td>\n",
       "      <td>0.3</td>\n",
       "      <td>...</td>\n",
       "      <td>9</td>\n",
       "      <td>25</td>\n",
       "      <td>1</td>\n",
       "      <td>20</td>\n",
       "      <td>2586.0</td>\n",
       "      <td>4.30</td>\n",
       "      <td>1</td>\n",
       "      <td>42.01</td>\n",
       "      <td>Discount</td>\n",
       "      <td>3</td>\n",
       "    </tr>\n",
       "    <tr>\n",
       "      <th>4</th>\n",
       "      <td>5.80</td>\n",
       "      <td>1</td>\n",
       "      <td>N</td>\n",
       "      <td>1</td>\n",
       "      <td>21.5</td>\n",
       "      <td>0.5</td>\n",
       "      <td>0.5</td>\n",
       "      <td>4.56</td>\n",
       "      <td>0.00</td>\n",
       "      <td>0.3</td>\n",
       "      <td>...</td>\n",
       "      <td>8</td>\n",
       "      <td>20</td>\n",
       "      <td>0</td>\n",
       "      <td>21</td>\n",
       "      <td>1575.0</td>\n",
       "      <td>23.80</td>\n",
       "      <td>0</td>\n",
       "      <td>3.56</td>\n",
       "      <td>Discount</td>\n",
       "      <td>1</td>\n",
       "    </tr>\n",
       "  </tbody>\n",
       "</table>\n",
       "<p>5 rows × 24 columns</p>\n",
       "</div>"
      ],
      "text/plain": [
       "   trip_distance  rate_code store_and_fwd_flag  payment_type  fare_amount  \\\n",
       "0           9.01          1                  N             1         26.0   \n",
       "1           0.20          1                  N             1          3.0   \n",
       "2           9.65          1                  N             1         41.5   \n",
       "3           9.50          1                  N             1         30.0   \n",
       "4           5.80          1                  N             1         21.5   \n",
       "\n",
       "   extra  mta_tax  tip_amount  tolls_amount  imp_surcharge  ...  month  day  \\\n",
       "0    0.0      0.5        8.14          5.76            0.3  ...      3    7   \n",
       "1    0.0      0.5        0.75          0.00            0.3  ...      2   25   \n",
       "2    0.0      0.5        9.61          5.76            0.3  ...      1   29   \n",
       "3    0.5      0.5        9.25          5.76            0.3  ...      9   25   \n",
       "4    0.5      0.5        4.56          0.00            0.3  ...      8   20   \n",
       "\n",
       "   day_of_week  hour_of_day  trip_duration  calculated_total_amount  \\\n",
       "0            2            6         2131.0                    24.30   \n",
       "1            6           10         2377.0                    37.40   \n",
       "2            0            8         1286.0                    30.36   \n",
       "3            1           20         2586.0                     4.30   \n",
       "4            0           21         1575.0                    23.80   \n",
       "\n",
       "   rush_hour  target_diff  target_diff_cat  cluster_labels  \n",
       "0          0        16.40         Discount               0  \n",
       "1          1       -32.85           Excess               4  \n",
       "2          0        27.31         Discount               4  \n",
       "3          1        42.01         Discount               3  \n",
       "4          0         3.56         Discount               1  \n",
       "\n",
       "[5 rows x 24 columns]"
      ]
     },
     "execution_count": 54,
     "metadata": {},
     "output_type": "execute_result"
    }
   ],
   "source": [
    "wt_outliers.head()"
   ]
  },
  {
   "cell_type": "code",
   "execution_count": 55,
   "id": "5d73ff8f",
   "metadata": {},
   "outputs": [
    {
     "data": {
      "text/html": [
       "<div>\n",
       "<style scoped>\n",
       "    .dataframe tbody tr th:only-of-type {\n",
       "        vertical-align: middle;\n",
       "    }\n",
       "\n",
       "    .dataframe tbody tr th {\n",
       "        vertical-align: top;\n",
       "    }\n",
       "\n",
       "    .dataframe thead th {\n",
       "        text-align: right;\n",
       "    }\n",
       "</style>\n",
       "<table border=\"1\" class=\"dataframe\">\n",
       "  <thead>\n",
       "    <tr style=\"text-align: right;\">\n",
       "      <th></th>\n",
       "      <th>trip_distance</th>\n",
       "      <th>rate_code</th>\n",
       "      <th>payment_type</th>\n",
       "      <th>fare_amount</th>\n",
       "      <th>extra</th>\n",
       "      <th>mta_tax</th>\n",
       "      <th>tip_amount</th>\n",
       "      <th>tolls_amount</th>\n",
       "      <th>imp_surcharge</th>\n",
       "      <th>total_amount</th>\n",
       "      <th>...</th>\n",
       "      <th>year</th>\n",
       "      <th>month</th>\n",
       "      <th>day</th>\n",
       "      <th>day_of_week</th>\n",
       "      <th>hour_of_day</th>\n",
       "      <th>trip_duration</th>\n",
       "      <th>calculated_total_amount</th>\n",
       "      <th>rush_hour</th>\n",
       "      <th>target_diff</th>\n",
       "      <th>cluster_labels</th>\n",
       "    </tr>\n",
       "  </thead>\n",
       "  <tbody>\n",
       "    <tr>\n",
       "      <th>count</th>\n",
       "      <td>50000.000000</td>\n",
       "      <td>50000.00000</td>\n",
       "      <td>50000.000000</td>\n",
       "      <td>50000.000000</td>\n",
       "      <td>50000.000000</td>\n",
       "      <td>50000.000000</td>\n",
       "      <td>50000.000000</td>\n",
       "      <td>50000.000000</td>\n",
       "      <td>50000.000000</td>\n",
       "      <td>50000.000000</td>\n",
       "      <td>...</td>\n",
       "      <td>50000.0</td>\n",
       "      <td>50000.00000</td>\n",
       "      <td>50000.000000</td>\n",
       "      <td>50000.000000</td>\n",
       "      <td>50000.000000</td>\n",
       "      <td>50000.000000</td>\n",
       "      <td>35000.000000</td>\n",
       "      <td>50000.000000</td>\n",
       "      <td>35000.000000</td>\n",
       "      <td>50000.000000</td>\n",
       "    </tr>\n",
       "    <tr>\n",
       "      <th>mean</th>\n",
       "      <td>9.093300</td>\n",
       "      <td>1.10710</td>\n",
       "      <td>1.123720</td>\n",
       "      <td>31.896397</td>\n",
       "      <td>0.320838</td>\n",
       "      <td>0.486960</td>\n",
       "      <td>6.144731</td>\n",
       "      <td>2.259124</td>\n",
       "      <td>0.299934</td>\n",
       "      <td>41.417478</td>\n",
       "      <td>...</td>\n",
       "      <td>2018.0</td>\n",
       "      <td>6.12992</td>\n",
       "      <td>15.309240</td>\n",
       "      <td>2.882520</td>\n",
       "      <td>13.814780</td>\n",
       "      <td>2250.550020</td>\n",
       "      <td>41.324249</td>\n",
       "      <td>0.369700</td>\n",
       "      <td>0.118221</td>\n",
       "      <td>1.977340</td>\n",
       "    </tr>\n",
       "    <tr>\n",
       "      <th>std</th>\n",
       "      <td>4.491785</td>\n",
       "      <td>0.57243</td>\n",
       "      <td>0.350051</td>\n",
       "      <td>14.632630</td>\n",
       "      <td>0.407761</td>\n",
       "      <td>0.079687</td>\n",
       "      <td>4.436417</td>\n",
       "      <td>3.537413</td>\n",
       "      <td>0.004449</td>\n",
       "      <td>19.232173</td>\n",
       "      <td>...</td>\n",
       "      <td>0.0</td>\n",
       "      <td>3.33669</td>\n",
       "      <td>8.685061</td>\n",
       "      <td>1.925064</td>\n",
       "      <td>6.222891</td>\n",
       "      <td>5033.290248</td>\n",
       "      <td>19.167043</td>\n",
       "      <td>0.482728</td>\n",
       "      <td>27.139829</td>\n",
       "      <td>1.361904</td>\n",
       "    </tr>\n",
       "    <tr>\n",
       "      <th>min</th>\n",
       "      <td>0.010000</td>\n",
       "      <td>1.00000</td>\n",
       "      <td>1.000000</td>\n",
       "      <td>0.010000</td>\n",
       "      <td>0.000000</td>\n",
       "      <td>0.000000</td>\n",
       "      <td>0.000000</td>\n",
       "      <td>0.000000</td>\n",
       "      <td>0.000000</td>\n",
       "      <td>0.310000</td>\n",
       "      <td>...</td>\n",
       "      <td>2018.0</td>\n",
       "      <td>1.00000</td>\n",
       "      <td>1.000000</td>\n",
       "      <td>0.000000</td>\n",
       "      <td>0.000000</td>\n",
       "      <td>1.000000</td>\n",
       "      <td>0.310000</td>\n",
       "      <td>0.000000</td>\n",
       "      <td>-431.750000</td>\n",
       "      <td>0.000000</td>\n",
       "    </tr>\n",
       "    <tr>\n",
       "      <th>25%</th>\n",
       "      <td>6.490000</td>\n",
       "      <td>1.00000</td>\n",
       "      <td>1.000000</td>\n",
       "      <td>24.000000</td>\n",
       "      <td>0.000000</td>\n",
       "      <td>0.500000</td>\n",
       "      <td>4.460000</td>\n",
       "      <td>0.000000</td>\n",
       "      <td>0.300000</td>\n",
       "      <td>30.350000</td>\n",
       "      <td>...</td>\n",
       "      <td>2018.0</td>\n",
       "      <td>3.00000</td>\n",
       "      <td>7.000000</td>\n",
       "      <td>1.000000</td>\n",
       "      <td>10.000000</td>\n",
       "      <td>1452.000000</td>\n",
       "      <td>30.300000</td>\n",
       "      <td>0.000000</td>\n",
       "      <td>-12.450000</td>\n",
       "      <td>1.000000</td>\n",
       "    </tr>\n",
       "    <tr>\n",
       "      <th>50%</th>\n",
       "      <td>8.710000</td>\n",
       "      <td>1.00000</td>\n",
       "      <td>1.000000</td>\n",
       "      <td>29.000000</td>\n",
       "      <td>0.000000</td>\n",
       "      <td>0.500000</td>\n",
       "      <td>6.050000</td>\n",
       "      <td>0.000000</td>\n",
       "      <td>0.300000</td>\n",
       "      <td>38.470000</td>\n",
       "      <td>...</td>\n",
       "      <td>2018.0</td>\n",
       "      <td>6.00000</td>\n",
       "      <td>16.000000</td>\n",
       "      <td>3.000000</td>\n",
       "      <td>14.000000</td>\n",
       "      <td>1863.000000</td>\n",
       "      <td>38.460000</td>\n",
       "      <td>0.000000</td>\n",
       "      <td>0.100000</td>\n",
       "      <td>2.000000</td>\n",
       "    </tr>\n",
       "    <tr>\n",
       "      <th>75%</th>\n",
       "      <td>10.972500</td>\n",
       "      <td>1.00000</td>\n",
       "      <td>1.000000</td>\n",
       "      <td>36.000000</td>\n",
       "      <td>0.500000</td>\n",
       "      <td>0.500000</td>\n",
       "      <td>8.080000</td>\n",
       "      <td>5.760000</td>\n",
       "      <td>0.300000</td>\n",
       "      <td>48.300000</td>\n",
       "      <td>...</td>\n",
       "      <td>2018.0</td>\n",
       "      <td>9.00000</td>\n",
       "      <td>23.000000</td>\n",
       "      <td>4.000000</td>\n",
       "      <td>19.000000</td>\n",
       "      <td>2345.000000</td>\n",
       "      <td>48.200000</td>\n",
       "      <td>1.000000</td>\n",
       "      <td>12.610000</td>\n",
       "      <td>3.000000</td>\n",
       "    </tr>\n",
       "    <tr>\n",
       "      <th>max</th>\n",
       "      <td>79.010000</td>\n",
       "      <td>5.00000</td>\n",
       "      <td>4.000000</td>\n",
       "      <td>400.000000</td>\n",
       "      <td>18.500000</td>\n",
       "      <td>0.500000</td>\n",
       "      <td>215.000000</td>\n",
       "      <td>189.500000</td>\n",
       "      <td>0.300000</td>\n",
       "      <td>468.350000</td>\n",
       "      <td>...</td>\n",
       "      <td>2018.0</td>\n",
       "      <td>12.00000</td>\n",
       "      <td>31.000000</td>\n",
       "      <td>6.000000</td>\n",
       "      <td>23.000000</td>\n",
       "      <td>86347.000000</td>\n",
       "      <td>468.350000</td>\n",
       "      <td>1.000000</td>\n",
       "      <td>434.400000</td>\n",
       "      <td>4.000000</td>\n",
       "    </tr>\n",
       "  </tbody>\n",
       "</table>\n",
       "<p>8 rows × 22 columns</p>\n",
       "</div>"
      ],
      "text/plain": [
       "       trip_distance    rate_code  payment_type   fare_amount         extra  \\\n",
       "count   50000.000000  50000.00000  50000.000000  50000.000000  50000.000000   \n",
       "mean        9.093300      1.10710      1.123720     31.896397      0.320838   \n",
       "std         4.491785      0.57243      0.350051     14.632630      0.407761   \n",
       "min         0.010000      1.00000      1.000000      0.010000      0.000000   \n",
       "25%         6.490000      1.00000      1.000000     24.000000      0.000000   \n",
       "50%         8.710000      1.00000      1.000000     29.000000      0.000000   \n",
       "75%        10.972500      1.00000      1.000000     36.000000      0.500000   \n",
       "max        79.010000      5.00000      4.000000    400.000000     18.500000   \n",
       "\n",
       "            mta_tax    tip_amount  tolls_amount  imp_surcharge  total_amount  \\\n",
       "count  50000.000000  50000.000000  50000.000000   50000.000000  50000.000000   \n",
       "mean       0.486960      6.144731      2.259124       0.299934     41.417478   \n",
       "std        0.079687      4.436417      3.537413       0.004449     19.232173   \n",
       "min        0.000000      0.000000      0.000000       0.000000      0.310000   \n",
       "25%        0.500000      4.460000      0.000000       0.300000     30.350000   \n",
       "50%        0.500000      6.050000      0.000000       0.300000     38.470000   \n",
       "75%        0.500000      8.080000      5.760000       0.300000     48.300000   \n",
       "max        0.500000    215.000000    189.500000       0.300000    468.350000   \n",
       "\n",
       "       ...     year        month           day   day_of_week   hour_of_day  \\\n",
       "count  ...  50000.0  50000.00000  50000.000000  50000.000000  50000.000000   \n",
       "mean   ...   2018.0      6.12992     15.309240      2.882520     13.814780   \n",
       "std    ...      0.0      3.33669      8.685061      1.925064      6.222891   \n",
       "min    ...   2018.0      1.00000      1.000000      0.000000      0.000000   \n",
       "25%    ...   2018.0      3.00000      7.000000      1.000000     10.000000   \n",
       "50%    ...   2018.0      6.00000     16.000000      3.000000     14.000000   \n",
       "75%    ...   2018.0      9.00000     23.000000      4.000000     19.000000   \n",
       "max    ...   2018.0     12.00000     31.000000      6.000000     23.000000   \n",
       "\n",
       "       trip_duration  calculated_total_amount     rush_hour   target_diff  \\\n",
       "count   50000.000000             35000.000000  50000.000000  35000.000000   \n",
       "mean     2250.550020                41.324249      0.369700      0.118221   \n",
       "std      5033.290248                19.167043      0.482728     27.139829   \n",
       "min         1.000000                 0.310000      0.000000   -431.750000   \n",
       "25%      1452.000000                30.300000      0.000000    -12.450000   \n",
       "50%      1863.000000                38.460000      0.000000      0.100000   \n",
       "75%      2345.000000                48.200000      1.000000     12.610000   \n",
       "max     86347.000000               468.350000      1.000000    434.400000   \n",
       "\n",
       "       cluster_labels  \n",
       "count    50000.000000  \n",
       "mean         1.977340  \n",
       "std          1.361904  \n",
       "min          0.000000  \n",
       "25%          1.000000  \n",
       "50%          2.000000  \n",
       "75%          3.000000  \n",
       "max          4.000000  \n",
       "\n",
       "[8 rows x 22 columns]"
      ]
     },
     "execution_count": 55,
     "metadata": {},
     "output_type": "execute_result"
    }
   ],
   "source": [
    "wt_outliers.describe()"
   ]
  },
  {
   "cell_type": "code",
   "execution_count": 56,
   "id": "a8fce3f5",
   "metadata": {},
   "outputs": [],
   "source": [
    "# Drop the insignificant variables....\n",
    "\n",
    "\n",
    "new = wt_outliers.drop(['imp_surcharge','year','month','day',\n",
    "                        'day_of_week','hour_of_day','dropoff_location_id',\n",
    "                        'pickup_location_id'],axis=1)"
   ]
  },
  {
   "cell_type": "code",
   "execution_count": 57,
   "id": "0a7bba45",
   "metadata": {},
   "outputs": [
    {
     "data": {
      "text/html": [
       "<div>\n",
       "<style scoped>\n",
       "    .dataframe tbody tr th:only-of-type {\n",
       "        vertical-align: middle;\n",
       "    }\n",
       "\n",
       "    .dataframe tbody tr th {\n",
       "        vertical-align: top;\n",
       "    }\n",
       "\n",
       "    .dataframe thead th {\n",
       "        text-align: right;\n",
       "    }\n",
       "</style>\n",
       "<table border=\"1\" class=\"dataframe\">\n",
       "  <thead>\n",
       "    <tr style=\"text-align: right;\">\n",
       "      <th></th>\n",
       "      <th>trip_distance</th>\n",
       "      <th>rate_code</th>\n",
       "      <th>store_and_fwd_flag</th>\n",
       "      <th>payment_type</th>\n",
       "      <th>fare_amount</th>\n",
       "      <th>extra</th>\n",
       "      <th>mta_tax</th>\n",
       "      <th>tip_amount</th>\n",
       "      <th>tolls_amount</th>\n",
       "      <th>total_amount</th>\n",
       "      <th>trip_duration</th>\n",
       "      <th>calculated_total_amount</th>\n",
       "      <th>rush_hour</th>\n",
       "      <th>target_diff</th>\n",
       "      <th>target_diff_cat</th>\n",
       "      <th>cluster_labels</th>\n",
       "    </tr>\n",
       "  </thead>\n",
       "  <tbody>\n",
       "    <tr>\n",
       "      <th>0</th>\n",
       "      <td>9.01</td>\n",
       "      <td>1</td>\n",
       "      <td>N</td>\n",
       "      <td>1</td>\n",
       "      <td>26.0</td>\n",
       "      <td>0.0</td>\n",
       "      <td>0.5</td>\n",
       "      <td>8.14</td>\n",
       "      <td>5.76</td>\n",
       "      <td>40.70</td>\n",
       "      <td>2131.0</td>\n",
       "      <td>24.30</td>\n",
       "      <td>0</td>\n",
       "      <td>16.40</td>\n",
       "      <td>Discount</td>\n",
       "      <td>0</td>\n",
       "    </tr>\n",
       "    <tr>\n",
       "      <th>1</th>\n",
       "      <td>0.20</td>\n",
       "      <td>1</td>\n",
       "      <td>N</td>\n",
       "      <td>1</td>\n",
       "      <td>3.0</td>\n",
       "      <td>0.0</td>\n",
       "      <td>0.5</td>\n",
       "      <td>0.75</td>\n",
       "      <td>0.00</td>\n",
       "      <td>4.55</td>\n",
       "      <td>2377.0</td>\n",
       "      <td>37.40</td>\n",
       "      <td>1</td>\n",
       "      <td>-32.85</td>\n",
       "      <td>Excess</td>\n",
       "      <td>4</td>\n",
       "    </tr>\n",
       "    <tr>\n",
       "      <th>2</th>\n",
       "      <td>9.65</td>\n",
       "      <td>1</td>\n",
       "      <td>N</td>\n",
       "      <td>1</td>\n",
       "      <td>41.5</td>\n",
       "      <td>0.0</td>\n",
       "      <td>0.5</td>\n",
       "      <td>9.61</td>\n",
       "      <td>5.76</td>\n",
       "      <td>57.67</td>\n",
       "      <td>1286.0</td>\n",
       "      <td>30.36</td>\n",
       "      <td>0</td>\n",
       "      <td>27.31</td>\n",
       "      <td>Discount</td>\n",
       "      <td>4</td>\n",
       "    </tr>\n",
       "    <tr>\n",
       "      <th>3</th>\n",
       "      <td>9.50</td>\n",
       "      <td>1</td>\n",
       "      <td>N</td>\n",
       "      <td>1</td>\n",
       "      <td>30.0</td>\n",
       "      <td>0.5</td>\n",
       "      <td>0.5</td>\n",
       "      <td>9.25</td>\n",
       "      <td>5.76</td>\n",
       "      <td>46.31</td>\n",
       "      <td>2586.0</td>\n",
       "      <td>4.30</td>\n",
       "      <td>1</td>\n",
       "      <td>42.01</td>\n",
       "      <td>Discount</td>\n",
       "      <td>3</td>\n",
       "    </tr>\n",
       "    <tr>\n",
       "      <th>4</th>\n",
       "      <td>5.80</td>\n",
       "      <td>1</td>\n",
       "      <td>N</td>\n",
       "      <td>1</td>\n",
       "      <td>21.5</td>\n",
       "      <td>0.5</td>\n",
       "      <td>0.5</td>\n",
       "      <td>4.56</td>\n",
       "      <td>0.00</td>\n",
       "      <td>27.36</td>\n",
       "      <td>1575.0</td>\n",
       "      <td>23.80</td>\n",
       "      <td>0</td>\n",
       "      <td>3.56</td>\n",
       "      <td>Discount</td>\n",
       "      <td>1</td>\n",
       "    </tr>\n",
       "  </tbody>\n",
       "</table>\n",
       "</div>"
      ],
      "text/plain": [
       "   trip_distance  rate_code store_and_fwd_flag  payment_type  fare_amount  \\\n",
       "0           9.01          1                  N             1         26.0   \n",
       "1           0.20          1                  N             1          3.0   \n",
       "2           9.65          1                  N             1         41.5   \n",
       "3           9.50          1                  N             1         30.0   \n",
       "4           5.80          1                  N             1         21.5   \n",
       "\n",
       "   extra  mta_tax  tip_amount  tolls_amount  total_amount  trip_duration  \\\n",
       "0    0.0      0.5        8.14          5.76         40.70         2131.0   \n",
       "1    0.0      0.5        0.75          0.00          4.55         2377.0   \n",
       "2    0.0      0.5        9.61          5.76         57.67         1286.0   \n",
       "3    0.5      0.5        9.25          5.76         46.31         2586.0   \n",
       "4    0.5      0.5        4.56          0.00         27.36         1575.0   \n",
       "\n",
       "   calculated_total_amount  rush_hour  target_diff target_diff_cat  \\\n",
       "0                    24.30          0        16.40        Discount   \n",
       "1                    37.40          1       -32.85          Excess   \n",
       "2                    30.36          0        27.31        Discount   \n",
       "3                     4.30          1        42.01        Discount   \n",
       "4                    23.80          0         3.56        Discount   \n",
       "\n",
       "   cluster_labels  \n",
       "0               0  \n",
       "1               4  \n",
       "2               4  \n",
       "3               3  \n",
       "4               1  "
      ]
     },
     "execution_count": 57,
     "metadata": {},
     "output_type": "execute_result"
    }
   ],
   "source": [
    "new.head()"
   ]
  },
  {
   "cell_type": "code",
   "execution_count": 58,
   "id": "116bce0e",
   "metadata": {},
   "outputs": [
    {
     "data": {
      "text/plain": [
       "((35000, 20), (15000, 19), (50000, 16))"
      ]
     },
     "execution_count": 58,
     "metadata": {},
     "output_type": "execute_result"
    }
   ],
   "source": [
    "# split the data in Train and Test\n",
    "\n",
    "train.shape,test.shape,new.shape"
   ]
  },
  {
   "cell_type": "code",
   "execution_count": 59,
   "id": "544dc673",
   "metadata": {},
   "outputs": [],
   "source": [
    "newtrain=new.loc[0:train.shape[0]-1,:]\n",
    "newtest= new.loc[train.shape[0]:,:]"
   ]
  },
  {
   "cell_type": "code",
   "execution_count": 60,
   "id": "4015932a",
   "metadata": {},
   "outputs": [
    {
     "data": {
      "text/plain": [
       "((35000, 16), (15000, 16))"
      ]
     },
     "execution_count": 60,
     "metadata": {},
     "output_type": "execute_result"
    }
   ],
   "source": [
    "newtrain.shape,newtest.shape"
   ]
  },
  {
   "cell_type": "code",
   "execution_count": 61,
   "id": "7b4f8118",
   "metadata": {},
   "outputs": [
    {
     "data": {
      "text/html": [
       "<div>\n",
       "<style scoped>\n",
       "    .dataframe tbody tr th:only-of-type {\n",
       "        vertical-align: middle;\n",
       "    }\n",
       "\n",
       "    .dataframe tbody tr th {\n",
       "        vertical-align: top;\n",
       "    }\n",
       "\n",
       "    .dataframe thead th {\n",
       "        text-align: right;\n",
       "    }\n",
       "</style>\n",
       "<table border=\"1\" class=\"dataframe\">\n",
       "  <thead>\n",
       "    <tr style=\"text-align: right;\">\n",
       "      <th></th>\n",
       "      <th>trip_distance</th>\n",
       "      <th>rate_code</th>\n",
       "      <th>store_and_fwd_flag</th>\n",
       "      <th>payment_type</th>\n",
       "      <th>fare_amount</th>\n",
       "      <th>extra</th>\n",
       "      <th>mta_tax</th>\n",
       "      <th>tip_amount</th>\n",
       "      <th>tolls_amount</th>\n",
       "      <th>total_amount</th>\n",
       "      <th>trip_duration</th>\n",
       "      <th>calculated_total_amount</th>\n",
       "      <th>rush_hour</th>\n",
       "      <th>target_diff</th>\n",
       "      <th>target_diff_cat</th>\n",
       "      <th>cluster_labels</th>\n",
       "    </tr>\n",
       "  </thead>\n",
       "  <tbody>\n",
       "    <tr>\n",
       "      <th>35000</th>\n",
       "      <td>15.7</td>\n",
       "      <td>1</td>\n",
       "      <td>N</td>\n",
       "      <td>2</td>\n",
       "      <td>45.0</td>\n",
       "      <td>0.0</td>\n",
       "      <td>0.5</td>\n",
       "      <td>0.0</td>\n",
       "      <td>0.0</td>\n",
       "      <td>45.8</td>\n",
       "      <td>3967.0</td>\n",
       "      <td>NaN</td>\n",
       "      <td>1</td>\n",
       "      <td>NaN</td>\n",
       "      <td>Excess</td>\n",
       "      <td>1</td>\n",
       "    </tr>\n",
       "  </tbody>\n",
       "</table>\n",
       "</div>"
      ],
      "text/plain": [
       "       trip_distance  rate_code store_and_fwd_flag  payment_type  fare_amount  \\\n",
       "35000           15.7          1                  N             2         45.0   \n",
       "\n",
       "       extra  mta_tax  tip_amount  tolls_amount  total_amount  trip_duration  \\\n",
       "35000    0.0      0.5         0.0           0.0          45.8         3967.0   \n",
       "\n",
       "       calculated_total_amount  rush_hour  target_diff target_diff_cat  \\\n",
       "35000                      NaN          1          NaN          Excess   \n",
       "\n",
       "       cluster_labels  \n",
       "35000               1  "
      ]
     },
     "execution_count": 61,
     "metadata": {},
     "output_type": "execute_result"
    }
   ],
   "source": [
    "newtest.head(1)"
   ]
  },
  {
   "cell_type": "code",
   "execution_count": 62,
   "id": "a6b442f0",
   "metadata": {},
   "outputs": [],
   "source": [
    "newtrain.drop(['target_diff','target_diff_cat'],axis=1,inplace=True)\n",
    "newtest.drop(['calculated_total_amount','target_diff','target_diff_cat'],axis=1,inplace=True)"
   ]
  },
  {
   "cell_type": "code",
   "execution_count": 63,
   "id": "12ed5951",
   "metadata": {},
   "outputs": [
    {
     "data": {
      "text/plain": [
       "((35000, 14), (15000, 13))"
      ]
     },
     "execution_count": 63,
     "metadata": {},
     "output_type": "execute_result"
    }
   ],
   "source": [
    "newtrain.shape,newtest.shape"
   ]
  },
  {
   "cell_type": "code",
   "execution_count": 64,
   "id": "b098c07a",
   "metadata": {},
   "outputs": [],
   "source": [
    "# Outlier from Train Data\n",
    "# Apply Statistical Analysis\n",
    "# Models ~ LinearRegression, Ridge,Lasso and Random Forest, GBM,XGBOOST\n",
    "# Stacking Model ~ LightGBM & Standalone Lightgbm..."
   ]
  },
  {
   "cell_type": "code",
   "execution_count": 65,
   "id": "c4fa9222",
   "metadata": {},
   "outputs": [
    {
     "data": {
      "text/plain": [
       "(25047, 14)"
      ]
     },
     "execution_count": 65,
     "metadata": {},
     "output_type": "execute_result"
    }
   ],
   "source": [
    "q1 = newtrain.quantile(0.25)\n",
    "q3 = newtrain.quantile(0.75)\n",
    "iqr = q3-q1\n",
    "ul = q3+1.5*iqr\n",
    "ll = q1-1.5*iqr\n",
    "final = newtrain.loc[~((newtrain<ll)|(newtrain>ul)).any(axis=1)]\n",
    "final.shape"
   ]
  },
  {
   "cell_type": "code",
   "execution_count": 66,
   "id": "e1ff42a9",
   "metadata": {
    "scrolled": true
   },
   "outputs": [
    {
     "data": {
      "text/plain": [
       "Index(['trip_distance', 'rate_code', 'payment_type', 'fare_amount', 'extra',\n",
       "       'mta_tax', 'tip_amount', 'tolls_amount', 'total_amount',\n",
       "       'trip_duration', 'calculated_total_amount', 'rush_hour',\n",
       "       'cluster_labels'],\n",
       "      dtype='object')"
      ]
     },
     "execution_count": 66,
     "metadata": {},
     "output_type": "execute_result"
    }
   ],
   "source": [
    "final.select_dtypes(include=np.number).columns"
   ]
  },
  {
   "cell_type": "code",
   "execution_count": 67,
   "id": "13ec00df",
   "metadata": {},
   "outputs": [
    {
     "data": {
      "text/plain": [
       "Index(['trip_distance', 'rate_code', 'store_and_fwd_flag', 'payment_type',\n",
       "       'fare_amount', 'extra', 'mta_tax', 'tip_amount', 'tolls_amount',\n",
       "       'total_amount', 'trip_duration', 'calculated_total_amount', 'rush_hour',\n",
       "       'cluster_labels'],\n",
       "      dtype='object')"
      ]
     },
     "execution_count": 67,
     "metadata": {},
     "output_type": "execute_result"
    }
   ],
   "source": [
    "final.columns"
   ]
  },
  {
   "cell_type": "code",
   "execution_count": 68,
   "id": "d5d24c61",
   "metadata": {},
   "outputs": [
    {
     "data": {
      "text/plain": [
       "Index(['trip_distance', 'rate_code', 'store_and_fwd_flag', 'payment_type',\n",
       "       'fare_amount', 'extra', 'mta_tax', 'tip_amount', 'tolls_amount',\n",
       "       'total_amount', 'trip_duration', 'rush_hour', 'cluster_labels'],\n",
       "      dtype='object')"
      ]
     },
     "execution_count": 68,
     "metadata": {},
     "output_type": "execute_result"
    }
   ],
   "source": [
    "newtest.columns"
   ]
  },
  {
   "cell_type": "code",
   "execution_count": 69,
   "id": "e601898a",
   "metadata": {},
   "outputs": [],
   "source": [
    "cat_cols = ['rate_code','payment_type',\n",
    "           'mta_tax','store_and_fwd_flag','rush_hour']"
   ]
  },
  {
   "cell_type": "code",
   "execution_count": 70,
   "id": "35c67d30",
   "metadata": {},
   "outputs": [],
   "source": [
    "# Anova for payment type\n",
    "\n",
    "import statsmodels.formula.api as sfa\n",
    "from statsmodels.stats.anova import anova_lm"
   ]
  },
  {
   "cell_type": "code",
   "execution_count": 71,
   "id": "60f7893c",
   "metadata": {},
   "outputs": [
    {
     "name": "stdout",
     "output_type": "stream",
     "text": [
      "                df        sum_sq     mean_sq         F    PR(>F)\n",
      "rush_hour      1.0  5.616087e+02  561.608695  3.708571  0.054145\n",
      "Residual   25045.0  3.792698e+06  151.435318       NaN       NaN\n"
     ]
    }
   ],
   "source": [
    "model = sfa.ols(\"calculated_total_amount~rush_hour\",data = final).fit()\n",
    "\n",
    "print(anova_lm(model))"
   ]
  },
  {
   "cell_type": "code",
   "execution_count": 72,
   "id": "9b757c26",
   "metadata": {
    "scrolled": true
   },
   "outputs": [
    {
     "data": {
      "text/html": [
       "<div>\n",
       "<style scoped>\n",
       "    .dataframe tbody tr th:only-of-type {\n",
       "        vertical-align: middle;\n",
       "    }\n",
       "\n",
       "    .dataframe tbody tr th {\n",
       "        vertical-align: top;\n",
       "    }\n",
       "\n",
       "    .dataframe thead th {\n",
       "        text-align: right;\n",
       "    }\n",
       "</style>\n",
       "<table border=\"1\" class=\"dataframe\">\n",
       "  <thead>\n",
       "    <tr style=\"text-align: right;\">\n",
       "      <th></th>\n",
       "      <th>trip_distance</th>\n",
       "      <th>rate_code</th>\n",
       "      <th>store_and_fwd_flag</th>\n",
       "      <th>payment_type</th>\n",
       "      <th>fare_amount</th>\n",
       "      <th>extra</th>\n",
       "      <th>mta_tax</th>\n",
       "      <th>tip_amount</th>\n",
       "      <th>tolls_amount</th>\n",
       "      <th>total_amount</th>\n",
       "      <th>trip_duration</th>\n",
       "      <th>calculated_total_amount</th>\n",
       "      <th>rush_hour</th>\n",
       "      <th>cluster_labels</th>\n",
       "    </tr>\n",
       "  </thead>\n",
       "  <tbody>\n",
       "    <tr>\n",
       "      <th>0</th>\n",
       "      <td>9.01</td>\n",
       "      <td>1</td>\n",
       "      <td>N</td>\n",
       "      <td>1</td>\n",
       "      <td>26.0</td>\n",
       "      <td>0.0</td>\n",
       "      <td>0.5</td>\n",
       "      <td>8.14</td>\n",
       "      <td>5.76</td>\n",
       "      <td>40.70</td>\n",
       "      <td>2131.0</td>\n",
       "      <td>24.30</td>\n",
       "      <td>0</td>\n",
       "      <td>0</td>\n",
       "    </tr>\n",
       "    <tr>\n",
       "      <th>2</th>\n",
       "      <td>9.65</td>\n",
       "      <td>1</td>\n",
       "      <td>N</td>\n",
       "      <td>1</td>\n",
       "      <td>41.5</td>\n",
       "      <td>0.0</td>\n",
       "      <td>0.5</td>\n",
       "      <td>9.61</td>\n",
       "      <td>5.76</td>\n",
       "      <td>57.67</td>\n",
       "      <td>1286.0</td>\n",
       "      <td>30.36</td>\n",
       "      <td>0</td>\n",
       "      <td>4</td>\n",
       "    </tr>\n",
       "    <tr>\n",
       "      <th>3</th>\n",
       "      <td>9.50</td>\n",
       "      <td>1</td>\n",
       "      <td>N</td>\n",
       "      <td>1</td>\n",
       "      <td>30.0</td>\n",
       "      <td>0.5</td>\n",
       "      <td>0.5</td>\n",
       "      <td>9.25</td>\n",
       "      <td>5.76</td>\n",
       "      <td>46.31</td>\n",
       "      <td>2586.0</td>\n",
       "      <td>4.30</td>\n",
       "      <td>1</td>\n",
       "      <td>3</td>\n",
       "    </tr>\n",
       "    <tr>\n",
       "      <th>4</th>\n",
       "      <td>5.80</td>\n",
       "      <td>1</td>\n",
       "      <td>N</td>\n",
       "      <td>1</td>\n",
       "      <td>21.5</td>\n",
       "      <td>0.5</td>\n",
       "      <td>0.5</td>\n",
       "      <td>4.56</td>\n",
       "      <td>0.00</td>\n",
       "      <td>27.36</td>\n",
       "      <td>1575.0</td>\n",
       "      <td>23.80</td>\n",
       "      <td>0</td>\n",
       "      <td>1</td>\n",
       "    </tr>\n",
       "    <tr>\n",
       "      <th>5</th>\n",
       "      <td>12.65</td>\n",
       "      <td>1</td>\n",
       "      <td>N</td>\n",
       "      <td>1</td>\n",
       "      <td>41.5</td>\n",
       "      <td>0.0</td>\n",
       "      <td>0.5</td>\n",
       "      <td>0.02</td>\n",
       "      <td>5.76</td>\n",
       "      <td>48.08</td>\n",
       "      <td>2029.0</td>\n",
       "      <td>30.95</td>\n",
       "      <td>0</td>\n",
       "      <td>0</td>\n",
       "    </tr>\n",
       "  </tbody>\n",
       "</table>\n",
       "</div>"
      ],
      "text/plain": [
       "   trip_distance  rate_code store_and_fwd_flag  payment_type  fare_amount  \\\n",
       "0           9.01          1                  N             1         26.0   \n",
       "2           9.65          1                  N             1         41.5   \n",
       "3           9.50          1                  N             1         30.0   \n",
       "4           5.80          1                  N             1         21.5   \n",
       "5          12.65          1                  N             1         41.5   \n",
       "\n",
       "   extra  mta_tax  tip_amount  tolls_amount  total_amount  trip_duration  \\\n",
       "0    0.0      0.5        8.14          5.76         40.70         2131.0   \n",
       "2    0.0      0.5        9.61          5.76         57.67         1286.0   \n",
       "3    0.5      0.5        9.25          5.76         46.31         2586.0   \n",
       "4    0.5      0.5        4.56          0.00         27.36         1575.0   \n",
       "5    0.0      0.5        0.02          5.76         48.08         2029.0   \n",
       "\n",
       "   calculated_total_amount  rush_hour  cluster_labels  \n",
       "0                    24.30          0               0  \n",
       "2                    30.36          0               4  \n",
       "3                     4.30          1               3  \n",
       "4                    23.80          0               1  \n",
       "5                    30.95          0               0  "
      ]
     },
     "execution_count": 72,
     "metadata": {},
     "output_type": "execute_result"
    }
   ],
   "source": [
    "final.head()"
   ]
  },
  {
   "cell_type": "code",
   "execution_count": 73,
   "id": "cea8f129",
   "metadata": {},
   "outputs": [],
   "source": [
    "final.drop(['store_and_fwd_flag','mta_tax'],axis=1,inplace=True)"
   ]
  },
  {
   "cell_type": "code",
   "execution_count": 76,
   "id": "99eadae2",
   "metadata": {},
   "outputs": [],
   "source": [
    "newtrain.drop(['store_and_fwd_flag','mta_tax'],axis=1,inplace=True)\n",
    "newtest.drop(['store_and_fwd_flag','mta_tax'],axis=1,inplace=True)"
   ]
  },
  {
   "cell_type": "code",
   "execution_count": 87,
   "id": "6a35f052",
   "metadata": {},
   "outputs": [
    {
     "name": "stdout",
     "output_type": "stream",
     "text": [
      "Collecting lightgbm\n",
      "  Downloading lightgbm-3.3.3-py3-none-win_amd64.whl (1.0 MB)\n",
      "Requirement already satisfied: scikit-learn!=0.22.0 in c:\\users\\91771\\anaconda3\\lib\\site-packages (from lightgbm) (1.1.3)\n",
      "Requirement already satisfied: numpy in c:\\users\\91771\\anaconda3\\lib\\site-packages (from lightgbm) (1.21.5)\n",
      "Requirement already satisfied: wheel in c:\\users\\91771\\anaconda3\\lib\\site-packages (from lightgbm) (0.37.1)\n",
      "Requirement already satisfied: scipy in c:\\users\\91771\\anaconda3\\lib\\site-packages (from lightgbm) (1.7.3)\n",
      "Requirement already satisfied: threadpoolctl>=2.0.0 in c:\\users\\91771\\anaconda3\\lib\\site-packages (from scikit-learn!=0.22.0->lightgbm) (2.2.0)\n",
      "Requirement already satisfied: joblib>=1.0.0 in c:\\users\\91771\\anaconda3\\lib\\site-packages (from scikit-learn!=0.22.0->lightgbm) (1.1.0)\n",
      "Installing collected packages: lightgbm\n",
      "Successfully installed lightgbm-3.3.3\n"
     ]
    }
   ],
   "source": [
    "!pip install lightgbm"
   ]
  },
  {
   "cell_type": "code",
   "execution_count": 88,
   "id": "aa1a2e62",
   "metadata": {},
   "outputs": [],
   "source": [
    "# Modeling\n",
    "\n",
    "from sklearn.linear_model import LinearRegression,Lasso,Ridge\n",
    "from sklearn.ensemble import GradientBoostingRegressor,RandomForestRegressor\n",
    "from sklearn.model_selection import KFold\n",
    "\n",
    "kfold = KFold(n_splits =5, shuffle =True,random_state=0)\n",
    "\n",
    "#split the Train Data in X and y\n",
    "X = final.drop('calculated_total_amount',axis=1)\n",
    "y = final.calculated_total_amount\n",
    "\n",
    "\n",
    "pred=[]\n",
    "#lr = RandomForestRegressor()\n",
    "\n",
    "from lightgbm import LGBMRegressor\n",
    "lr = LGBMRegressor()\n",
    "for train_index,test_index in kfold.split(X,y):\n",
    "    xtrain = X.iloc[train_index]\n",
    "    ytrain = y.iloc[train_index]\n",
    "    pred.append(lr.fit(xtrain,ytrain).predict(newtest))"
   ]
  },
  {
   "cell_type": "code",
   "execution_count": 89,
   "id": "1417eccb",
   "metadata": {},
   "outputs": [],
   "source": [
    "# Generate the Final Output..\n",
    "\n",
    "output = pd.DataFrame(pred).T.mean(axis=1)\n",
    "\n",
    "submission = pd.DataFrame({'calculated_total_amount':output})\n",
    "submission.to_csv('LGBmodel.csv',index=False)"
   ]
  },
  {
   "cell_type": "code",
   "execution_count": 79,
   "id": "57240253",
   "metadata": {},
   "outputs": [
    {
     "name": "stdout",
     "output_type": "stream",
     "text": [
      "C:\\Users\\91771\n"
     ]
    }
   ],
   "source": [
    "cd"
   ]
  },
  {
   "cell_type": "code",
   "execution_count": 90,
   "id": "eda45907",
   "metadata": {},
   "outputs": [],
   "source": [
    "# StackingModel\n",
    "\n",
    "from sklearn.ensemble import StackingRegressor\n",
    "from xgboost import XGBRegressor\n",
    "\n",
    "basemodels =[('lr',LinearRegression()),('rf',RandomForestRegressor()),\n",
    "            ('gbm',GradientBoostingRegressor()),('lasso',Lasso())]\n",
    "\n",
    "finalmodel = XGBRegressor()\n",
    "\n",
    "stack = StackingRegressor(estimators=basemodels,final_estimator=finalmodel,\n",
    "                         cv=KFold(n_splits= 5,shuffle=True,random_state=0))\n",
    "\n",
    "pred=[]\n",
    "\n",
    "for train_index,test_index in kfold.split(X,y):\n",
    "    xtrain = X.iloc[train_index]\n",
    "    ytrain = y.iloc[train_index]\n",
    "    pred.append(stack.fit(xtrain,ytrain).predict(newtest))\n"
   ]
  },
  {
   "cell_type": "code",
   "execution_count": 91,
   "id": "cef4b346",
   "metadata": {},
   "outputs": [],
   "source": [
    "# Generate the Final Output..\n",
    "\n",
    "output = pd.DataFrame(pred).T.mean(axis=1)\n",
    "\n",
    "submission = pd.DataFrame({'calculated_total_amount':output})\n",
    "submission.to_csv('Stackmodel.csv',index=False)"
   ]
  },
  {
   "cell_type": "code",
   "execution_count": null,
   "id": "0587f16e",
   "metadata": {},
   "outputs": [],
   "source": []
  },
  {
   "cell_type": "code",
   "execution_count": null,
   "id": "faec25e0",
   "metadata": {},
   "outputs": [],
   "source": []
  },
  {
   "cell_type": "code",
   "execution_count": null,
   "id": "2d82662e",
   "metadata": {},
   "outputs": [],
   "source": []
  },
  {
   "cell_type": "code",
   "execution_count": null,
   "id": "80a58747",
   "metadata": {},
   "outputs": [],
   "source": []
  },
  {
   "cell_type": "code",
   "execution_count": null,
   "id": "64052109",
   "metadata": {},
   "outputs": [],
   "source": []
  },
  {
   "cell_type": "code",
   "execution_count": null,
   "id": "dd4a273e",
   "metadata": {},
   "outputs": [],
   "source": []
  },
  {
   "cell_type": "code",
   "execution_count": null,
   "id": "7ce941f4",
   "metadata": {},
   "outputs": [],
   "source": []
  },
  {
   "cell_type": "code",
   "execution_count": null,
   "id": "642dd538",
   "metadata": {},
   "outputs": [],
   "source": []
  },
  {
   "cell_type": "code",
   "execution_count": null,
   "id": "4e8ffb1a",
   "metadata": {},
   "outputs": [],
   "source": []
  },
  {
   "cell_type": "code",
   "execution_count": null,
   "id": "e7aec7f4",
   "metadata": {},
   "outputs": [],
   "source": []
  },
  {
   "cell_type": "code",
   "execution_count": null,
   "id": "7b4ad741",
   "metadata": {},
   "outputs": [],
   "source": []
  },
  {
   "cell_type": "code",
   "execution_count": null,
   "id": "2e8d7a7b",
   "metadata": {},
   "outputs": [],
   "source": []
  }
 ],
 "metadata": {
  "kernelspec": {
   "display_name": "Python 3 (ipykernel)",
   "language": "python",
   "name": "python3"
  },
  "language_info": {
   "codemirror_mode": {
    "name": "ipython",
    "version": 3
   },
   "file_extension": ".py",
   "mimetype": "text/x-python",
   "name": "python",
   "nbconvert_exporter": "python",
   "pygments_lexer": "ipython3",
   "version": "3.9.12"
  }
 },
 "nbformat": 4,
 "nbformat_minor": 5
}
