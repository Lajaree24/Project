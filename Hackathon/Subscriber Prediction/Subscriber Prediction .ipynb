{
 "cells": [
  {
   "cell_type": "markdown",
   "id": "03034b0a",
   "metadata": {},
   "source": [
    "## Problem Statement\n",
    "\n",
    "This hackathon will try to address the challenges of banking telecallers when they call blindly to people in order to sell term deposit plans. \n",
    "The aim of this hackathon is to find the most accurate prediction of whether a person to be called will subscribe to the term deposit plan or not using any of the machine learning algorithms.\n",
    "The participants can use the historical data that consists of different features of customers and whether they subscribed to the plan or not. \n",
    "Using this data, the participants need to build a machine learning model in order to make predictions.<br>\n",
    "\n",
    "\n",
    "* Term/Lock-in-periods\n",
    "* Rate of Interest\n",
    "* Credit Rating of the Deposit...\n",
    "* Credit Rating>No Lock In Period"
   ]
  },
  {
   "cell_type": "code",
   "execution_count": 1,
   "id": "c30513ee",
   "metadata": {},
   "outputs": [],
   "source": [
    "import numpy as np\n",
    "import pandas as pd\n",
    "import matplotlib.pyplot as plt\n",
    "import seaborn as sns\n",
    "\n",
    "from warnings import filterwarnings\n",
    "filterwarnings('ignore')\n",
    "\n",
    "plt.rcParams['figure.figsize']=[15,10]\n",
    "\n"
   ]
  },
  {
   "cell_type": "code",
   "execution_count": 2,
   "id": "17520c5c",
   "metadata": {},
   "outputs": [
    {
     "data": {
      "text/html": [
       "<div>\n",
       "<style scoped>\n",
       "    .dataframe tbody tr th:only-of-type {\n",
       "        vertical-align: middle;\n",
       "    }\n",
       "\n",
       "    .dataframe tbody tr th {\n",
       "        vertical-align: top;\n",
       "    }\n",
       "\n",
       "    .dataframe thead th {\n",
       "        text-align: right;\n",
       "    }\n",
       "</style>\n",
       "<table border=\"1\" class=\"dataframe\">\n",
       "  <thead>\n",
       "    <tr style=\"text-align: right;\">\n",
       "      <th></th>\n",
       "      <th>age</th>\n",
       "      <th>job</th>\n",
       "      <th>marital</th>\n",
       "      <th>education</th>\n",
       "      <th>default</th>\n",
       "      <th>balance</th>\n",
       "      <th>housing</th>\n",
       "      <th>loan</th>\n",
       "      <th>contact</th>\n",
       "      <th>day</th>\n",
       "      <th>month</th>\n",
       "      <th>duration</th>\n",
       "      <th>campaign</th>\n",
       "      <th>pdays</th>\n",
       "      <th>previous</th>\n",
       "      <th>poutcome</th>\n",
       "      <th>y_bool</th>\n",
       "    </tr>\n",
       "  </thead>\n",
       "  <tbody>\n",
       "    <tr>\n",
       "      <th>0</th>\n",
       "      <td>51</td>\n",
       "      <td>admin.</td>\n",
       "      <td>married</td>\n",
       "      <td>tertiary</td>\n",
       "      <td>no</td>\n",
       "      <td>148</td>\n",
       "      <td>no</td>\n",
       "      <td>no</td>\n",
       "      <td>cellular</td>\n",
       "      <td>15</td>\n",
       "      <td>apr</td>\n",
       "      <td>263</td>\n",
       "      <td>2</td>\n",
       "      <td>-1</td>\n",
       "      <td>0</td>\n",
       "      <td>unknown</td>\n",
       "      <td>0</td>\n",
       "    </tr>\n",
       "    <tr>\n",
       "      <th>1</th>\n",
       "      <td>55</td>\n",
       "      <td>blue-collar</td>\n",
       "      <td>married</td>\n",
       "      <td>secondary</td>\n",
       "      <td>no</td>\n",
       "      <td>7160</td>\n",
       "      <td>yes</td>\n",
       "      <td>no</td>\n",
       "      <td>unknown</td>\n",
       "      <td>4</td>\n",
       "      <td>may</td>\n",
       "      <td>315</td>\n",
       "      <td>1</td>\n",
       "      <td>-1</td>\n",
       "      <td>0</td>\n",
       "      <td>unknown</td>\n",
       "      <td>0</td>\n",
       "    </tr>\n",
       "    <tr>\n",
       "      <th>2</th>\n",
       "      <td>65</td>\n",
       "      <td>blue-collar</td>\n",
       "      <td>divorced</td>\n",
       "      <td>tertiary</td>\n",
       "      <td>no</td>\n",
       "      <td>2197</td>\n",
       "      <td>yes</td>\n",
       "      <td>no</td>\n",
       "      <td>cellular</td>\n",
       "      <td>12</td>\n",
       "      <td>may</td>\n",
       "      <td>102</td>\n",
       "      <td>2</td>\n",
       "      <td>-1</td>\n",
       "      <td>0</td>\n",
       "      <td>unknown</td>\n",
       "      <td>0</td>\n",
       "    </tr>\n",
       "    <tr>\n",
       "      <th>3</th>\n",
       "      <td>25</td>\n",
       "      <td>admin.</td>\n",
       "      <td>married</td>\n",
       "      <td>secondary</td>\n",
       "      <td>no</td>\n",
       "      <td>6658</td>\n",
       "      <td>yes</td>\n",
       "      <td>no</td>\n",
       "      <td>cellular</td>\n",
       "      <td>16</td>\n",
       "      <td>feb</td>\n",
       "      <td>197</td>\n",
       "      <td>1</td>\n",
       "      <td>-1</td>\n",
       "      <td>0</td>\n",
       "      <td>unknown</td>\n",
       "      <td>1</td>\n",
       "    </tr>\n",
       "    <tr>\n",
       "      <th>4</th>\n",
       "      <td>36</td>\n",
       "      <td>services</td>\n",
       "      <td>married</td>\n",
       "      <td>secondary</td>\n",
       "      <td>no</td>\n",
       "      <td>1761</td>\n",
       "      <td>yes</td>\n",
       "      <td>no</td>\n",
       "      <td>cellular</td>\n",
       "      <td>19</td>\n",
       "      <td>sep</td>\n",
       "      <td>177</td>\n",
       "      <td>1</td>\n",
       "      <td>-1</td>\n",
       "      <td>0</td>\n",
       "      <td>success</td>\n",
       "      <td>0</td>\n",
       "    </tr>\n",
       "  </tbody>\n",
       "</table>\n",
       "</div>"
      ],
      "text/plain": [
       "   age          job   marital  education default  balance housing loan  \\\n",
       "0   51       admin.   married   tertiary      no      148      no   no   \n",
       "1   55  blue-collar   married  secondary      no     7160     yes   no   \n",
       "2   65  blue-collar  divorced   tertiary      no     2197     yes   no   \n",
       "3   25       admin.   married  secondary      no     6658     yes   no   \n",
       "4   36     services   married  secondary      no     1761     yes   no   \n",
       "\n",
       "    contact  day month  duration  campaign  pdays  previous poutcome  y_bool  \n",
       "0  cellular   15   apr       263         2     -1         0  unknown       0  \n",
       "1   unknown    4   may       315         1     -1         0  unknown       0  \n",
       "2  cellular   12   may       102         2     -1         0  unknown       0  \n",
       "3  cellular   16   feb       197         1     -1         0  unknown       1  \n",
       "4  cellular   19   sep       177         1     -1         0  success       0  "
      ]
     },
     "execution_count": 2,
     "metadata": {},
     "output_type": "execute_result"
    }
   ],
   "source": [
    "train = pd.read_csv('train.csv')\n",
    "train.head()"
   ]
  },
  {
   "cell_type": "code",
   "execution_count": 3,
   "id": "c8c65da6",
   "metadata": {},
   "outputs": [
    {
     "data": {
      "text/html": [
       "<div>\n",
       "<style scoped>\n",
       "    .dataframe tbody tr th:only-of-type {\n",
       "        vertical-align: middle;\n",
       "    }\n",
       "\n",
       "    .dataframe tbody tr th {\n",
       "        vertical-align: top;\n",
       "    }\n",
       "\n",
       "    .dataframe thead th {\n",
       "        text-align: right;\n",
       "    }\n",
       "</style>\n",
       "<table border=\"1\" class=\"dataframe\">\n",
       "  <thead>\n",
       "    <tr style=\"text-align: right;\">\n",
       "      <th></th>\n",
       "      <th>age</th>\n",
       "      <th>job</th>\n",
       "      <th>marital</th>\n",
       "      <th>education</th>\n",
       "      <th>default</th>\n",
       "      <th>balance</th>\n",
       "      <th>housing</th>\n",
       "      <th>loan</th>\n",
       "      <th>contact</th>\n",
       "      <th>day</th>\n",
       "      <th>month</th>\n",
       "      <th>duration</th>\n",
       "      <th>campaign</th>\n",
       "      <th>pdays</th>\n",
       "      <th>previous</th>\n",
       "      <th>poutcome</th>\n",
       "    </tr>\n",
       "  </thead>\n",
       "  <tbody>\n",
       "    <tr>\n",
       "      <th>0</th>\n",
       "      <td>36</td>\n",
       "      <td>technician</td>\n",
       "      <td>divorced</td>\n",
       "      <td>secondary</td>\n",
       "      <td>no</td>\n",
       "      <td>1842</td>\n",
       "      <td>yes</td>\n",
       "      <td>yes</td>\n",
       "      <td>cellular</td>\n",
       "      <td>5</td>\n",
       "      <td>aug</td>\n",
       "      <td>149</td>\n",
       "      <td>1</td>\n",
       "      <td>-1</td>\n",
       "      <td>0</td>\n",
       "      <td>unknown</td>\n",
       "    </tr>\n",
       "    <tr>\n",
       "      <th>1</th>\n",
       "      <td>26</td>\n",
       "      <td>management</td>\n",
       "      <td>married</td>\n",
       "      <td>primary</td>\n",
       "      <td>no</td>\n",
       "      <td>165</td>\n",
       "      <td>no</td>\n",
       "      <td>no</td>\n",
       "      <td>cellular</td>\n",
       "      <td>7</td>\n",
       "      <td>nov</td>\n",
       "      <td>44</td>\n",
       "      <td>2</td>\n",
       "      <td>-1</td>\n",
       "      <td>0</td>\n",
       "      <td>unknown</td>\n",
       "    </tr>\n",
       "    <tr>\n",
       "      <th>2</th>\n",
       "      <td>50</td>\n",
       "      <td>management</td>\n",
       "      <td>married</td>\n",
       "      <td>unknown</td>\n",
       "      <td>no</td>\n",
       "      <td>5006</td>\n",
       "      <td>yes</td>\n",
       "      <td>no</td>\n",
       "      <td>cellular</td>\n",
       "      <td>7</td>\n",
       "      <td>may</td>\n",
       "      <td>664</td>\n",
       "      <td>2</td>\n",
       "      <td>-1</td>\n",
       "      <td>0</td>\n",
       "      <td>other</td>\n",
       "    </tr>\n",
       "    <tr>\n",
       "      <th>3</th>\n",
       "      <td>56</td>\n",
       "      <td>management</td>\n",
       "      <td>married</td>\n",
       "      <td>secondary</td>\n",
       "      <td>no</td>\n",
       "      <td>5122</td>\n",
       "      <td>no</td>\n",
       "      <td>no</td>\n",
       "      <td>cellular</td>\n",
       "      <td>9</td>\n",
       "      <td>aug</td>\n",
       "      <td>53</td>\n",
       "      <td>2</td>\n",
       "      <td>-1</td>\n",
       "      <td>0</td>\n",
       "      <td>unknown</td>\n",
       "    </tr>\n",
       "    <tr>\n",
       "      <th>4</th>\n",
       "      <td>26</td>\n",
       "      <td>blue-collar</td>\n",
       "      <td>married</td>\n",
       "      <td>tertiary</td>\n",
       "      <td>no</td>\n",
       "      <td>151</td>\n",
       "      <td>no</td>\n",
       "      <td>no</td>\n",
       "      <td>unknown</td>\n",
       "      <td>1</td>\n",
       "      <td>jul</td>\n",
       "      <td>67</td>\n",
       "      <td>5</td>\n",
       "      <td>130</td>\n",
       "      <td>0</td>\n",
       "      <td>unknown</td>\n",
       "    </tr>\n",
       "  </tbody>\n",
       "</table>\n",
       "</div>"
      ],
      "text/plain": [
       "   age          job   marital  education default  balance housing loan  \\\n",
       "0   36   technician  divorced  secondary      no     1842     yes  yes   \n",
       "1   26   management   married    primary      no      165      no   no   \n",
       "2   50   management   married    unknown      no     5006     yes   no   \n",
       "3   56   management   married  secondary      no     5122      no   no   \n",
       "4   26  blue-collar   married   tertiary      no      151      no   no   \n",
       "\n",
       "    contact  day month  duration  campaign  pdays  previous poutcome  \n",
       "0  cellular    5   aug       149         1     -1         0  unknown  \n",
       "1  cellular    7   nov        44         2     -1         0  unknown  \n",
       "2  cellular    7   may       664         2     -1         0    other  \n",
       "3  cellular    9   aug        53         2     -1         0  unknown  \n",
       "4   unknown    1   jul        67         5    130         0  unknown  "
      ]
     },
     "execution_count": 3,
     "metadata": {},
     "output_type": "execute_result"
    }
   ],
   "source": [
    "test = pd.read_csv('test.csv')\n",
    "test.head()"
   ]
  },
  {
   "cell_type": "code",
   "execution_count": 4,
   "id": "64bde14e",
   "metadata": {},
   "outputs": [
    {
     "data": {
      "text/plain": [
       "<AxesSubplot:>"
      ]
     },
     "execution_count": 4,
     "metadata": {},
     "output_type": "execute_result"
    },
    {
     "data": {
      "image/png": "[encoded data removed]",
      "text/plain": [
       "<Figure size 1080x720 with 1 Axes>"
      ]
     },
     "metadata": {
      "needs_background": "light"
     },
     "output_type": "display_data"
    }
   ],
   "source": [
    "# target variable\n",
    "\n",
    "train.y_bool.value_counts().plot(kind='bar')"
   ]
  },
  {
   "cell_type": "raw",
   "id": "afce734e",
   "metadata": {},
   "source": [
    "Inference - lot of people don't subscribe"
   ]
  },
  {
   "cell_type": "code",
   "execution_count": 5,
   "id": "1f44aa3b",
   "metadata": {},
   "outputs": [],
   "source": [
    "# Combine the data\n",
    "combined = pd.concat([train,test],ignore_index=True)"
   ]
  },
  {
   "cell_type": "code",
   "execution_count": 6,
   "id": "d3add525",
   "metadata": {},
   "outputs": [
    {
     "data": {
      "text/plain": [
       "Index(['age', 'job', 'marital', 'education', 'default', 'balance', 'housing',\n",
       "       'loan', 'contact', 'day', 'month', 'duration', 'campaign', 'pdays',\n",
       "       'previous', 'poutcome', 'y_bool'],\n",
       "      dtype='object')"
      ]
     },
     "execution_count": 6,
     "metadata": {},
     "output_type": "execute_result"
    }
   ],
   "source": [
    "combined.columns"
   ]
  },
  {
   "cell_type": "code",
   "execution_count": 7,
   "id": "4436afe4",
   "metadata": {},
   "outputs": [
    {
     "data": {
      "text/plain": [
       "array(['admin.', 'blue-collar', 'services', 'self-employed', 'technician',\n",
       "       'management', 'unknown', 'unemployed', 'retired', 'housemaid',\n",
       "       'entrepreneur', 'student'], dtype=object)"
      ]
     },
     "execution_count": 7,
     "metadata": {},
     "output_type": "execute_result"
    }
   ],
   "source": [
    "combined.job.unique()"
   ]
  },
  {
   "cell_type": "code",
   "execution_count": 8,
   "id": "a29e196e",
   "metadata": {},
   "outputs": [],
   "source": [
    "# Lets bin the profession....\n",
    "\n",
    "\n",
    "def prof(x):\n",
    "    if x in ['unknown', 'unemployed', 'retired','student']:\n",
    "        return('Unemployed')\n",
    "    elif x in ['admin.','entrepreneur','self-employed','management']:\n",
    "        return('Employed')\n",
    "    elif x in ['blue-collar', 'housemaid','services', 'technician']:\n",
    "        return('blue_collar')\n",
    "    else:\n",
    "        return(x)"
   ]
  },
  {
   "cell_type": "code",
   "execution_count": 9,
   "id": "6aaee8cd",
   "metadata": {},
   "outputs": [],
   "source": [
    "combined['Profession'] = combined.job.apply(prof)"
   ]
  },
  {
   "cell_type": "code",
   "execution_count": 10,
   "id": "06f94101",
   "metadata": {},
   "outputs": [
    {
     "data": {
      "text/plain": [
       "array(['Employed', 'blue_collar', 'Unemployed'], dtype=object)"
      ]
     },
     "execution_count": 10,
     "metadata": {},
     "output_type": "execute_result"
    }
   ],
   "source": [
    "combined.Profession.unique()"
   ]
  },
  {
   "cell_type": "code",
   "execution_count": 11,
   "id": "9144ca7c",
   "metadata": {},
   "outputs": [
    {
     "name": "stdout",
     "output_type": "stream",
     "text": [
      "0.8881338829532087\n"
     ]
    }
   ],
   "source": [
    "tb1 =pd.crosstab(combined.Profession,combined.y_bool)\n",
    "\n",
    "import scipy.stats as stats\n",
    "\n",
    "teststats,pvalue,df,exp_freq=stats.chi2_contingency(tb1)\n",
    "print(pvalue)"
   ]
  },
  {
   "cell_type": "code",
   "execution_count": 12,
   "id": "1cf2fd66",
   "metadata": {},
   "outputs": [
    {
     "data": {
      "text/plain": [
       "<AxesSubplot:xlabel='Profession'>"
      ]
     },
     "execution_count": 12,
     "metadata": {},
     "output_type": "execute_result"
    },
    {
     "data": {
      "image/png": "[encoded data removed]",
      "text/plain": [
       "<Figure size 1080x720 with 1 Axes>"
      ]
     },
     "metadata": {
      "needs_background": "light"
     },
     "output_type": "display_data"
    }
   ],
   "source": [
    "tb1.plot(kind='bar')"
   ]
  },
  {
   "cell_type": "code",
   "execution_count": 13,
   "id": "811a157a",
   "metadata": {},
   "outputs": [
    {
     "data": {
      "text/html": [
       "<div>\n",
       "<style scoped>\n",
       "    .dataframe tbody tr th:only-of-type {\n",
       "        vertical-align: middle;\n",
       "    }\n",
       "\n",
       "    .dataframe tbody tr th {\n",
       "        vertical-align: top;\n",
       "    }\n",
       "\n",
       "    .dataframe thead th {\n",
       "        text-align: right;\n",
       "    }\n",
       "</style>\n",
       "<table border=\"1\" class=\"dataframe\">\n",
       "  <thead>\n",
       "    <tr style=\"text-align: right;\">\n",
       "      <th></th>\n",
       "      <th>age</th>\n",
       "      <th>job</th>\n",
       "      <th>marital</th>\n",
       "      <th>education</th>\n",
       "      <th>default</th>\n",
       "      <th>balance</th>\n",
       "      <th>housing</th>\n",
       "      <th>loan</th>\n",
       "      <th>contact</th>\n",
       "      <th>day</th>\n",
       "      <th>month</th>\n",
       "      <th>duration</th>\n",
       "      <th>campaign</th>\n",
       "      <th>pdays</th>\n",
       "      <th>previous</th>\n",
       "      <th>poutcome</th>\n",
       "      <th>y_bool</th>\n",
       "      <th>Profession</th>\n",
       "    </tr>\n",
       "  </thead>\n",
       "  <tbody>\n",
       "    <tr>\n",
       "      <th>0</th>\n",
       "      <td>51</td>\n",
       "      <td>admin.</td>\n",
       "      <td>married</td>\n",
       "      <td>tertiary</td>\n",
       "      <td>no</td>\n",
       "      <td>148</td>\n",
       "      <td>no</td>\n",
       "      <td>no</td>\n",
       "      <td>cellular</td>\n",
       "      <td>15</td>\n",
       "      <td>apr</td>\n",
       "      <td>263</td>\n",
       "      <td>2</td>\n",
       "      <td>-1</td>\n",
       "      <td>0</td>\n",
       "      <td>unknown</td>\n",
       "      <td>0.0</td>\n",
       "      <td>Employed</td>\n",
       "    </tr>\n",
       "    <tr>\n",
       "      <th>1</th>\n",
       "      <td>55</td>\n",
       "      <td>blue-collar</td>\n",
       "      <td>married</td>\n",
       "      <td>secondary</td>\n",
       "      <td>no</td>\n",
       "      <td>7160</td>\n",
       "      <td>yes</td>\n",
       "      <td>no</td>\n",
       "      <td>unknown</td>\n",
       "      <td>4</td>\n",
       "      <td>may</td>\n",
       "      <td>315</td>\n",
       "      <td>1</td>\n",
       "      <td>-1</td>\n",
       "      <td>0</td>\n",
       "      <td>unknown</td>\n",
       "      <td>0.0</td>\n",
       "      <td>blue_collar</td>\n",
       "    </tr>\n",
       "    <tr>\n",
       "      <th>2</th>\n",
       "      <td>65</td>\n",
       "      <td>blue-collar</td>\n",
       "      <td>divorced</td>\n",
       "      <td>tertiary</td>\n",
       "      <td>no</td>\n",
       "      <td>2197</td>\n",
       "      <td>yes</td>\n",
       "      <td>no</td>\n",
       "      <td>cellular</td>\n",
       "      <td>12</td>\n",
       "      <td>may</td>\n",
       "      <td>102</td>\n",
       "      <td>2</td>\n",
       "      <td>-1</td>\n",
       "      <td>0</td>\n",
       "      <td>unknown</td>\n",
       "      <td>0.0</td>\n",
       "      <td>blue_collar</td>\n",
       "    </tr>\n",
       "    <tr>\n",
       "      <th>3</th>\n",
       "      <td>25</td>\n",
       "      <td>admin.</td>\n",
       "      <td>married</td>\n",
       "      <td>secondary</td>\n",
       "      <td>no</td>\n",
       "      <td>6658</td>\n",
       "      <td>yes</td>\n",
       "      <td>no</td>\n",
       "      <td>cellular</td>\n",
       "      <td>16</td>\n",
       "      <td>feb</td>\n",
       "      <td>197</td>\n",
       "      <td>1</td>\n",
       "      <td>-1</td>\n",
       "      <td>0</td>\n",
       "      <td>unknown</td>\n",
       "      <td>1.0</td>\n",
       "      <td>Employed</td>\n",
       "    </tr>\n",
       "    <tr>\n",
       "      <th>4</th>\n",
       "      <td>36</td>\n",
       "      <td>services</td>\n",
       "      <td>married</td>\n",
       "      <td>secondary</td>\n",
       "      <td>no</td>\n",
       "      <td>1761</td>\n",
       "      <td>yes</td>\n",
       "      <td>no</td>\n",
       "      <td>cellular</td>\n",
       "      <td>19</td>\n",
       "      <td>sep</td>\n",
       "      <td>177</td>\n",
       "      <td>1</td>\n",
       "      <td>-1</td>\n",
       "      <td>0</td>\n",
       "      <td>success</td>\n",
       "      <td>0.0</td>\n",
       "      <td>blue_collar</td>\n",
       "    </tr>\n",
       "  </tbody>\n",
       "</table>\n",
       "</div>"
      ],
      "text/plain": [
       "   age          job   marital  education default  balance housing loan  \\\n",
       "0   51       admin.   married   tertiary      no      148      no   no   \n",
       "1   55  blue-collar   married  secondary      no     7160     yes   no   \n",
       "2   65  blue-collar  divorced   tertiary      no     2197     yes   no   \n",
       "3   25       admin.   married  secondary      no     6658     yes   no   \n",
       "4   36     services   married  secondary      no     1761     yes   no   \n",
       "\n",
       "    contact  day month  duration  campaign  pdays  previous poutcome  y_bool  \\\n",
       "0  cellular   15   apr       263         2     -1         0  unknown     0.0   \n",
       "1   unknown    4   may       315         1     -1         0  unknown     0.0   \n",
       "2  cellular   12   may       102         2     -1         0  unknown     0.0   \n",
       "3  cellular   16   feb       197         1     -1         0  unknown     1.0   \n",
       "4  cellular   19   sep       177         1     -1         0  success     0.0   \n",
       "\n",
       "    Profession  \n",
       "0     Employed  \n",
       "1  blue_collar  \n",
       "2  blue_collar  \n",
       "3     Employed  \n",
       "4  blue_collar  "
      ]
     },
     "execution_count": 13,
     "metadata": {},
     "output_type": "execute_result"
    }
   ],
   "source": [
    "combined.head()"
   ]
  },
  {
   "cell_type": "code",
   "execution_count": 14,
   "id": "159233f2",
   "metadata": {},
   "outputs": [
    {
     "data": {
      "text/plain": [
       "array(['tertiary', 'secondary', 'primary', 'unknown'], dtype=object)"
      ]
     },
     "execution_count": 14,
     "metadata": {},
     "output_type": "execute_result"
    }
   ],
   "source": [
    "combined.education.unique()"
   ]
  },
  {
   "cell_type": "code",
   "execution_count": 15,
   "id": "c6c93cde",
   "metadata": {},
   "outputs": [],
   "source": [
    "cat_cols=combined.select_dtypes(include=object).columns"
   ]
  },
  {
   "cell_type": "code",
   "execution_count": 16,
   "id": "58f86f39",
   "metadata": {},
   "outputs": [
    {
     "name": "stdout",
     "output_type": "stream",
     "text": [
      "marital\n",
      "default\n",
      "housing\n",
      "loan\n",
      "contact\n",
      "Profession\n"
     ]
    }
   ],
   "source": [
    "for i in cat_cols:\n",
    "    if len(combined.loc[:,i].unique())<=3:\n",
    "        print(i)"
   ]
  },
  {
   "cell_type": "code",
   "execution_count": 17,
   "id": "6fd06fb5",
   "metadata": {},
   "outputs": [
    {
     "data": {
      "text/plain": [
       "Index(['job', 'marital', 'education', 'default', 'housing', 'loan', 'contact',\n",
       "       'month', 'poutcome', 'Profession'],\n",
       "      dtype='object')"
      ]
     },
     "execution_count": 17,
     "metadata": {},
     "output_type": "execute_result"
    }
   ],
   "source": [
    "cat_cols"
   ]
  },
  {
   "cell_type": "code",
   "execution_count": 18,
   "id": "50807496",
   "metadata": {
    "scrolled": true
   },
   "outputs": [
    {
     "data": {
      "text/plain": [
       "blue_collar    861\n",
       "Employed       628\n",
       "Unemployed     126\n",
       "Name: Profession, dtype: int64"
      ]
     },
     "execution_count": 18,
     "metadata": {},
     "output_type": "execute_result"
    }
   ],
   "source": [
    "combined.loc[combined.education=='unknown','Profession'].value_counts()"
   ]
  },
  {
   "cell_type": "code",
   "execution_count": 19,
   "id": "60f27bfb",
   "metadata": {},
   "outputs": [
    {
     "data": {
      "text/plain": [
       "array(['unknown', 'success', 'failure', 'other'], dtype=object)"
      ]
     },
     "execution_count": 19,
     "metadata": {},
     "output_type": "execute_result"
    }
   ],
   "source": [
    "combined.poutcome.unique()"
   ]
  },
  {
   "cell_type": "code",
   "execution_count": 20,
   "id": "a09dfdee",
   "metadata": {},
   "outputs": [
    {
     "data": {
      "text/html": [
       "<div>\n",
       "<style scoped>\n",
       "    .dataframe tbody tr th:only-of-type {\n",
       "        vertical-align: middle;\n",
       "    }\n",
       "\n",
       "    .dataframe tbody tr th {\n",
       "        vertical-align: top;\n",
       "    }\n",
       "\n",
       "    .dataframe thead tr th {\n",
       "        text-align: left;\n",
       "    }\n",
       "</style>\n",
       "<table border=\"1\" class=\"dataframe\">\n",
       "  <thead>\n",
       "    <tr>\n",
       "      <th>poutcome</th>\n",
       "      <th colspan=\"2\" halign=\"left\">failure</th>\n",
       "      <th colspan=\"2\" halign=\"left\">other</th>\n",
       "      <th colspan=\"2\" halign=\"left\">success</th>\n",
       "      <th colspan=\"2\" halign=\"left\">unknown</th>\n",
       "    </tr>\n",
       "    <tr>\n",
       "      <th>y_bool</th>\n",
       "      <th>0.0</th>\n",
       "      <th>1.0</th>\n",
       "      <th>0.0</th>\n",
       "      <th>1.0</th>\n",
       "      <th>0.0</th>\n",
       "      <th>1.0</th>\n",
       "      <th>0.0</th>\n",
       "      <th>1.0</th>\n",
       "    </tr>\n",
       "  </thead>\n",
       "  <tbody>\n",
       "    <tr>\n",
       "      <th>y_bool</th>\n",
       "      <td>0.742012</td>\n",
       "      <td>0.257988</td>\n",
       "      <td>0.732836</td>\n",
       "      <td>0.267164</td>\n",
       "      <td>0.689922</td>\n",
       "      <td>0.310078</td>\n",
       "      <td>0.729178</td>\n",
       "      <td>0.270822</td>\n",
       "    </tr>\n",
       "  </tbody>\n",
       "</table>\n",
       "</div>"
      ],
      "text/plain": [
       "poutcome   failure               other             success            \\\n",
       "y_bool         0.0       1.0       0.0       1.0       0.0       1.0   \n",
       "y_bool    0.742012  0.257988  0.732836  0.267164  0.689922  0.310078   \n",
       "\n",
       "poutcome   unknown            \n",
       "y_bool         0.0       1.0  \n",
       "y_bool    0.729178  0.270822  "
      ]
     },
     "execution_count": 20,
     "metadata": {},
     "output_type": "execute_result"
    }
   ],
   "source": [
    "pd.DataFrame(combined.groupby('poutcome')['y_bool'].value_counts(normalize=True)).T"
   ]
  },
  {
   "cell_type": "code",
   "execution_count": 21,
   "id": "ad168e32",
   "metadata": {},
   "outputs": [],
   "source": [
    "# No employed ~ Blue Collar and rest ~Same Education"
   ]
  },
  {
   "cell_type": "code",
   "execution_count": 22,
   "id": "0f4b7fab",
   "metadata": {},
   "outputs": [
    {
     "name": "stdout",
     "output_type": "stream",
     "text": [
      "['job']\n"
     ]
    }
   ],
   "source": [
    "# Apply Chi Square Test to verify the Importance Cat Variable\n",
    "\n",
    "feats=[]\n",
    "\n",
    "for i in cat_cols:\n",
    "    tb1 = pd.crosstab(combined.loc[:,i],combined.y_bool)\n",
    "    teststats,pvalue,df,exp_freq = stats.chi2_contingency(tb1)\n",
    "    if pvalue<0.05:\n",
    "        feats.append(i)\n",
    "print(feats)        "
   ]
  },
  {
   "cell_type": "code",
   "execution_count": 23,
   "id": "b039c85f",
   "metadata": {},
   "outputs": [],
   "source": [
    "#list of numerical var\n",
    "\n",
    "num_cols=combined.select_dtypes(include=np.number).columns"
   ]
  },
  {
   "cell_type": "code",
   "execution_count": 24,
   "id": "5738e6bd",
   "metadata": {},
   "outputs": [
    {
     "data": {
      "image/png": "[encoded data removed]",
      "text/plain": [
       "<Figure size 1080x720 with 8 Axes>"
      ]
     },
     "metadata": {
      "needs_background": "light"
     },
     "output_type": "display_data"
    }
   ],
   "source": [
    "nrows=4\n",
    "ncols=2\n",
    "iterator=1\n",
    "\n",
    "for i in num_cols:\n",
    "    plt.subplot(nrows,ncols,iterator)\n",
    "    sns.distplot(combined.loc[:,i])\n",
    "    plt.title(i)\n",
    "    iterator +=1\n",
    "plt.tight_layout()\n",
    "plt.show()"
   ]
  },
  {
   "cell_type": "raw",
   "id": "2a18a038",
   "metadata": {},
   "source": [
    "Inference - Log Transformation on NUmerical variables only...\n",
    "variables are skewed"
   ]
  },
  {
   "cell_type": "code",
   "execution_count": 25,
   "id": "e2745ef1",
   "metadata": {},
   "outputs": [],
   "source": [
    "from sklearn.preprocessing import KBinsDiscretizer\n",
    "\n",
    "kbins = KBinsDiscretizer(n_bins=4,encode='ordinal',strategy='uniform')\n",
    "\n",
    "combined['age_bins']=kbins.fit_transform(combined[['age']])"
   ]
  },
  {
   "cell_type": "code",
   "execution_count": 26,
   "id": "463ff05e",
   "metadata": {},
   "outputs": [
    {
     "name": "stdout",
     "output_type": "stream",
     "text": [
      "7.913095873130406e-10\n"
     ]
    }
   ],
   "source": [
    "tb1 = pd.crosstab(combined.age_bins,combined.y_bool)\n",
    "teststats,pvalue,df,exp_freq = stats.chi2_contingency(tb1)\n",
    "print(pvalue)"
   ]
  },
  {
   "cell_type": "code",
   "execution_count": 27,
   "id": "a4896850",
   "metadata": {},
   "outputs": [
    {
     "data": {
      "text/plain": [
       "array([array([19., 36., 53., 70., 87.])], dtype=object)"
      ]
     },
     "execution_count": 27,
     "metadata": {},
     "output_type": "execute_result"
    }
   ],
   "source": [
    "kbins.bin_edges_"
   ]
  },
  {
   "cell_type": "code",
   "execution_count": 28,
   "id": "ec9b5b81",
   "metadata": {},
   "outputs": [],
   "source": [
    "def bins(x):\n",
    "    if (x<=19):\n",
    "        return('Teens')\n",
    "    elif (x<=36):\n",
    "        return('Adults')\n",
    "    elif (x<=53):\n",
    "        return('Mature')\n",
    "    else:\n",
    "        return('Senior')"
   ]
  },
  {
   "cell_type": "code",
   "execution_count": 29,
   "id": "3fa09945",
   "metadata": {},
   "outputs": [],
   "source": [
    "# Apply \n",
    "combined['age_cat'] = combined.age.apply(bins)"
   ]
  },
  {
   "cell_type": "code",
   "execution_count": 30,
   "id": "20eb6cc0",
   "metadata": {},
   "outputs": [
    {
     "name": "stdout",
     "output_type": "stream",
     "text": [
      "3.1639967525897536e-11\n"
     ]
    }
   ],
   "source": [
    "tb1 = pd.crosstab(combined.age_cat,combined.y_bool)\n",
    "teststats,pvalue,df,exp_freq = stats.chi2_contingency(tb1)\n",
    "print(pvalue)"
   ]
  },
  {
   "cell_type": "code",
   "execution_count": 31,
   "id": "78527391",
   "metadata": {},
   "outputs": [
    {
     "data": {
      "text/html": [
       "<div>\n",
       "<style scoped>\n",
       "    .dataframe tbody tr th:only-of-type {\n",
       "        vertical-align: middle;\n",
       "    }\n",
       "\n",
       "    .dataframe tbody tr th {\n",
       "        vertical-align: top;\n",
       "    }\n",
       "\n",
       "    .dataframe thead th {\n",
       "        text-align: right;\n",
       "    }\n",
       "</style>\n",
       "<table border=\"1\" class=\"dataframe\">\n",
       "  <thead>\n",
       "    <tr style=\"text-align: right;\">\n",
       "      <th></th>\n",
       "      <th>age</th>\n",
       "      <th>job</th>\n",
       "      <th>marital</th>\n",
       "      <th>education</th>\n",
       "      <th>default</th>\n",
       "      <th>balance</th>\n",
       "      <th>housing</th>\n",
       "      <th>loan</th>\n",
       "      <th>contact</th>\n",
       "      <th>day</th>\n",
       "      <th>month</th>\n",
       "      <th>duration</th>\n",
       "      <th>campaign</th>\n",
       "      <th>pdays</th>\n",
       "      <th>previous</th>\n",
       "      <th>poutcome</th>\n",
       "      <th>y_bool</th>\n",
       "      <th>Profession</th>\n",
       "      <th>age_bins</th>\n",
       "      <th>age_cat</th>\n",
       "    </tr>\n",
       "  </thead>\n",
       "  <tbody>\n",
       "    <tr>\n",
       "      <th>0</th>\n",
       "      <td>51</td>\n",
       "      <td>admin.</td>\n",
       "      <td>married</td>\n",
       "      <td>tertiary</td>\n",
       "      <td>no</td>\n",
       "      <td>148</td>\n",
       "      <td>no</td>\n",
       "      <td>no</td>\n",
       "      <td>cellular</td>\n",
       "      <td>15</td>\n",
       "      <td>apr</td>\n",
       "      <td>263</td>\n",
       "      <td>2</td>\n",
       "      <td>-1</td>\n",
       "      <td>0</td>\n",
       "      <td>unknown</td>\n",
       "      <td>0.0</td>\n",
       "      <td>Employed</td>\n",
       "      <td>1.0</td>\n",
       "      <td>Mature</td>\n",
       "    </tr>\n",
       "    <tr>\n",
       "      <th>1</th>\n",
       "      <td>55</td>\n",
       "      <td>blue-collar</td>\n",
       "      <td>married</td>\n",
       "      <td>secondary</td>\n",
       "      <td>no</td>\n",
       "      <td>7160</td>\n",
       "      <td>yes</td>\n",
       "      <td>no</td>\n",
       "      <td>unknown</td>\n",
       "      <td>4</td>\n",
       "      <td>may</td>\n",
       "      <td>315</td>\n",
       "      <td>1</td>\n",
       "      <td>-1</td>\n",
       "      <td>0</td>\n",
       "      <td>unknown</td>\n",
       "      <td>0.0</td>\n",
       "      <td>blue_collar</td>\n",
       "      <td>2.0</td>\n",
       "      <td>Senior</td>\n",
       "    </tr>\n",
       "    <tr>\n",
       "      <th>2</th>\n",
       "      <td>65</td>\n",
       "      <td>blue-collar</td>\n",
       "      <td>divorced</td>\n",
       "      <td>tertiary</td>\n",
       "      <td>no</td>\n",
       "      <td>2197</td>\n",
       "      <td>yes</td>\n",
       "      <td>no</td>\n",
       "      <td>cellular</td>\n",
       "      <td>12</td>\n",
       "      <td>may</td>\n",
       "      <td>102</td>\n",
       "      <td>2</td>\n",
       "      <td>-1</td>\n",
       "      <td>0</td>\n",
       "      <td>unknown</td>\n",
       "      <td>0.0</td>\n",
       "      <td>blue_collar</td>\n",
       "      <td>2.0</td>\n",
       "      <td>Senior</td>\n",
       "    </tr>\n",
       "    <tr>\n",
       "      <th>3</th>\n",
       "      <td>25</td>\n",
       "      <td>admin.</td>\n",
       "      <td>married</td>\n",
       "      <td>secondary</td>\n",
       "      <td>no</td>\n",
       "      <td>6658</td>\n",
       "      <td>yes</td>\n",
       "      <td>no</td>\n",
       "      <td>cellular</td>\n",
       "      <td>16</td>\n",
       "      <td>feb</td>\n",
       "      <td>197</td>\n",
       "      <td>1</td>\n",
       "      <td>-1</td>\n",
       "      <td>0</td>\n",
       "      <td>unknown</td>\n",
       "      <td>1.0</td>\n",
       "      <td>Employed</td>\n",
       "      <td>0.0</td>\n",
       "      <td>Adults</td>\n",
       "    </tr>\n",
       "    <tr>\n",
       "      <th>4</th>\n",
       "      <td>36</td>\n",
       "      <td>services</td>\n",
       "      <td>married</td>\n",
       "      <td>secondary</td>\n",
       "      <td>no</td>\n",
       "      <td>1761</td>\n",
       "      <td>yes</td>\n",
       "      <td>no</td>\n",
       "      <td>cellular</td>\n",
       "      <td>19</td>\n",
       "      <td>sep</td>\n",
       "      <td>177</td>\n",
       "      <td>1</td>\n",
       "      <td>-1</td>\n",
       "      <td>0</td>\n",
       "      <td>success</td>\n",
       "      <td>0.0</td>\n",
       "      <td>blue_collar</td>\n",
       "      <td>1.0</td>\n",
       "      <td>Adults</td>\n",
       "    </tr>\n",
       "  </tbody>\n",
       "</table>\n",
       "</div>"
      ],
      "text/plain": [
       "   age          job   marital  education default  balance housing loan  \\\n",
       "0   51       admin.   married   tertiary      no      148      no   no   \n",
       "1   55  blue-collar   married  secondary      no     7160     yes   no   \n",
       "2   65  blue-collar  divorced   tertiary      no     2197     yes   no   \n",
       "3   25       admin.   married  secondary      no     6658     yes   no   \n",
       "4   36     services   married  secondary      no     1761     yes   no   \n",
       "\n",
       "    contact  day month  duration  campaign  pdays  previous poutcome  y_bool  \\\n",
       "0  cellular   15   apr       263         2     -1         0  unknown     0.0   \n",
       "1   unknown    4   may       315         1     -1         0  unknown     0.0   \n",
       "2  cellular   12   may       102         2     -1         0  unknown     0.0   \n",
       "3  cellular   16   feb       197         1     -1         0  unknown     1.0   \n",
       "4  cellular   19   sep       177         1     -1         0  success     0.0   \n",
       "\n",
       "    Profession  age_bins age_cat  \n",
       "0     Employed       1.0  Mature  \n",
       "1  blue_collar       2.0  Senior  \n",
       "2  blue_collar       2.0  Senior  \n",
       "3     Employed       0.0  Adults  \n",
       "4  blue_collar       1.0  Adults  "
      ]
     },
     "execution_count": 31,
     "metadata": {},
     "output_type": "execute_result"
    }
   ],
   "source": [
    "combined.head()"
   ]
  },
  {
   "cell_type": "code",
   "execution_count": 32,
   "id": "e81b93d0",
   "metadata": {},
   "outputs": [
    {
     "data": {
      "text/plain": [
       "count    30000.000000\n",
       "mean      1608.013900\n",
       "std       2989.866596\n",
       "min      -2477.000000\n",
       "25%        303.000000\n",
       "50%        634.000000\n",
       "75%       1880.000000\n",
       "max      71188.000000\n",
       "Name: balance, dtype: float64"
      ]
     },
     "execution_count": 32,
     "metadata": {},
     "output_type": "execute_result"
    }
   ],
   "source": [
    "combined.balance.describe()"
   ]
  },
  {
   "cell_type": "code",
   "execution_count": 33,
   "id": "47e41455",
   "metadata": {
    "scrolled": true
   },
   "outputs": [
    {
     "data": {
      "text/plain": [
       "array([[0.],\n",
       "       [4.],\n",
       "       [3.],\n",
       "       ...,\n",
       "       [1.],\n",
       "       [0.],\n",
       "       [3.]])"
      ]
     },
     "execution_count": 33,
     "metadata": {},
     "output_type": "execute_result"
    }
   ],
   "source": [
    "# Make n-bins=5\n",
    "\n",
    "kbins = KBinsDiscretizer(n_bins=5,encode='ordinal',strategy='quantile')\n",
    "kbins.fit_transform(combined[['balance']])"
   ]
  },
  {
   "cell_type": "code",
   "execution_count": 34,
   "id": "47748e41",
   "metadata": {},
   "outputs": [],
   "source": [
    "# convert -2477 to 0\n",
    "def balanced(x):\n",
    "    if x<0:\n",
    "        return(0)\n",
    "    else:\n",
    "        return(x)"
   ]
  },
  {
   "cell_type": "code",
   "execution_count": 35,
   "id": "a46fd44f",
   "metadata": {
    "scrolled": true
   },
   "outputs": [
    {
     "data": {
      "text/plain": [
       "count    30000.000000\n",
       "mean      1626.014067\n",
       "std       2978.325577\n",
       "min          0.000000\n",
       "25%        303.000000\n",
       "50%        634.000000\n",
       "75%       1880.000000\n",
       "max      71188.000000\n",
       "Name: balance, dtype: float64"
      ]
     },
     "execution_count": 35,
     "metadata": {},
     "output_type": "execute_result"
    }
   ],
   "source": [
    "combined['balance'] = combined.balance.apply(balanced)\n",
    "combined.balance.describe()"
   ]
  },
  {
   "cell_type": "code",
   "execution_count": 36,
   "id": "cb47dfef",
   "metadata": {},
   "outputs": [],
   "source": [
    "# Make n-bins=5\n",
    "\n",
    "kbins = KBinsDiscretizer(n_bins=5,encode='ordinal',strategy='quantile')\n",
    "combined['balance_bins']=kbins.fit_transform(combined[['balance']])"
   ]
  },
  {
   "cell_type": "code",
   "execution_count": 37,
   "id": "a7a0ce15",
   "metadata": {},
   "outputs": [
    {
     "data": {
      "text/plain": [
       "array([array([    0. ,   236. ,   492. ,  1078.4,  2199. , 71188. ])],\n",
       "      dtype=object)"
      ]
     },
     "execution_count": 37,
     "metadata": {},
     "output_type": "execute_result"
    }
   ],
   "source": [
    "kbins.bin_edges_"
   ]
  },
  {
   "cell_type": "code",
   "execution_count": 38,
   "id": "33073c62",
   "metadata": {},
   "outputs": [
    {
     "name": "stdout",
     "output_type": "stream",
     "text": [
      "0.0008745599667551404\n"
     ]
    }
   ],
   "source": [
    "tb1 = pd.crosstab(combined.balance_bins,combined.y_bool)\n",
    "teststats,pvalue,df,exp_freq = stats.chi2_contingency(tb1)\n",
    "print(pvalue)"
   ]
  },
  {
   "cell_type": "code",
   "execution_count": 39,
   "id": "136fbfeb",
   "metadata": {},
   "outputs": [],
   "source": [
    "# Duration"
   ]
  },
  {
   "cell_type": "code",
   "execution_count": 40,
   "id": "a8b29dc1",
   "metadata": {},
   "outputs": [
    {
     "data": {
      "text/plain": [
       "count    30000.000000\n",
       "mean       262.788833\n",
       "std        285.880993\n",
       "min          4.000000\n",
       "25%         94.000000\n",
       "50%        183.000000\n",
       "75%        318.000000\n",
       "max       2703.000000\n",
       "Name: duration, dtype: float64"
      ]
     },
     "execution_count": 40,
     "metadata": {},
     "output_type": "execute_result"
    }
   ],
   "source": [
    "combined.duration.describe()"
   ]
  },
  {
   "cell_type": "code",
   "execution_count": 41,
   "id": "ec8903e6",
   "metadata": {},
   "outputs": [],
   "source": [
    "# convert the duration in mins\n",
    "combined['duration']=combined.duration/60"
   ]
  },
  {
   "cell_type": "code",
   "execution_count": 42,
   "id": "7a71adc1",
   "metadata": {},
   "outputs": [
    {
     "data": {
      "text/plain": [
       "count    30000.000000\n",
       "mean         4.379814\n",
       "std          4.764683\n",
       "min          0.066667\n",
       "25%          1.566667\n",
       "50%          3.050000\n",
       "75%          5.300000\n",
       "max         45.050000\n",
       "Name: duration, dtype: float64"
      ]
     },
     "execution_count": 42,
     "metadata": {},
     "output_type": "execute_result"
    }
   ],
   "source": [
    "combined.duration.describe()"
   ]
  },
  {
   "cell_type": "code",
   "execution_count": 43,
   "id": "e4bd600e",
   "metadata": {
    "scrolled": true
   },
   "outputs": [
    {
     "data": {
      "text/plain": [
       "0.0    0.727913\n",
       "1.0    0.272087\n",
       "Name: y_bool, dtype: float64"
      ]
     },
     "execution_count": 43,
     "metadata": {},
     "output_type": "execute_result"
    }
   ],
   "source": [
    "# If the Call Duration is more than 5 mins,y_bool count will be high\n",
    "\n",
    "combined.loc[combined.duration<=5,'y_bool'].value_counts(normalize=True)"
   ]
  },
  {
   "cell_type": "code",
   "execution_count": 44,
   "id": "7b26cbb9",
   "metadata": {},
   "outputs": [],
   "source": [
    "# Make n-bins=5\n",
    "\n",
    "kbins = KBinsDiscretizer(n_bins=5,encode='ordinal',strategy='uniform')\n",
    "combined['duration_bins']=kbins.fit_transform(combined[['balance']])"
   ]
  },
  {
   "cell_type": "code",
   "execution_count": 45,
   "id": "961e32af",
   "metadata": {},
   "outputs": [],
   "source": [
    "# Drop the variables\n",
    "\n",
    "newdata=combined.drop(['contact','job','duration_bins'],axis=1)"
   ]
  },
  {
   "cell_type": "code",
   "execution_count": 46,
   "id": "63e6116c",
   "metadata": {},
   "outputs": [
    {
     "data": {
      "text/html": [
       "<div>\n",
       "<style scoped>\n",
       "    .dataframe tbody tr th:only-of-type {\n",
       "        vertical-align: middle;\n",
       "    }\n",
       "\n",
       "    .dataframe tbody tr th {\n",
       "        vertical-align: top;\n",
       "    }\n",
       "\n",
       "    .dataframe thead th {\n",
       "        text-align: right;\n",
       "    }\n",
       "</style>\n",
       "<table border=\"1\" class=\"dataframe\">\n",
       "  <thead>\n",
       "    <tr style=\"text-align: right;\">\n",
       "      <th></th>\n",
       "      <th>age</th>\n",
       "      <th>marital</th>\n",
       "      <th>education</th>\n",
       "      <th>default</th>\n",
       "      <th>balance</th>\n",
       "      <th>housing</th>\n",
       "      <th>loan</th>\n",
       "      <th>day</th>\n",
       "      <th>month</th>\n",
       "      <th>duration</th>\n",
       "      <th>campaign</th>\n",
       "      <th>pdays</th>\n",
       "      <th>previous</th>\n",
       "      <th>poutcome</th>\n",
       "      <th>y_bool</th>\n",
       "      <th>Profession</th>\n",
       "      <th>age_bins</th>\n",
       "      <th>age_cat</th>\n",
       "      <th>balance_bins</th>\n",
       "    </tr>\n",
       "  </thead>\n",
       "  <tbody>\n",
       "    <tr>\n",
       "      <th>0</th>\n",
       "      <td>51</td>\n",
       "      <td>married</td>\n",
       "      <td>tertiary</td>\n",
       "      <td>no</td>\n",
       "      <td>148</td>\n",
       "      <td>no</td>\n",
       "      <td>no</td>\n",
       "      <td>15</td>\n",
       "      <td>apr</td>\n",
       "      <td>4.383333</td>\n",
       "      <td>2</td>\n",
       "      <td>-1</td>\n",
       "      <td>0</td>\n",
       "      <td>unknown</td>\n",
       "      <td>0.0</td>\n",
       "      <td>Employed</td>\n",
       "      <td>1.0</td>\n",
       "      <td>Mature</td>\n",
       "      <td>0.0</td>\n",
       "    </tr>\n",
       "    <tr>\n",
       "      <th>1</th>\n",
       "      <td>55</td>\n",
       "      <td>married</td>\n",
       "      <td>secondary</td>\n",
       "      <td>no</td>\n",
       "      <td>7160</td>\n",
       "      <td>yes</td>\n",
       "      <td>no</td>\n",
       "      <td>4</td>\n",
       "      <td>may</td>\n",
       "      <td>5.250000</td>\n",
       "      <td>1</td>\n",
       "      <td>-1</td>\n",
       "      <td>0</td>\n",
       "      <td>unknown</td>\n",
       "      <td>0.0</td>\n",
       "      <td>blue_collar</td>\n",
       "      <td>2.0</td>\n",
       "      <td>Senior</td>\n",
       "      <td>4.0</td>\n",
       "    </tr>\n",
       "    <tr>\n",
       "      <th>2</th>\n",
       "      <td>65</td>\n",
       "      <td>divorced</td>\n",
       "      <td>tertiary</td>\n",
       "      <td>no</td>\n",
       "      <td>2197</td>\n",
       "      <td>yes</td>\n",
       "      <td>no</td>\n",
       "      <td>12</td>\n",
       "      <td>may</td>\n",
       "      <td>1.700000</td>\n",
       "      <td>2</td>\n",
       "      <td>-1</td>\n",
       "      <td>0</td>\n",
       "      <td>unknown</td>\n",
       "      <td>0.0</td>\n",
       "      <td>blue_collar</td>\n",
       "      <td>2.0</td>\n",
       "      <td>Senior</td>\n",
       "      <td>3.0</td>\n",
       "    </tr>\n",
       "    <tr>\n",
       "      <th>3</th>\n",
       "      <td>25</td>\n",
       "      <td>married</td>\n",
       "      <td>secondary</td>\n",
       "      <td>no</td>\n",
       "      <td>6658</td>\n",
       "      <td>yes</td>\n",
       "      <td>no</td>\n",
       "      <td>16</td>\n",
       "      <td>feb</td>\n",
       "      <td>3.283333</td>\n",
       "      <td>1</td>\n",
       "      <td>-1</td>\n",
       "      <td>0</td>\n",
       "      <td>unknown</td>\n",
       "      <td>1.0</td>\n",
       "      <td>Employed</td>\n",
       "      <td>0.0</td>\n",
       "      <td>Adults</td>\n",
       "      <td>4.0</td>\n",
       "    </tr>\n",
       "    <tr>\n",
       "      <th>4</th>\n",
       "      <td>36</td>\n",
       "      <td>married</td>\n",
       "      <td>secondary</td>\n",
       "      <td>no</td>\n",
       "      <td>1761</td>\n",
       "      <td>yes</td>\n",
       "      <td>no</td>\n",
       "      <td>19</td>\n",
       "      <td>sep</td>\n",
       "      <td>2.950000</td>\n",
       "      <td>1</td>\n",
       "      <td>-1</td>\n",
       "      <td>0</td>\n",
       "      <td>success</td>\n",
       "      <td>0.0</td>\n",
       "      <td>blue_collar</td>\n",
       "      <td>1.0</td>\n",
       "      <td>Adults</td>\n",
       "      <td>3.0</td>\n",
       "    </tr>\n",
       "  </tbody>\n",
       "</table>\n",
       "</div>"
      ],
      "text/plain": [
       "   age   marital  education default  balance housing loan  day month  \\\n",
       "0   51   married   tertiary      no      148      no   no   15   apr   \n",
       "1   55   married  secondary      no     7160     yes   no    4   may   \n",
       "2   65  divorced   tertiary      no     2197     yes   no   12   may   \n",
       "3   25   married  secondary      no     6658     yes   no   16   feb   \n",
       "4   36   married  secondary      no     1761     yes   no   19   sep   \n",
       "\n",
       "   duration  campaign  pdays  previous poutcome  y_bool   Profession  \\\n",
       "0  4.383333         2     -1         0  unknown     0.0     Employed   \n",
       "1  5.250000         1     -1         0  unknown     0.0  blue_collar   \n",
       "2  1.700000         2     -1         0  unknown     0.0  blue_collar   \n",
       "3  3.283333         1     -1         0  unknown     1.0     Employed   \n",
       "4  2.950000         1     -1         0  success     0.0  blue_collar   \n",
       "\n",
       "   age_bins age_cat  balance_bins  \n",
       "0       1.0  Mature           0.0  \n",
       "1       2.0  Senior           4.0  \n",
       "2       2.0  Senior           3.0  \n",
       "3       0.0  Adults           4.0  \n",
       "4       1.0  Adults           3.0  "
      ]
     },
     "execution_count": 46,
     "metadata": {},
     "output_type": "execute_result"
    }
   ],
   "source": [
    "newdata.head()"
   ]
  },
  {
   "cell_type": "code",
   "execution_count": 47,
   "id": "1c81d202",
   "metadata": {},
   "outputs": [],
   "source": [
    "# convert target variable from float to int - after spliting the data"
   ]
  },
  {
   "cell_type": "code",
   "execution_count": 48,
   "id": "cdbb282f",
   "metadata": {},
   "outputs": [],
   "source": [
    "# Make n-bins=5\n",
    "\n",
    "kbins = KBinsDiscretizer(n_bins=5,encode='ordinal',strategy='quantile')\n",
    "combined['day_bins']=kbins.fit_transform(combined[['day']])"
   ]
  },
  {
   "cell_type": "code",
   "execution_count": 49,
   "id": "cb23e5df",
   "metadata": {},
   "outputs": [
    {
     "name": "stdout",
     "output_type": "stream",
     "text": [
      "0.540540988585851\n"
     ]
    }
   ],
   "source": [
    "tb1 = pd.crosstab(combined.day_bins,combined.y_bool)\n",
    "teststats,pvalue,df,exp_freq = stats.chi2_contingency(tb1)\n",
    "print(pvalue)"
   ]
  },
  {
   "cell_type": "code",
   "execution_count": null,
   "id": "fd924395",
   "metadata": {},
   "outputs": [],
   "source": []
  },
  {
   "cell_type": "code",
   "execution_count": 50,
   "id": "08b4b2f8",
   "metadata": {},
   "outputs": [
    {
     "data": {
      "text/plain": [
       "<AxesSubplot:xlabel='y_bool,month'>"
      ]
     },
     "execution_count": 50,
     "metadata": {},
     "output_type": "execute_result"
    },
    {
     "data": {
      "image/png": "[encoded data removed]",
      "text/plain": [
       "<Figure size 1080x720 with 1 Axes>"
      ]
     },
     "metadata": {
      "needs_background": "light"
     },
     "output_type": "display_data"
    }
   ],
   "source": [
    "# Day vs Target\n",
    "\n",
    "pd.DataFrame(newdata.groupby('y_bool')['month'].value_counts()).plot(kind='bar')"
   ]
  },
  {
   "cell_type": "code",
   "execution_count": 51,
   "id": "dc847b60",
   "metadata": {},
   "outputs": [],
   "source": [
    "def months(x):\n",
    "    if x in ['oct','nov','dec']:\n",
    "        return('q4')\n",
    "    elif x in ['apr','may','jun']:\n",
    "        return('q2')\n",
    "    elif x in ['jan','feb','mar']:\n",
    "        return('q1')\n",
    "    else:\n",
    "        return('q3')\n",
    "    "
   ]
  },
  {
   "cell_type": "code",
   "execution_count": 52,
   "id": "dadeb682",
   "metadata": {},
   "outputs": [],
   "source": [
    "newdata['month_cat'] = newdata.month.apply(months)"
   ]
  },
  {
   "cell_type": "code",
   "execution_count": 53,
   "id": "7673c647",
   "metadata": {},
   "outputs": [
    {
     "data": {
      "text/html": [
       "<div>\n",
       "<style scoped>\n",
       "    .dataframe tbody tr th:only-of-type {\n",
       "        vertical-align: middle;\n",
       "    }\n",
       "\n",
       "    .dataframe tbody tr th {\n",
       "        vertical-align: top;\n",
       "    }\n",
       "\n",
       "    .dataframe thead th {\n",
       "        text-align: right;\n",
       "    }\n",
       "</style>\n",
       "<table border=\"1\" class=\"dataframe\">\n",
       "  <thead>\n",
       "    <tr style=\"text-align: right;\">\n",
       "      <th></th>\n",
       "      <th>age</th>\n",
       "      <th>marital</th>\n",
       "      <th>education</th>\n",
       "      <th>default</th>\n",
       "      <th>balance</th>\n",
       "      <th>housing</th>\n",
       "      <th>loan</th>\n",
       "      <th>day</th>\n",
       "      <th>month</th>\n",
       "      <th>duration</th>\n",
       "      <th>campaign</th>\n",
       "      <th>pdays</th>\n",
       "      <th>previous</th>\n",
       "      <th>poutcome</th>\n",
       "      <th>y_bool</th>\n",
       "      <th>Profession</th>\n",
       "      <th>age_bins</th>\n",
       "      <th>age_cat</th>\n",
       "      <th>balance_bins</th>\n",
       "      <th>month_cat</th>\n",
       "    </tr>\n",
       "  </thead>\n",
       "  <tbody>\n",
       "    <tr>\n",
       "      <th>0</th>\n",
       "      <td>51</td>\n",
       "      <td>married</td>\n",
       "      <td>tertiary</td>\n",
       "      <td>no</td>\n",
       "      <td>148</td>\n",
       "      <td>no</td>\n",
       "      <td>no</td>\n",
       "      <td>15</td>\n",
       "      <td>apr</td>\n",
       "      <td>4.383333</td>\n",
       "      <td>2</td>\n",
       "      <td>-1</td>\n",
       "      <td>0</td>\n",
       "      <td>unknown</td>\n",
       "      <td>0.0</td>\n",
       "      <td>Employed</td>\n",
       "      <td>1.0</td>\n",
       "      <td>Mature</td>\n",
       "      <td>0.0</td>\n",
       "      <td>q2</td>\n",
       "    </tr>\n",
       "    <tr>\n",
       "      <th>1</th>\n",
       "      <td>55</td>\n",
       "      <td>married</td>\n",
       "      <td>secondary</td>\n",
       "      <td>no</td>\n",
       "      <td>7160</td>\n",
       "      <td>yes</td>\n",
       "      <td>no</td>\n",
       "      <td>4</td>\n",
       "      <td>may</td>\n",
       "      <td>5.250000</td>\n",
       "      <td>1</td>\n",
       "      <td>-1</td>\n",
       "      <td>0</td>\n",
       "      <td>unknown</td>\n",
       "      <td>0.0</td>\n",
       "      <td>blue_collar</td>\n",
       "      <td>2.0</td>\n",
       "      <td>Senior</td>\n",
       "      <td>4.0</td>\n",
       "      <td>q2</td>\n",
       "    </tr>\n",
       "    <tr>\n",
       "      <th>2</th>\n",
       "      <td>65</td>\n",
       "      <td>divorced</td>\n",
       "      <td>tertiary</td>\n",
       "      <td>no</td>\n",
       "      <td>2197</td>\n",
       "      <td>yes</td>\n",
       "      <td>no</td>\n",
       "      <td>12</td>\n",
       "      <td>may</td>\n",
       "      <td>1.700000</td>\n",
       "      <td>2</td>\n",
       "      <td>-1</td>\n",
       "      <td>0</td>\n",
       "      <td>unknown</td>\n",
       "      <td>0.0</td>\n",
       "      <td>blue_collar</td>\n",
       "      <td>2.0</td>\n",
       "      <td>Senior</td>\n",
       "      <td>3.0</td>\n",
       "      <td>q2</td>\n",
       "    </tr>\n",
       "    <tr>\n",
       "      <th>3</th>\n",
       "      <td>25</td>\n",
       "      <td>married</td>\n",
       "      <td>secondary</td>\n",
       "      <td>no</td>\n",
       "      <td>6658</td>\n",
       "      <td>yes</td>\n",
       "      <td>no</td>\n",
       "      <td>16</td>\n",
       "      <td>feb</td>\n",
       "      <td>3.283333</td>\n",
       "      <td>1</td>\n",
       "      <td>-1</td>\n",
       "      <td>0</td>\n",
       "      <td>unknown</td>\n",
       "      <td>1.0</td>\n",
       "      <td>Employed</td>\n",
       "      <td>0.0</td>\n",
       "      <td>Adults</td>\n",
       "      <td>4.0</td>\n",
       "      <td>q1</td>\n",
       "    </tr>\n",
       "    <tr>\n",
       "      <th>4</th>\n",
       "      <td>36</td>\n",
       "      <td>married</td>\n",
       "      <td>secondary</td>\n",
       "      <td>no</td>\n",
       "      <td>1761</td>\n",
       "      <td>yes</td>\n",
       "      <td>no</td>\n",
       "      <td>19</td>\n",
       "      <td>sep</td>\n",
       "      <td>2.950000</td>\n",
       "      <td>1</td>\n",
       "      <td>-1</td>\n",
       "      <td>0</td>\n",
       "      <td>success</td>\n",
       "      <td>0.0</td>\n",
       "      <td>blue_collar</td>\n",
       "      <td>1.0</td>\n",
       "      <td>Adults</td>\n",
       "      <td>3.0</td>\n",
       "      <td>q3</td>\n",
       "    </tr>\n",
       "  </tbody>\n",
       "</table>\n",
       "</div>"
      ],
      "text/plain": [
       "   age   marital  education default  balance housing loan  day month  \\\n",
       "0   51   married   tertiary      no      148      no   no   15   apr   \n",
       "1   55   married  secondary      no     7160     yes   no    4   may   \n",
       "2   65  divorced   tertiary      no     2197     yes   no   12   may   \n",
       "3   25   married  secondary      no     6658     yes   no   16   feb   \n",
       "4   36   married  secondary      no     1761     yes   no   19   sep   \n",
       "\n",
       "   duration  campaign  pdays  previous poutcome  y_bool   Profession  \\\n",
       "0  4.383333         2     -1         0  unknown     0.0     Employed   \n",
       "1  5.250000         1     -1         0  unknown     0.0  blue_collar   \n",
       "2  1.700000         2     -1         0  unknown     0.0  blue_collar   \n",
       "3  3.283333         1     -1         0  unknown     1.0     Employed   \n",
       "4  2.950000         1     -1         0  success     0.0  blue_collar   \n",
       "\n",
       "   age_bins age_cat  balance_bins month_cat  \n",
       "0       1.0  Mature           0.0        q2  \n",
       "1       2.0  Senior           4.0        q2  \n",
       "2       2.0  Senior           3.0        q2  \n",
       "3       0.0  Adults           4.0        q1  \n",
       "4       1.0  Adults           3.0        q3  "
      ]
     },
     "execution_count": 53,
     "metadata": {},
     "output_type": "execute_result"
    }
   ],
   "source": [
    "newdata.head()"
   ]
  },
  {
   "cell_type": "code",
   "execution_count": 54,
   "id": "bfdb4e98",
   "metadata": {},
   "outputs": [
    {
     "name": "stdout",
     "output_type": "stream",
     "text": [
      "0.04597093223395938\n"
     ]
    }
   ],
   "source": [
    "tb1 = pd.crosstab(newdata.month_cat,newdata.y_bool)\n",
    "teststats,pvalue,df,exp_freq = stats.chi2_contingency(tb1)\n",
    "print(pvalue)"
   ]
  },
  {
   "cell_type": "code",
   "execution_count": 55,
   "id": "1a615c6a",
   "metadata": {},
   "outputs": [],
   "source": [
    "# Dropping day and month\n",
    "\n",
    "newdata = newdata.drop(['day','month'],axis=1)"
   ]
  },
  {
   "cell_type": "code",
   "execution_count": 56,
   "id": "b8391006",
   "metadata": {
    "scrolled": true
   },
   "outputs": [
    {
     "data": {
      "text/html": [
       "<div>\n",
       "<style scoped>\n",
       "    .dataframe tbody tr th:only-of-type {\n",
       "        vertical-align: middle;\n",
       "    }\n",
       "\n",
       "    .dataframe tbody tr th {\n",
       "        vertical-align: top;\n",
       "    }\n",
       "\n",
       "    .dataframe thead th {\n",
       "        text-align: right;\n",
       "    }\n",
       "</style>\n",
       "<table border=\"1\" class=\"dataframe\">\n",
       "  <thead>\n",
       "    <tr style=\"text-align: right;\">\n",
       "      <th></th>\n",
       "      <th>age</th>\n",
       "      <th>marital</th>\n",
       "      <th>education</th>\n",
       "      <th>default</th>\n",
       "      <th>balance</th>\n",
       "      <th>housing</th>\n",
       "      <th>loan</th>\n",
       "      <th>duration</th>\n",
       "      <th>campaign</th>\n",
       "      <th>pdays</th>\n",
       "      <th>previous</th>\n",
       "      <th>poutcome</th>\n",
       "      <th>y_bool</th>\n",
       "      <th>Profession</th>\n",
       "      <th>age_bins</th>\n",
       "      <th>age_cat</th>\n",
       "      <th>balance_bins</th>\n",
       "      <th>month_cat</th>\n",
       "    </tr>\n",
       "  </thead>\n",
       "  <tbody>\n",
       "    <tr>\n",
       "      <th>0</th>\n",
       "      <td>51</td>\n",
       "      <td>married</td>\n",
       "      <td>tertiary</td>\n",
       "      <td>no</td>\n",
       "      <td>148</td>\n",
       "      <td>no</td>\n",
       "      <td>no</td>\n",
       "      <td>4.383333</td>\n",
       "      <td>2</td>\n",
       "      <td>-1</td>\n",
       "      <td>0</td>\n",
       "      <td>unknown</td>\n",
       "      <td>0.0</td>\n",
       "      <td>Employed</td>\n",
       "      <td>1.0</td>\n",
       "      <td>Mature</td>\n",
       "      <td>0.0</td>\n",
       "      <td>q2</td>\n",
       "    </tr>\n",
       "    <tr>\n",
       "      <th>1</th>\n",
       "      <td>55</td>\n",
       "      <td>married</td>\n",
       "      <td>secondary</td>\n",
       "      <td>no</td>\n",
       "      <td>7160</td>\n",
       "      <td>yes</td>\n",
       "      <td>no</td>\n",
       "      <td>5.250000</td>\n",
       "      <td>1</td>\n",
       "      <td>-1</td>\n",
       "      <td>0</td>\n",
       "      <td>unknown</td>\n",
       "      <td>0.0</td>\n",
       "      <td>blue_collar</td>\n",
       "      <td>2.0</td>\n",
       "      <td>Senior</td>\n",
       "      <td>4.0</td>\n",
       "      <td>q2</td>\n",
       "    </tr>\n",
       "    <tr>\n",
       "      <th>2</th>\n",
       "      <td>65</td>\n",
       "      <td>divorced</td>\n",
       "      <td>tertiary</td>\n",
       "      <td>no</td>\n",
       "      <td>2197</td>\n",
       "      <td>yes</td>\n",
       "      <td>no</td>\n",
       "      <td>1.700000</td>\n",
       "      <td>2</td>\n",
       "      <td>-1</td>\n",
       "      <td>0</td>\n",
       "      <td>unknown</td>\n",
       "      <td>0.0</td>\n",
       "      <td>blue_collar</td>\n",
       "      <td>2.0</td>\n",
       "      <td>Senior</td>\n",
       "      <td>3.0</td>\n",
       "      <td>q2</td>\n",
       "    </tr>\n",
       "    <tr>\n",
       "      <th>3</th>\n",
       "      <td>25</td>\n",
       "      <td>married</td>\n",
       "      <td>secondary</td>\n",
       "      <td>no</td>\n",
       "      <td>6658</td>\n",
       "      <td>yes</td>\n",
       "      <td>no</td>\n",
       "      <td>3.283333</td>\n",
       "      <td>1</td>\n",
       "      <td>-1</td>\n",
       "      <td>0</td>\n",
       "      <td>unknown</td>\n",
       "      <td>1.0</td>\n",
       "      <td>Employed</td>\n",
       "      <td>0.0</td>\n",
       "      <td>Adults</td>\n",
       "      <td>4.0</td>\n",
       "      <td>q1</td>\n",
       "    </tr>\n",
       "    <tr>\n",
       "      <th>4</th>\n",
       "      <td>36</td>\n",
       "      <td>married</td>\n",
       "      <td>secondary</td>\n",
       "      <td>no</td>\n",
       "      <td>1761</td>\n",
       "      <td>yes</td>\n",
       "      <td>no</td>\n",
       "      <td>2.950000</td>\n",
       "      <td>1</td>\n",
       "      <td>-1</td>\n",
       "      <td>0</td>\n",
       "      <td>success</td>\n",
       "      <td>0.0</td>\n",
       "      <td>blue_collar</td>\n",
       "      <td>1.0</td>\n",
       "      <td>Adults</td>\n",
       "      <td>3.0</td>\n",
       "      <td>q3</td>\n",
       "    </tr>\n",
       "  </tbody>\n",
       "</table>\n",
       "</div>"
      ],
      "text/plain": [
       "   age   marital  education default  balance housing loan  duration  campaign  \\\n",
       "0   51   married   tertiary      no      148      no   no  4.383333         2   \n",
       "1   55   married  secondary      no     7160     yes   no  5.250000         1   \n",
       "2   65  divorced   tertiary      no     2197     yes   no  1.700000         2   \n",
       "3   25   married  secondary      no     6658     yes   no  3.283333         1   \n",
       "4   36   married  secondary      no     1761     yes   no  2.950000         1   \n",
       "\n",
       "   pdays  previous poutcome  y_bool   Profession  age_bins age_cat  \\\n",
       "0     -1         0  unknown     0.0     Employed       1.0  Mature   \n",
       "1     -1         0  unknown     0.0  blue_collar       2.0  Senior   \n",
       "2     -1         0  unknown     0.0  blue_collar       2.0  Senior   \n",
       "3     -1         0  unknown     1.0     Employed       0.0  Adults   \n",
       "4     -1         0  success     0.0  blue_collar       1.0  Adults   \n",
       "\n",
       "   balance_bins month_cat  \n",
       "0           0.0        q2  \n",
       "1           4.0        q2  \n",
       "2           3.0        q2  \n",
       "3           4.0        q1  \n",
       "4           3.0        q3  "
      ]
     },
     "execution_count": 56,
     "metadata": {},
     "output_type": "execute_result"
    }
   ],
   "source": [
    "newdata.head()"
   ]
  },
  {
   "cell_type": "code",
   "execution_count": 57,
   "id": "147f2c72",
   "metadata": {},
   "outputs": [
    {
     "data": {
      "text/plain": [
       "(30000, 18)"
      ]
     },
     "execution_count": 57,
     "metadata": {},
     "output_type": "execute_result"
    }
   ],
   "source": [
    "newdata.shape"
   ]
  },
  {
   "cell_type": "code",
   "execution_count": 58,
   "id": "2bef7c11",
   "metadata": {},
   "outputs": [
    {
     "data": {
      "text/plain": [
       "(30000, 28)"
      ]
     },
     "execution_count": 58,
     "metadata": {},
     "output_type": "execute_result"
    }
   ],
   "source": [
    "pd.get_dummies(newdata,drop_first=True).shape"
   ]
  },
  {
   "cell_type": "code",
   "execution_count": 59,
   "id": "716ea3cd",
   "metadata": {},
   "outputs": [],
   "source": [
    "# split the Data in Train and Test\n",
    "\n",
    "newtrain = newdata.loc[0:train.shape[0]-1,:]\n",
    "newtest = newdata.loc[train.shape[0]:,:]\n",
    "\n",
    "newtest.drop('y_bool',axis=1,inplace=True)"
   ]
  },
  {
   "cell_type": "code",
   "execution_count": 60,
   "id": "31bdae8b",
   "metadata": {},
   "outputs": [],
   "source": [
    "# Convert target into integer....\n",
    "newtrain['y_bool'] = newtrain.y_bool.astype(int)"
   ]
  },
  {
   "cell_type": "code",
   "execution_count": 62,
   "id": "df3ed9e1",
   "metadata": {},
   "outputs": [
    {
     "data": {
      "text/plain": [
       "((21000, 18), (9000, 17), (21000, 17), (9000, 16))"
      ]
     },
     "execution_count": 62,
     "metadata": {},
     "output_type": "execute_result"
    }
   ],
   "source": [
    "newtrain.shape,newtest.shape,train.shape,test.shape"
   ]
  },
  {
   "cell_type": "code",
   "execution_count": 63,
   "id": "9d4b54f7",
   "metadata": {},
   "outputs": [],
   "source": [
    "newtrain['age_bins'] = newtrain.age_bins.astype(int)\n",
    "newtrain['balance_bins'] = newtrain.balance_bins.astype(int)\n",
    "newtrain['y_bool'] = newtrain.y_bool.astype(int)"
   ]
  },
  {
   "cell_type": "code",
   "execution_count": 64,
   "id": "e26eed52",
   "metadata": {},
   "outputs": [],
   "source": [
    "newtest['age_bins'] = newtest.age_bins.astype(int)\n",
    "newtest['balance_bins'] = newtest.balance_bins.astype(int)"
   ]
  },
  {
   "cell_type": "markdown",
   "id": "e3af4558",
   "metadata": {},
   "source": [
    "Modeling"
   ]
  },
  {
   "cell_type": "code",
   "execution_count": 65,
   "id": "20549766",
   "metadata": {},
   "outputs": [],
   "source": [
    "dummytrain = pd.get_dummies(newtrain,drop_first=True)\n",
    "dummytest = pd.get_dummies(newtest,drop_first=True)"
   ]
  },
  {
   "cell_type": "code",
   "execution_count": 66,
   "id": "8330b955",
   "metadata": {},
   "outputs": [],
   "source": [
    "X= dummytrain.drop('y_bool',axis=1)\n",
    "y = dummytrain.y_bool"
   ]
  },
  {
   "cell_type": "code",
   "execution_count": 80,
   "id": "7002a241",
   "metadata": {},
   "outputs": [],
   "source": [
    "from imblearn.over_sampling import SMOTE\n",
    "smote=SMOTE(sampling_strategy='minority')\n",
    "\n",
    "smote_x,smote_y=smote.fit_resample(X,y)"
   ]
  },
  {
   "cell_type": "code",
   "execution_count": 92,
   "id": "5e2c4a85",
   "metadata": {},
   "outputs": [],
   "source": [
    "from sklearn.linear_model import LogisticRegression\n",
    "lg = LogisticRegression()\n",
    "\n",
    "from sklearn.model_selection import StratifiedKFold\n",
    "\n",
    "kfold = StratifiedKFold(n_splits=10,shuffle=True,random_state=42)\n",
    "pred=[]\n",
    "\n",
    "for train_index,test_index in kfold.split(smote_x,smote_y):\n",
    "    xtrain = smote_x.loc[train_index]\n",
    "    ytrain = smote_y.loc[train_index]\n",
    "    pred.append(lg.fit(xtrain,ytrain).predict(dummytest)) "
   ]
  },
  {
   "cell_type": "code",
   "execution_count": 93,
   "id": "dea0f29a",
   "metadata": {},
   "outputs": [],
   "source": [
    "    \n",
    "# prediction File\n",
    "\n",
    "finalpred = pd.DataFrame(pred).T.mode(axis=1)[0]"
   ]
  },
  {
   "cell_type": "code",
   "execution_count": 94,
   "id": "1a4f9fae",
   "metadata": {},
   "outputs": [],
   "source": [
    "submission = pd.DataFrame({\"y_bool\":finalpred})\n",
    "\n",
    "submission.to_csv('Logmodel.csv',index=False) "
   ]
  },
  {
   "cell_type": "code",
   "execution_count": 79,
   "id": "53ee53e3",
   "metadata": {},
   "outputs": [
    {
     "name": "stdout",
     "output_type": "stream",
     "text": [
      "C:\\Users\\91771\n"
     ]
    }
   ],
   "source": [
    "cd"
   ]
  },
  {
   "cell_type": "code",
   "execution_count": 104,
   "id": "fbe1cec6",
   "metadata": {},
   "outputs": [],
   "source": [
    "# model\n",
    "\n",
    "from sklearn.tree import DecisionTreeClassifier\n",
    "from sklearn.ensemble import RandomForestClassifier,GradientBoostingClassifier\n",
    "\n",
    "dtree= DecisionTreeClassifier()\n",
    "rf = RandomForestClassifier(criterion='entropy')\n",
    "from xgboost import XGBClassifier\n",
    "xgb = XGBClassifier()\n",
    "gbm = GradientBoostingClassifier()\n",
    "\n",
    "\n",
    "kfold = StratifiedKFold(n_splits=10,shuffle=True,random_state=42)\n",
    "pred=[]\n",
    "\n",
    "for train_index,test_index in kfold.split(smote_x,smote_y):\n",
    "    xtrain = smote_x.loc[train_index]\n",
    "    ytrain = smote_y.loc[train_index]\n",
    "    pred.append(xgb.fit(xtrain,ytrain).predict(dummytest)) \n",
    "\n",
    "\n",
    "    \n",
    "# prediction File\n",
    "\n",
    "finalpred = pd.DataFrame(pred).T.mode(axis=1)[0]"
   ]
  },
  {
   "cell_type": "code",
   "execution_count": 105,
   "id": "fd0a2dfe",
   "metadata": {},
   "outputs": [],
   "source": [
    "submission = pd.DataFrame({\"y_bool\":finalpred})\n",
    "\n",
    "submission.to_csv('XGb.csv',index=False) "
   ]
  },
  {
   "cell_type": "code",
   "execution_count": null,
   "id": "38b993a2",
   "metadata": {},
   "outputs": [],
   "source": []
  },
  {
   "cell_type": "code",
   "execution_count": null,
   "id": "cf400d41",
   "metadata": {},
   "outputs": [],
   "source": [
    "# Feature Selection"
   ]
  },
  {
   "cell_type": "code",
   "execution_count": 107,
   "id": "25d84157",
   "metadata": {},
   "outputs": [
    {
     "name": "stderr",
     "output_type": "stream",
     "text": [
      "\n",
      "STOPPING EARLY DUE TO KEYBOARD INTERRUPT..."
     ]
    },
    {
     "data": {
      "text/html": [
       "<style>#sk-container-id-2 {color: black;background-color: white;}#sk-container-id-2 pre{padding: 0;}#sk-container-id-2 div.sk-toggleable {background-color: white;}#sk-container-id-2 label.sk-toggleable__label {cursor: pointer;display: block;width: 100%;margin-bottom: 0;padding: 0.3em;box-sizing: border-box;text-align: center;}#sk-container-id-2 label.sk-toggleable__label-arrow:before {content: \"▸\";float: left;margin-right: 0.25em;color: #696969;}#sk-container-id-2 label.sk-toggleable__label-arrow:hover:before {color: black;}#sk-container-id-2 div.sk-estimator:hover label.sk-toggleable__label-arrow:before {color: black;}#sk-container-id-2 div.sk-toggleable__content {max-height: 0;max-width: 0;overflow: hidden;text-align: left;background-color: #f0f8ff;}#sk-container-id-2 div.sk-toggleable__content pre {margin: 0.2em;color: black;border-radius: 0.25em;background-color: #f0f8ff;}#sk-container-id-2 input.sk-toggleable__control:checked~div.sk-toggleable__content {max-height: 200px;max-width: 100%;overflow: auto;}#sk-container-id-2 input.sk-toggleable__control:checked~label.sk-toggleable__label-arrow:before {content: \"▾\";}#sk-container-id-2 div.sk-estimator input.sk-toggleable__control:checked~label.sk-toggleable__label {background-color: #d4ebff;}#sk-container-id-2 div.sk-label input.sk-toggleable__control:checked~label.sk-toggleable__label {background-color: #d4ebff;}#sk-container-id-2 input.sk-hidden--visually {border: 0;clip: rect(1px 1px 1px 1px);clip: rect(1px, 1px, 1px, 1px);height: 1px;margin: -1px;overflow: hidden;padding: 0;position: absolute;width: 1px;}#sk-container-id-2 div.sk-estimator {font-family: monospace;background-color: #f0f8ff;border: 1px dotted black;border-radius: 0.25em;box-sizing: border-box;margin-bottom: 0.5em;}#sk-container-id-2 div.sk-estimator:hover {background-color: #d4ebff;}#sk-container-id-2 div.sk-parallel-item::after {content: \"\";width: 100%;border-bottom: 1px solid gray;flex-grow: 1;}#sk-container-id-2 div.sk-label:hover label.sk-toggleable__label {background-color: #d4ebff;}#sk-container-id-2 div.sk-serial::before {content: \"\";position: absolute;border-left: 1px solid gray;box-sizing: border-box;top: 0;bottom: 0;left: 50%;z-index: 0;}#sk-container-id-2 div.sk-serial {display: flex;flex-direction: column;align-items: center;background-color: white;padding-right: 0.2em;padding-left: 0.2em;position: relative;}#sk-container-id-2 div.sk-item {position: relative;z-index: 1;}#sk-container-id-2 div.sk-parallel {display: flex;align-items: stretch;justify-content: center;background-color: white;position: relative;}#sk-container-id-2 div.sk-item::before, #sk-container-id-2 div.sk-parallel-item::before {content: \"\";position: absolute;border-left: 1px solid gray;box-sizing: border-box;top: 0;bottom: 0;left: 50%;z-index: -1;}#sk-container-id-2 div.sk-parallel-item {display: flex;flex-direction: column;z-index: 1;position: relative;background-color: white;}#sk-container-id-2 div.sk-parallel-item:first-child::after {align-self: flex-end;width: 50%;}#sk-container-id-2 div.sk-parallel-item:last-child::after {align-self: flex-start;width: 50%;}#sk-container-id-2 div.sk-parallel-item:only-child::after {width: 0;}#sk-container-id-2 div.sk-dashed-wrapped {border: 1px dashed gray;margin: 0 0.4em 0.5em 0.4em;box-sizing: border-box;padding-bottom: 0.4em;background-color: white;}#sk-container-id-2 div.sk-label label {font-family: monospace;font-weight: bold;display: inline-block;line-height: 1.2em;}#sk-container-id-2 div.sk-label-container {text-align: center;}#sk-container-id-2 div.sk-container {/* jupyter's `normalize.less` sets `[hidden] { display: none; }` but bootstrap.min.css set `[hidden] { display: none !important; }` so we also need the `!important` here to be able to override the default hidden behavior on the sphinx rendered scikit-learn.org. See: https://github.com/scikit-learn/scikit-learn/issues/21755 */display: inline-block !important;position: relative;}#sk-container-id-2 div.sk-text-repr-fallback {display: none;}</style><div id=\"sk-container-id-2\" class=\"sk-top-container\"><div class=\"sk-text-repr-fallback\"><pre>SequentialFeatureSelector(estimator=RandomForestClassifier(),\n",
       "                          k_features=(1, 27), scoring=&#x27;accuracy&#x27;)</pre><b>In a Jupyter environment, please rerun this cell to show the HTML representation or trust the notebook. <br />On GitHub, the HTML representation is unable to render, please try loading this page with nbviewer.org.</b></div><div class=\"sk-container\" hidden><div class=\"sk-item sk-dashed-wrapped\"><div class=\"sk-label-container\"><div class=\"sk-label sk-toggleable\"><input class=\"sk-toggleable__control sk-hidden--visually\" id=\"sk-estimator-id-4\" type=\"checkbox\" ><label for=\"sk-estimator-id-4\" class=\"sk-toggleable__label sk-toggleable__label-arrow\">SequentialFeatureSelector</label><div class=\"sk-toggleable__content\"><pre>SequentialFeatureSelector(estimator=RandomForestClassifier(),\n",
       "                          k_features=(1, 27), scoring=&#x27;accuracy&#x27;)</pre></div></div></div><div class=\"sk-parallel\"><div class=\"sk-parallel-item\"><div class=\"sk-item\"><div class=\"sk-label-container\"><div class=\"sk-label sk-toggleable\"><input class=\"sk-toggleable__control sk-hidden--visually\" id=\"sk-estimator-id-5\" type=\"checkbox\" ><label for=\"sk-estimator-id-5\" class=\"sk-toggleable__label sk-toggleable__label-arrow\">estimator: RandomForestClassifier</label><div class=\"sk-toggleable__content\"><pre>RandomForestClassifier()</pre></div></div></div><div class=\"sk-serial\"><div class=\"sk-item\"><div class=\"sk-estimator sk-toggleable\"><input class=\"sk-toggleable__control sk-hidden--visually\" id=\"sk-estimator-id-6\" type=\"checkbox\" ><label for=\"sk-estimator-id-6\" class=\"sk-toggleable__label sk-toggleable__label-arrow\">RandomForestClassifier</label><div class=\"sk-toggleable__content\"><pre>RandomForestClassifier()</pre></div></div></div></div></div></div></div></div></div></div>"
      ],
      "text/plain": [
       "SequentialFeatureSelector(estimator=RandomForestClassifier(),\n",
       "                          k_features=(1, 27), scoring='accuracy')"
      ]
     },
     "execution_count": 107,
     "metadata": {},
     "output_type": "execute_result"
    }
   ],
   "source": [
    "from mlxtend.feature_selection import SequentialFeatureSelector\n",
    "\n",
    "sfs = SequentialFeatureSelector(estimator=RandomForestClassifier(),\n",
    "                               k_features='best',forward=True)\n",
    "\n",
    "sfs.fit(smote_x,smote_y)"
   ]
  },
  {
   "cell_type": "code",
   "execution_count": 108,
   "id": "8929d7e7",
   "metadata": {},
   "outputs": [],
   "source": [
    "from lightgbm import LGBMClassifier\n",
    "\n",
    "lgbm = LGBMClassifier()\n",
    "\n",
    "kfold = StratifiedKFold(n_splits=5,shuffle=True,random_state=42)\n",
    "pred=[]\n",
    "\n",
    "for train_index,test_index in kfold.split(smote_x,smote_y):\n",
    "    xtrain = smote_x.loc[train_index]\n",
    "    ytrain = smote_y.loc[train_index]\n",
    "    pred.append(lgbm.fit(xtrain,ytrain).predict(dummytest)) \n",
    "\n",
    "\n",
    "    \n",
    "# prediction File\n",
    "\n",
    "finalpred = pd.DataFrame(pred).T.mode(axis=1)[0]"
   ]
  },
  {
   "cell_type": "code",
   "execution_count": 109,
   "id": "b51190bf",
   "metadata": {},
   "outputs": [],
   "source": [
    "submission = pd.DataFrame({\"y_bool\":finalpred})\n",
    "\n",
    "submission.to_csv('LGBm.csv',index=False) "
   ]
  },
  {
   "cell_type": "code",
   "execution_count": null,
   "id": "66838104",
   "metadata": {},
   "outputs": [],
   "source": [
    "# parameter tuning for lgbm\n",
    "# Tune the RF and GBM Model\n",
    "# stack model"
   ]
  },
  {
   "cell_type": "code",
   "execution_count": null,
   "id": "dd9f1535",
   "metadata": {},
   "outputs": [],
   "source": []
  },
  {
   "cell_type": "code",
   "execution_count": null,
   "id": "406ed90f",
   "metadata": {},
   "outputs": [],
   "source": []
  }
 ],
 "metadata": {
  "kernelspec": {
   "display_name": "Python 3 (ipykernel)",
   "language": "python",
   "name": "python3"
  },
  "language_info": {
   "codemirror_mode": {
    "name": "ipython",
    "version": 3
   },
   "file_extension": ".py",
   "mimetype": "text/x-python",
   "name": "python",
   "nbconvert_exporter": "python",
   "pygments_lexer": "ipython3",
   "version": "3.9.12"
  }
 },
 "nbformat": 4,
 "nbformat_minor": 5
}
