{
 "cells": [
  {
   "cell_type": "code",
   "execution_count": 1,
   "id": "fd603bcf",
   "metadata": {},
   "outputs": [],
   "source": [
    "from tkinter import *"
   ]
  },
  {
   "cell_type": "code",
   "execution_count": 2,
   "id": "7e58995c",
   "metadata": {},
   "outputs": [],
   "source": [
    "first_number=second_number=operator=None"
   ]
  },
  {
   "cell_type": "raw",
   "id": "76eb18af",
   "metadata": {},
   "source": [
    "def get_digit(digit):\n",
    "    print(digit)"
   ]
  },
  {
   "cell_type": "code",
   "execution_count": 3,
   "id": "7bcc6824",
   "metadata": {},
   "outputs": [],
   "source": [
    "def get_digit(digit):\n",
    "    current = result_label['text']\n",
    "    new = current+str(digit)\n",
    "    result_label.config(text=new)"
   ]
  },
  {
   "cell_type": "code",
   "execution_count": 4,
   "id": "43b533f9",
   "metadata": {},
   "outputs": [],
   "source": [
    "def clear():\n",
    "    result_label.config(text='')"
   ]
  },
  {
   "cell_type": "code",
   "execution_count": 5,
   "id": "4f88280b",
   "metadata": {},
   "outputs": [],
   "source": [
    "def get_operator(op):\n",
    "    global first_number,operator\n",
    "    first_number = int(result_label['text'])\n",
    "    operator = op\n",
    "    result_label.config(text='')"
   ]
  },
  {
   "cell_type": "code",
   "execution_count": 6,
   "id": "203b77d1",
   "metadata": {},
   "outputs": [],
   "source": [
    "def get_result():\n",
    "    global first_number,second_number,operator\n",
    "    second_number = int(result_label['text'])\n",
    "    if operator == '+':\n",
    "        result_label.config(text=str(first_number+second_number))\n",
    "    elif operator == '-':\n",
    "        result_label.config(text=str(first_number-second_number))\n",
    "    elif operator == '*':\n",
    "        result_label.config(text=str(first_number*second_number))\n",
    "    else:\n",
    "        if second_number ==0:\n",
    "            result_label.config(text='Error')\n",
    "        else:\n",
    "            result_label.config(text=str(round(first_number/second_number,2)))\n",
    "        "
   ]
  },
  {
   "cell_type": "code",
   "execution_count": null,
   "id": "fcb4fb86",
   "metadata": {},
   "outputs": [],
   "source": []
  },
  {
   "cell_type": "code",
   "execution_count": 7,
   "id": "7cf54707",
   "metadata": {},
   "outputs": [],
   "source": [
    "root = Tk()"
   ]
  },
  {
   "cell_type": "code",
   "execution_count": 8,
   "id": "909ae2b2",
   "metadata": {},
   "outputs": [
    {
     "data": {
      "text/plain": [
       "''"
      ]
     },
     "execution_count": 8,
     "metadata": {},
     "output_type": "execute_result"
    }
   ],
   "source": [
    "root.title('Calculator')"
   ]
  },
  {
   "cell_type": "code",
   "execution_count": 9,
   "id": "9fd5049c",
   "metadata": {},
   "outputs": [
    {
     "data": {
      "text/plain": [
       "''"
      ]
     },
     "execution_count": 9,
     "metadata": {},
     "output_type": "execute_result"
    }
   ],
   "source": [
    "root.geometry('280x380')"
   ]
  },
  {
   "cell_type": "code",
   "execution_count": 10,
   "id": "0e3687cd",
   "metadata": {},
   "outputs": [
    {
     "data": {
      "text/plain": [
       "''"
      ]
     },
     "execution_count": 10,
     "metadata": {},
     "output_type": "execute_result"
    }
   ],
   "source": [
    "root.resizable(0,0)"
   ]
  },
  {
   "cell_type": "code",
   "execution_count": 11,
   "id": "2764b56b",
   "metadata": {},
   "outputs": [],
   "source": [
    "root.configure(background='black')"
   ]
  },
  {
   "cell_type": "raw",
   "id": "cb0879ca",
   "metadata": {},
   "source": [
    "result_label = Label(root,text='',bg='black',fg='white')"
   ]
  },
  {
   "cell_type": "raw",
   "id": "3d7ae01e",
   "metadata": {},
   "source": [
    "result_label.grid(row=0,column=0,columnspan=5,pady=(50,25),sticky='w')"
   ]
  },
  {
   "cell_type": "raw",
   "id": "f7071fea",
   "metadata": {},
   "source": [
    "result_label.config(font=('verdana',30,'bold'))"
   ]
  },
  {
   "cell_type": "code",
   "execution_count": 12,
   "id": "c5247e37",
   "metadata": {},
   "outputs": [],
   "source": [
    "result_label = Label(root,text='',bg='black',fg='white')\n",
    "result_label.grid(row=0,column=0,columnspan=5,pady=(50,25),sticky='w')\n",
    "result_label.config(font=('verdana',30,'bold'))"
   ]
  },
  {
   "cell_type": "code",
   "execution_count": null,
   "id": "c36c245d",
   "metadata": {},
   "outputs": [],
   "source": []
  },
  {
   "cell_type": "raw",
   "id": "76e770fe",
   "metadata": {},
   "source": [
    "btn7 = Button(root,text='7',bg='#00a65a',fg='white',width=5,height=2)"
   ]
  },
  {
   "cell_type": "raw",
   "id": "7befeda2",
   "metadata": {},
   "source": [
    "btn7.grid(row=1,column=0)"
   ]
  },
  {
   "cell_type": "raw",
   "id": "53702544",
   "metadata": {},
   "source": [
    "btn7.config(font=('verdana',14))"
   ]
  },
  {
   "cell_type": "code",
   "execution_count": 13,
   "id": "bafd6149",
   "metadata": {},
   "outputs": [],
   "source": [
    "btn7 = Button(root,text='7',bg='#00a65a',fg='white',width=5,height=2,command=lambda:get_digit(7))\n",
    "btn7.grid(row=1,column=0)\n",
    "btn7.config(font=('verdana',14))"
   ]
  },
  {
   "cell_type": "code",
   "execution_count": null,
   "id": "7d74b343",
   "metadata": {},
   "outputs": [],
   "source": []
  },
  {
   "cell_type": "raw",
   "id": "59e2bb9b",
   "metadata": {},
   "source": [
    "btn8 = Button(root,text='8',bg='#00a65a',fg='white',width=5,height=2)"
   ]
  },
  {
   "cell_type": "raw",
   "id": "ab3f6072",
   "metadata": {},
   "source": [
    "btn8.grid(row=1,column=1)"
   ]
  },
  {
   "cell_type": "raw",
   "id": "481243d6",
   "metadata": {},
   "source": [
    "btn8.config(font=('verdana',14))"
   ]
  },
  {
   "cell_type": "code",
   "execution_count": 14,
   "id": "12e6f698",
   "metadata": {},
   "outputs": [],
   "source": [
    "btn8 = Button(root,text='8',bg='#00a65a',fg='white',width=5,height=2,command=lambda:get_digit(8))\n",
    "btn8.grid(row=1,column=1)\n",
    "btn8.config(font=('verdana',14))"
   ]
  },
  {
   "cell_type": "code",
   "execution_count": null,
   "id": "ab1512a5",
   "metadata": {},
   "outputs": [],
   "source": []
  },
  {
   "cell_type": "raw",
   "id": "15c31b14",
   "metadata": {},
   "source": [
    "btn9 = Button(root,text='9',bg='#00a65a',fg='white',width=5,height=2)"
   ]
  },
  {
   "cell_type": "raw",
   "id": "cc044e78",
   "metadata": {},
   "source": [
    "btn9.grid(row=1,column=2)"
   ]
  },
  {
   "cell_type": "raw",
   "id": "7fc10683",
   "metadata": {},
   "source": [
    "btn9.config(font=('verdana',14))"
   ]
  },
  {
   "cell_type": "code",
   "execution_count": 15,
   "id": "6d156765",
   "metadata": {},
   "outputs": [],
   "source": [
    "btn9 = Button(root,text='9',bg='#00a65a',fg='white',width=5,height=2,command=lambda:get_digit(9))\n",
    "btn9.grid(row=1,column=2)\n",
    "btn9.config(font=('verdana',14))"
   ]
  },
  {
   "cell_type": "code",
   "execution_count": null,
   "id": "f02f49a7",
   "metadata": {},
   "outputs": [],
   "source": []
  },
  {
   "cell_type": "raw",
   "id": "6b279f6d",
   "metadata": {},
   "source": [
    "btn_add = Button(root,text='+',bg='#00a65a',fg='white',width=5,height=2)"
   ]
  },
  {
   "cell_type": "raw",
   "id": "113ef47c",
   "metadata": {},
   "source": [
    "btn_add.grid(row=1,column=3)"
   ]
  },
  {
   "cell_type": "raw",
   "id": "8ad16c91",
   "metadata": {},
   "source": [
    "btn_add.config(font=('verdana',14))"
   ]
  },
  {
   "cell_type": "code",
   "execution_count": 16,
   "id": "5b6619ae",
   "metadata": {},
   "outputs": [],
   "source": [
    "btn_add = Button(root,text='+',bg='#00a65a',fg='white',width=5,height=2,command = lambda:get_operator('+'))\n",
    "btn_add.grid(row=1,column=3)\n",
    "btn_add.config(font=('verdana',14))"
   ]
  },
  {
   "cell_type": "code",
   "execution_count": null,
   "id": "639b1fea",
   "metadata": {},
   "outputs": [],
   "source": []
  },
  {
   "cell_type": "code",
   "execution_count": 17,
   "id": "6b661906",
   "metadata": {},
   "outputs": [],
   "source": [
    "btn4 = Button(root,text='4',bg='#00a65a',fg='white',width=5,height=2,command=lambda:get_digit(4))\n",
    "btn4.grid(row=2,column=0)\n",
    "btn4.config(font=('verdana',14))"
   ]
  },
  {
   "cell_type": "code",
   "execution_count": null,
   "id": "74d881ff",
   "metadata": {},
   "outputs": [],
   "source": []
  },
  {
   "cell_type": "code",
   "execution_count": 18,
   "id": "38ea657e",
   "metadata": {},
   "outputs": [],
   "source": [
    "btn5 = Button(root,text='5',bg='#00a65a',fg='white',width=5,height=2,command=lambda:get_digit(5))\n",
    "btn5.grid(row=2,column=1)\n",
    "btn5.config(font=('verdana',14))"
   ]
  },
  {
   "cell_type": "code",
   "execution_count": null,
   "id": "2270a65b",
   "metadata": {},
   "outputs": [],
   "source": []
  },
  {
   "cell_type": "code",
   "execution_count": 19,
   "id": "762b4610",
   "metadata": {},
   "outputs": [],
   "source": [
    "btn6 = Button(root,text='6',bg='#00a65a',fg='white',width=5,height=2,command=lambda:get_digit(6))\n",
    "btn6.grid(row=2,column=2)\n",
    "btn6.config(font=('verdana',14))"
   ]
  },
  {
   "cell_type": "code",
   "execution_count": null,
   "id": "3c277dd0",
   "metadata": {},
   "outputs": [],
   "source": []
  },
  {
   "cell_type": "code",
   "execution_count": 20,
   "id": "10b4f073",
   "metadata": {},
   "outputs": [],
   "source": [
    "btn_sub = Button(root,text='-',bg='#00a65a',fg='white',width=5,height=2,command =lambda:get_operator('-'))\n",
    "btn_sub.grid(row=2,column=3)\n",
    "btn_sub.config(font=('verdana',14))"
   ]
  },
  {
   "cell_type": "code",
   "execution_count": null,
   "id": "c6798b0a",
   "metadata": {},
   "outputs": [],
   "source": []
  },
  {
   "cell_type": "code",
   "execution_count": 21,
   "id": "fdc78d90",
   "metadata": {},
   "outputs": [],
   "source": [
    "btn1 = Button(root,text='1',bg='#00a65a',fg='white',width=5,height=2,command=lambda:get_digit(1))\n",
    "btn1.grid(row=3,column=0)\n",
    "btn1.config(font=('verdana',14))"
   ]
  },
  {
   "cell_type": "code",
   "execution_count": null,
   "id": "74cfae24",
   "metadata": {},
   "outputs": [],
   "source": []
  },
  {
   "cell_type": "code",
   "execution_count": 22,
   "id": "83283905",
   "metadata": {},
   "outputs": [],
   "source": [
    "btn2 = Button(root,text='2',bg='#00a65a',fg='white',width=5,height=2,command=lambda:get_digit(2))\n",
    "btn2.grid(row=3,column=1)\n",
    "btn2.config(font=('verdana',14))"
   ]
  },
  {
   "cell_type": "code",
   "execution_count": null,
   "id": "359cee58",
   "metadata": {},
   "outputs": [],
   "source": []
  },
  {
   "cell_type": "code",
   "execution_count": 23,
   "id": "68e85114",
   "metadata": {},
   "outputs": [],
   "source": [
    "btn3 = Button(root,text='3',bg='#00a65a',fg='white',width=5,height=2,command=lambda:get_digit(3))\n",
    "btn3.grid(row=3,column=2)\n",
    "btn3.config(font=('verdana',14))"
   ]
  },
  {
   "cell_type": "code",
   "execution_count": null,
   "id": "859ee576",
   "metadata": {},
   "outputs": [],
   "source": []
  },
  {
   "cell_type": "code",
   "execution_count": 24,
   "id": "14f76155",
   "metadata": {},
   "outputs": [],
   "source": [
    "btn_mul = Button(root,text='*',bg='#00a65a',fg='white',width=5,height=2,command=lambda: get_operator('*'))\n",
    "btn_mul.grid(row=3,column=3)\n",
    "btn_mul.config(font=('verdana',14))"
   ]
  },
  {
   "cell_type": "code",
   "execution_count": null,
   "id": "972998a7",
   "metadata": {},
   "outputs": [],
   "source": []
  },
  {
   "cell_type": "code",
   "execution_count": 25,
   "id": "ffac2c1d",
   "metadata": {},
   "outputs": [],
   "source": [
    "btn_clr = Button(root,text='C',bg='#00a65a',fg='white',width=5,height=2,command=lambda:clear())\n",
    "btn_clr.grid(row=4,column=0)\n",
    "btn_clr.config(font=('verdana',14))"
   ]
  },
  {
   "cell_type": "code",
   "execution_count": null,
   "id": "e0bd8e46",
   "metadata": {},
   "outputs": [],
   "source": []
  },
  {
   "cell_type": "code",
   "execution_count": 26,
   "id": "3fef0a5f",
   "metadata": {},
   "outputs": [],
   "source": [
    "btn0 = Button(root,text='0',bg='#00a65a',fg='white',width=5,height=2,command=lambda:get_digit(0))\n",
    "btn0.grid(row=4,column=1)\n",
    "btn0.config(font=('verdana',14))"
   ]
  },
  {
   "cell_type": "code",
   "execution_count": null,
   "id": "ec8727d1",
   "metadata": {},
   "outputs": [],
   "source": []
  },
  {
   "cell_type": "code",
   "execution_count": 27,
   "id": "653d466a",
   "metadata": {},
   "outputs": [],
   "source": [
    "btn_equals = Button(root,text='=',bg='#00a65a',fg='white',width=5,height=2,command=get_result)\n",
    "btn_equals.grid(row=4,column=2)\n",
    "btn_equals.config(font=('verdana',14))"
   ]
  },
  {
   "cell_type": "code",
   "execution_count": null,
   "id": "3dd0026a",
   "metadata": {},
   "outputs": [],
   "source": []
  },
  {
   "cell_type": "code",
   "execution_count": 28,
   "id": "74f7d4e5",
   "metadata": {},
   "outputs": [],
   "source": [
    "btn_div = Button(root,text='/',bg='#00a65a',fg='white',width=5,height=2,command=lambda:get_operator('/'))\n",
    "btn_div.grid(row=4,column=3)\n",
    "btn_div.config(font=('verdana',14))"
   ]
  },
  {
   "cell_type": "code",
   "execution_count": null,
   "id": "442b86d0",
   "metadata": {},
   "outputs": [],
   "source": []
  },
  {
   "cell_type": "code",
   "execution_count": 29,
   "id": "5a0bb234",
   "metadata": {},
   "outputs": [],
   "source": [
    "root.mainloop()"
   ]
  },
  {
   "cell_type": "code",
   "execution_count": null,
   "id": "f4d41b84",
   "metadata": {},
   "outputs": [],
   "source": []
  }
 ],
 "metadata": {
  "kernelspec": {
   "display_name": "Python 3 (ipykernel)",
   "language": "python",
   "name": "python3"
  },
  "language_info": {
   "codemirror_mode": {
    "name": "ipython",
    "version": 3
   },
   "file_extension": ".py",
   "mimetype": "text/x-python",
   "name": "python",
   "nbconvert_exporter": "python",
   "pygments_lexer": "ipython3",
   "version": "3.9.12"
  }
 },
 "nbformat": 4,
 "nbformat_minor": 5
}
